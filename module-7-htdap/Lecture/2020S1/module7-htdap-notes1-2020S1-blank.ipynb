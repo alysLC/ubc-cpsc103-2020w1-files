{
 "cells": [
  {
   "cell_type": "markdown",
   "metadata": {},
   "source": [
    "## Analysing VPD Crime Data\n",
    "\n",
    "We've uploaded a tiny portion of the crime data shared by the [Vancouver Police Department](https://vancouver.ca/police/)'s [Open Data initiative](https://geodash.vpd.ca/opendata/). The complete file has well over half a million rows. The portion we uploaded is all crimes labelled as \"break and enter\" (in two variants: commercial and residential) and \"theft of\" (in two variants: vehicle and bicycle) in 2018.\n",
    "\n",
    "You can see our information file in this directory named `crimedata_subset_bne_theft_of_bike_veh_2018.csv`. You can also find the license for this information and a PDF file from VPD describing the information source.\n",
    "\n",
    "Let's see if we can answer the question: At what time of day does crime of various types peak in Vancouver?\n",
    "\n",
    "We'll **start from the project final submission template** to get good practice both on using HtDAP and preparing for the project! (We've edited this slightly to note places where we'll deviate from the project.)"
   ]
  },
  {
   "cell_type": "markdown",
   "metadata": {},
   "source": [
    "### Step 1a: Planning \n",
    "#### Identify the information in the file your program will read\n",
    "\n",
    "Double click this cell to edit."
   ]
  },
  {
   "cell_type": "markdown",
   "metadata": {},
   "source": [
    "### Step 1b: Planning \n",
    "#### Write a description of what your program will produce\n",
    "\n",
    "Double click this cell to edit.\n",
    "\n",
    "You must brainstorm at least three ideas for graphs or charts that your program could produce and choose the one that you'd like to work on. You can choose between a line chart, histogram, bar chart, scatterplot, or pie chart. *Note: we might focus on non-graphs for now, since we're really studying HtDAP rather than the project.*"
   ]
  },
  {
   "cell_type": "markdown",
   "metadata": {},
   "source": [
    "### Step 1c: Planning \n",
    "#### Write or draw examples of what your program will produce\n",
    "\n",
    "Double click this cell to edit. \n",
    "\n",
    "You must include an image that shows what your chart or plot will look like. You can insert an image using the Insert Image command near the bottom of the Edit menu. *Note: we'll practice using the \"insert image\" command just for the fun of it, but we are still not focusing on graphs/charts.*\n",
    "\n",
    "**TODO: sketch a graph of crime over the hours of the day for the various types of crime.**"
   ]
  },
  {
   "cell_type": "markdown",
   "metadata": {},
   "source": [
    "### Step 2a: Building\n",
    "#### Design data definitions\n",
    "\n",
    "Double click this cell to edit.\n",
    "\n",
    "Before you design data definitions in the code cell below, you must explicitly document here which information in the file you chose to represent and why that information is crucial to the chart or graph that you'll produce when you complete step 2c. *Note: we'll skip the \"chart or graph\" part!*"
   ]
  },
  {
   "cell_type": "code",
   "execution_count": null,
   "metadata": {},
   "outputs": [],
   "source": [
    "from cs103 import *\n",
    "from typing import NamedTuple, List\n",
    "import csv\n",
    "\n",
    "##################\n",
    "# Data Definitions\n",
    "\n",
    "Consumed = ...\n",
    "\n",
    "\n",
    "\n",
    "# List[Consumed]\n",
    "# interp. a list of Consumed\n",
    "\n",
    "LOC0 = []\n",
    "\n",
    "@typecheck\n",
    "def fn_for_loc(loc: List[Consumed]) -> ...:\n",
    "    ... # choose which template body to use for List[Consumed]\n"
   ]
  },
  {
   "cell_type": "code",
   "execution_count": null,
   "metadata": {},
   "outputs": [],
   "source": [
    "# Here are some definitions we'll need later on that aren't particularly interesting to work on in class!\n",
    "\n",
    "# List[str]\n",
    "# interp. a list of strings\n",
    "LOS0 = []\n",
    "LOS1 = ['hello', 'world']\n",
    "\n",
    "# template based on arbitrary-sized data\n",
    "@typecheck\n",
    "def fn_for_los(los: List[str]) -> ...:\n",
    "    # description of accumulator\n",
    "    acc = ... # type: ...\n",
    "    \n",
    "    for s in los:\n",
    "        acc = ...(s, acc)\n",
    "        \n",
    "    return ...(acc)\n",
    "\n",
    "\n",
    "# List[int]\n",
    "# interp. a list of integers\n",
    "LOI0 = []\n",
    "LOI1 = [1, -12]\n",
    "\n",
    "# template based on arbitrary-sized data\n",
    "@typecheck\n",
    "def fn_for_loi(loi: List[int]) -> ...:\n",
    "    # description of accumulator\n",
    "    acc = ... # type: ...\n",
    "    \n",
    "    for i in loi:\n",
    "        acc = ...(i, acc)\n",
    "        \n",
    "    return ...(acc)"
   ]
  },
  {
   "cell_type": "markdown",
   "metadata": {},
   "source": [
    "### Step 2b: Building\n",
    "#### Design a function to read the information and store it as data in your program\n",
    "\n",
    "We've split this off into a separate cell so we can finish this in our first week of class in Module 7!"
   ]
  },
  {
   "cell_type": "code",
   "execution_count": null,
   "metadata": {},
   "outputs": [],
   "source": [
    "@typecheck\n",
    "def read(filename: str) -> List[Consumed]:\n",
    "    \"\"\"    \n",
    "    reads information from the specified file and returns ...\n",
    "    \"\"\"\n",
    "    #return []  #stub\n",
    "    # Template from HtDAP\n",
    "    # loc contains the result so far\n",
    "    loc = [] # type: List[Consumed]\n",
    "\n",
    "    with open(filename) as csvfile:\n",
    "        \n",
    "        reader = csv.reader(csvfile)\n",
    "        next(reader) # skip header line\n",
    "\n",
    "        for row in reader:\n",
    "            # you may not need to store all the rows, and you may need\n",
    "            # to convert some of the strings to other types\n",
    "            c = Consumed(row[0], ... ,row[n])\n",
    "            loc.append(c)\n",
    "    \n",
    "    return loc\n",
    "\n",
    "start_testing()\n",
    "\n",
    "# Examples and tests for read\n",
    "expect(..., ...)\n",
    "\n",
    "summary()\n",
    "\n"
   ]
  },
  {
   "cell_type": "markdown",
   "metadata": {},
   "source": [
    "### Step 2c: Building\n",
    "#### Design functions to analyze the data\n",
    "\n",
    "Complete these steps in the code cell below. You will likely want to rename the analyze function so that the function name describes what your analysis function does.\n",
    "\n",
    "\n",
    "**NOTE:** To make this manageable in class, we will provide some finished helper functions with the second week's notes."
   ]
  },
  {
   "cell_type": "code",
   "execution_count": null,
   "metadata": {},
   "outputs": [],
   "source": [
    "###########\n",
    "# Functions\n",
    "\n",
    "@typecheck\n",
    "def main(filename: str) -> ...:\n",
    "    \"\"\"\n",
    "    Reads the file from given filename, analyzes the data, returns the result \n",
    "    \"\"\"\n",
    "    # Template from HtDAP, based on function composition \n",
    "    return analyze(read(filename)) \n",
    "    \n",
    "    \n",
    "\n",
    "\n",
    "@typecheck\n",
    "def analyze(loc: List[Consumed]) -> Produced: \n",
    "    \"\"\" \n",
    "    ... \n",
    "    \"\"\" \n",
    "\n",
    "    return ...\n",
    "\n",
    "\n",
    "start_testing()\n",
    "\n",
    "# Examples and tests for main\n",
    "expect(..., ...)\n",
    "\n",
    "summary()\n",
    "\n",
    "start_testing()\n",
    "\n",
    "# Examples and tests for analyze \n",
    "expect(..., ...) \n",
    "\n",
    "summary()"
   ]
  }
 ],
 "metadata": {
  "kernelspec": {
   "display_name": "Python 3",
   "language": "python",
   "name": "python3"
  },
  "language_info": {
   "codemirror_mode": {
    "name": "ipython",
    "version": 3
   },
   "file_extension": ".py",
   "mimetype": "text/x-python",
   "name": "python",
   "nbconvert_exporter": "python",
   "pygments_lexer": "ipython3",
   "version": "3.7.7"
  }
 },
 "nbformat": 4,
 "nbformat_minor": 2
}
