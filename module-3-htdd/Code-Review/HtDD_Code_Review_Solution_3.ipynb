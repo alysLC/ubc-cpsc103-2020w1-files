{
 "cells": [
  {
   "cell_type": "code",
   "execution_count": null,
   "metadata": {
    "collapsed": true
   },
   "outputs": [],
   "source": [
    "from cs103 import *\n",
    "\n",
    "Middlename = str\n",
    "# interp. a middle name \n",
    "\n",
    "middle_name1 = \"Jessica\"\n",
    "middle_name2 = \"Blue\"\n",
    "\n",
    "@typecheck\n",
    "def fn_for_middle_name(m: Middlename) -> ...:\n",
    "    return ...(m) # template based on Atomic Non-Distinct"
   ]
  }
 ],
 "metadata": {
  "kernelspec": {
   "display_name": "Python 3",
   "language": "python",
   "name": "python3"
  },
  "language_info": {
   "codemirror_mode": {
    "name": "ipython",
    "version": 3
   },
   "file_extension": ".py",
   "mimetype": "text/x-python",
   "name": "python",
   "nbconvert_exporter": "python",
   "pygments_lexer": "ipython3",
   "version": "3.7.6"
  }
 },
 "nbformat": 4,
 "nbformat_minor": 2
}
