{
 "cells": [
  {
   "cell_type": "code",
   "execution_count": 2,
   "metadata": {},
   "outputs": [],
   "source": [
    "from cs103 import *\n",
    "from enum import Enum"
   ]
  },
  {
   "cell_type": "markdown",
   "metadata": {},
   "source": [
    "# Admin Notes\n",
    "Our TAs today: Lauren, Mariposa, and Herman.\n",
    "\n",
    "1. Grades were released for module 1 and 2 worksheets, module 1 and 2 code reviews, and the syllabus quiz. If you strongly feel that your work was graded unfairly the \"CONSIDER RE-GRADE REQUESTS\" section in the Syllabus for information about requesting regrades. The deadline for regrade requests is one week from when we released the grades (Monday May 25 at 10PM).\n",
    "1. Reminder: Last day to drop the class is on May 22.\n",
    "1. Module 3 and 4 this week (Tues/Wed tutorials will be module 3, Thurs/Friday tutorials will be module 4).\n",
    "1. We will continue with randomly generated groups to work on the worksheet. I'll send a message in the \"Everyone\" chat a few minutes before I end the groups to give you time to exchange contact info (if you want to)/wrap up. \n",
    "1. Let us know in the main chat if you want us to pop by your group. Otherwise, we'll periodically stop by to see if anyone has any questions or concerns.\n",
    "\n",
    "After talking to UBC IT, they've recommended a few things to solve some of the technology issues we have been having.\n",
    "1. In the event that you can't rejoin the class after breakout rooms end, rejoin the lecture using this guest link: https://ca.bbcollab.com/guest/f8bed9bccf92496eb19a3d7750fb7e68 (link also posted on Piazza).\n",
    "1. If you can't see the blank version of the lecture notes, try logging out of Jupyter and then logging back in. The blank version of the lecture notes file is set to release at 8AM on the day of lecture so as long as you have logged into Jupyter after 8:15AM on the day of lecture, you should be able to see the file.\n",
    "* A copy of the blank version of the lecture notes is also posted on Canvas in case logging in/out does not work."
   ]
  },
  {
   "cell_type": "markdown",
   "metadata": {},
   "source": [
    "# HtDD Recipe\n",
    "\n",
    "Taken from the \"How to Design Data\" recipe page.\n",
    "\n",
    "1. A data type definition with comments when Python's types aren't specific enough.\n",
    "1. Interpretation comment that describes how this data type relates to the information in a domain.\n",
    "1. Examples of the data.\n",
    "1. Template for a one-argument function operating on data of this type.\n",
    "\n",
    "The purpose of a data definition is to give contextual meaning to a piece of data. We are giving the data some meaning by connecting it with information from a domain (an area of interest like cooking, architecture, psychology, etc.). Both the code and the comments helps connect information in a domain with data in a program- neither is sufficient on its own.\n",
    "\n",
    "![title](img/data_def_domain.png)"
   ]
  },
  {
   "cell_type": "markdown",
   "metadata": {},
   "source": [
    "# HtDF Recipe\n",
    "Here is a summary of our How to Design Functions Recipe. We add this here so we can easily refer to it without flipping back and forth through tabs.\n",
    "\n",
    "1. Write:\n",
    "   1. the typecheck annotation,\n",
    "   2. signature,\n",
    "   3. purpose, and \n",
    "   4. stub (technically, the body of the stub).\n",
    "2. Write examples/tests\n",
    "3. Write or copy the template\n",
    "4. Code the function body\n",
    "5. Test and debug until correct\n"
   ]
  },
  {
   "cell_type": "markdown",
   "metadata": {},
   "source": [
    "# TrafficLight"
   ]
  },
  {
   "cell_type": "code",
   "execution_count": 3,
   "metadata": {},
   "outputs": [
    {
     "name": "stdout",
     "output_type": "stream",
     "text": [
      "\u001b[92m3 of 3 tests passed\u001b[0m\n"
     ]
    }
   ],
   "source": [
    "# definition taken directly from the pre-reading assignment\n",
    "\n",
    "TrafficLight = Enum('TrafficLight', ['red', 'yellow', 'green'])\n",
    "# interp. a traffic light is either red, yellow or green\n",
    "# examples are redundant for enumerations   \n",
    "\n",
    "@typecheck\n",
    "def fn_for_traffic_light(tl: TrafficLight) -> ...:\n",
    "    # template based on Enumeration\n",
    "    if tl == TrafficLight.red:\n",
    "        return ...\n",
    "    elif tl == TrafficLight.yellow:\n",
    "        return ...\n",
    "    elif tl == TrafficLight.green:\n",
    "        return ...\n",
    "    \n",
    "# time to use our HtDF recipe!\n",
    "# Design a function that takes a TrafficLight and produces the next \n",
    "# TrafficLight.\n",
    "@typecheck\n",
    "def next_traffic_light(tl: TrafficLight) -> TrafficLight:\n",
    "    \"\"\"\n",
    "    Determines the next traffic light that should occur after tl.\n",
    "    \"\"\"\n",
    "#     return TrafficLight.red; # stub\n",
    "\n",
    "    # template based on Enumeration (3 cases)\n",
    "    if tl == TrafficLight.red:\n",
    "        return TrafficLight.green\n",
    "    elif tl == TrafficLight.yellow:\n",
    "        return TrafficLight.red\n",
    "    elif tl == TrafficLight.green:\n",
    "        return TrafficLight.yellow\n",
    "\n",
    "start_testing()\n",
    "expect(next_traffic_light(TrafficLight.red), TrafficLight.green)\n",
    "expect(next_traffic_light(TrafficLight.green), TrafficLight.yellow)\n",
    "expect(next_traffic_light(TrafficLight.yellow), TrafficLight.red)\n",
    "summary()"
   ]
  },
  {
   "cell_type": "code",
   "execution_count": 4,
   "metadata": {},
   "outputs": [],
   "source": [
    "# What happens if we call next_traffic_light with \"purple\"?\n",
    "# next_traffic_light(\"purple\") # we get a nice type error that tells us\n",
    "                            # we didn't call the function correctly\n",
    "\n",
    "# What if I make purple a TrafficLight instead?\n",
    "# next_traffic_light(TrafficLight.purple)\n",
    "# An admittedly not beautiful error suggesting that there's no such thing \n",
    "# as a purple traffic light."
   ]
  },
  {
   "cell_type": "markdown",
   "metadata": {},
   "source": [
    "## \"Standing\" Problem\n",
    "\n",
    "Design a function that takes a standing (SD for \"standing deferred\",\n",
    "AUD for \"audit\", and W for \"withdraw\") and determines whether the\n",
    "student is still working on the course where they earned that\n",
    "standing.\n",
    "\n",
    "**To do this**, we'll need a data definition for a standing."
   ]
  },
  {
   "cell_type": "code",
   "execution_count": 5,
   "metadata": {},
   "outputs": [],
   "source": [
    "from enum import Enum\n",
    "\n",
    "Standing = Enum('Standing', ['SD', 'AUD', 'W'])\n",
    "# interp. a student's standing in a course, one of:\n",
    "# SD for standing deferred, AUD for audit, or W for withdraw.\n",
    "\n",
    "# examples are redundant for enumerations (you already know \n",
    "# all the possible values of an enumeration are)\n",
    "\n",
    "# template based on enumeration (3 cases)\n",
    "@typecheck\n",
    "def fn_for_standing(s: Standing) -> ...: \n",
    "    # the name fn_for_standing should ONLY be used for the data definition\n",
    "    # template. It is not a very good (or descriptive) name for\n",
    "    # a function.               \n",
    "    if s == Standing.SD:\n",
    "        return ...\n",
    "    elif s == Standing.AUD:\n",
    "        return ...\n",
    "    elif s == Standing.W:\n",
    "        return ...\n"
   ]
  },
  {
   "cell_type": "markdown",
   "metadata": {},
   "source": [
    "Now we can design the function that takes a standing and \"determines whether the\n",
    "student is still working on the course where they earned that\n",
    "standing.\""
   ]
  },
  {
   "cell_type": "code",
   "execution_count": 6,
   "metadata": {},
   "outputs": [
    {
     "name": "stdout",
     "output_type": "stream",
     "text": [
      "\u001b[92m3 of 3 tests passed\u001b[0m\n"
     ]
    }
   ],
   "source": [
    "@typecheck\n",
    "def still_working(s: Standing) -> bool:\n",
    "    \"\"\"\n",
    "    determines whether the student is still working on the course where\n",
    "    they earned the standing s (True if they're still working, False otherwise)\n",
    "    \"\"\"\n",
    "    #return True  #stub\n",
    "    # template copied from Standing\n",
    "    if s == Standing.SD:\n",
    "        return True\n",
    "    elif s == Standing.AUD:\n",
    "        return False\n",
    "    elif s == Standing.W:\n",
    "        return False\n",
    "    \n",
    "# DON'T combine the elif clauses by using an OR\n",
    "    \n",
    "start_testing()\n",
    "expect(still_working(Standing.SD), True)\n",
    "expect(still_working(Standing.AUD), False)\n",
    "expect(still_working(Standing.W), False)\n",
    "summary()"
   ]
  },
  {
   "cell_type": "markdown",
   "metadata": {},
   "source": [
    "A single data definition usually gets used for many different functions in your program, but we often only have time for one in class, tutorial, and assignments. Let's do a second design here!\n",
    "\n",
    "**Problem:** Design a function that takes a standing (as above) and returns an English explanation of what the standing means.\n",
    "\n",
    "We already have the data definition, which guides our function design. Indeed, the designed function is very similar to the previous one. Finding where it's *different* may tell you a lot about why examples and templates are useful!"
   ]
  },
  {
   "cell_type": "code",
   "execution_count": 7,
   "metadata": {},
   "outputs": [
    {
     "name": "stdout",
     "output_type": "stream",
     "text": [
      "\u001b[92m3 of 3 tests passed\u001b[0m\n"
     ]
    }
   ],
   "source": [
    "@typecheck\n",
    "def describe_standing(s: Standing) -> str:\n",
    "    \"\"\"\n",
    "    returns an English description of s\n",
    "    \"\"\"\n",
    "    #return \"\"  #stub\n",
    "    # template copied from Standing\n",
    "    if s == Standing.SD:\n",
    "        return \"Standing Deferred: awaiting completion of some additional requirement\"\n",
    "    elif s == Standing.AUD:\n",
    "        return \"Auditing: sat in on the course for credit, but not for a grade\"\n",
    "    elif s == Standing.W:\n",
    "        return \"Withdrawn: Withdrew from the course after the add/drop deadline\"\n",
    "\n",
    "start_testing()\n",
    "expect(describe_standing(Standing.SD), \"Standing Deferred: awaiting completion of some additional requirement\")\n",
    "expect(describe_standing(Standing.AUD), \"Auditing: sat in on the course for credit, but not for a grade\")\n",
    "expect(describe_standing(Standing.W), \"Withdrawn: Withdrew from the course after the add/drop deadline\")\n",
    "summary()\n",
    "\n",
    "\n",
    "# Did the tests plus the template basically do all the work of defining the function for us?\n",
    "# Yep, they did. And.. that's great!! :)"
   ]
  },
  {
   "cell_type": "markdown",
   "metadata": {},
   "source": [
    "## Robotic Wheelchair Problem\n",
    "\n",
    "**Problem:** A robotic wheelchair has a sensor that\n",
    "warns if it gets too close to an object. A reading from the sensor is\n",
    "either a distance in centimeters (that is zero or greater) or an error\n",
    "code indicating that no data is presently available. Design a function\n",
    "to determine if a wheelchair is definitely safely out of range of any\n",
    "object (at least 50cm).\n",
    "\n",
    "As before, we need to design a data definition before we can design the function!"
   ]
  },
  {
   "cell_type": "code",
   "execution_count": 8,
   "metadata": {},
   "outputs": [],
   "source": [
    "from typing import Optional\n",
    "\n",
    "Reading = Optional[float]  # in range[0, ...]\n",
    "# interp. a distance in centimeters (that is zero or greater)\n",
    "# or None meaning an error code indicating that no data is\n",
    "# presently available\n",
    "R_ERROR = None\n",
    "R_CLOSE = 2.5\n",
    "R_FAR = 38\n",
    "R_BOUNDARY = 0\n",
    "\n",
    "# template based on optional\n",
    "@typecheck\n",
    "def fn_for_reading(r: Reading) -> ...:\n",
    "    if r is None:\n",
    "        return ...\n",
    "    else:\n",
    "        return ...(r)\n",
    "    "
   ]
  },
  {
   "cell_type": "markdown",
   "metadata": {},
   "source": [
    "Now on to designing the function. Here's the problem statement again:\n",
    "\n",
    "Design a function to determine if a wheelchair is definitely safely out of range of any object (at least 50cm)."
   ]
  },
  {
   "cell_type": "code",
   "execution_count": 9,
   "metadata": {},
   "outputs": [
    {
     "name": "stdout",
     "output_type": "stream",
     "text": [
      "\u001b[92m4 of 4 tests passed\u001b[0m\n"
     ]
    }
   ],
   "source": [
    "@typecheck\n",
    "def is_safe(r: Reading) -> bool:\n",
    "    \"\"\"\n",
    "    determines whether a wheelchair with a sensor reading of r is known to be\n",
    "    safely out of range of any object (at least 50cm away)\n",
    "    \"\"\"\n",
    "    #return True #stub\n",
    "    # template copied from Reading\n",
    "    if r is None:\n",
    "        return False\n",
    "    else:\n",
    "        return r >= 50\n",
    "\n",
    "start_testing()\n",
    "expect(is_safe(None), False)\n",
    "# could also use: expect(is_safe(R_ERROR), False)\n",
    "expect(is_safe(23), False)\n",
    "expect(is_safe(50), True)\n",
    "expect(is_safe(83), True)\n",
    "expect(is_safe(0), False)\n",
    "summary()"
   ]
  }
 ],
 "metadata": {
  "kernelspec": {
   "display_name": "Python 3",
   "language": "python",
   "name": "python3"
  },
  "language_info": {
   "codemirror_mode": {
    "name": "ipython",
    "version": 3
   },
   "file_extension": ".py",
   "mimetype": "text/x-python",
   "name": "python",
   "nbconvert_exporter": "python",
   "pygments_lexer": "ipython3",
   "version": "3.7.7"
  }
 },
 "nbformat": 4,
 "nbformat_minor": 2
}
