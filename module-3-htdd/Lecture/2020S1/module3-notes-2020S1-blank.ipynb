{
 "cells": [
  {
   "cell_type": "code",
   "execution_count": 8,
   "metadata": {},
   "outputs": [],
   "source": [
    "from cs103 import *\n",
    "from enum import Enum"
   ]
  },
  {
   "cell_type": "markdown",
   "metadata": {},
   "source": [
    "# Admin Notes\n",
    "After talking to UBC IT, they've recommended a few things to solve some of the technology issues we have been having.\n",
    "1. In the event that you can't rejoin the class after breakout rooms end, rejoin the lecture using this guest link: https://ca.bbcollab.com/guest/f8bed9bccf92496eb19a3d7750fb7e68 (link also posted on Piazza).\n",
    "1. If you can't see the blank version of the lecture notes, try logging out of Jupyter and then logging back in. The blank version of the lecture notes file is set to release at 8AM on the day of lecture so as long as you have logged into Jupyter after 8:15AM on the day of lecture, you should be able to see the file.\n",
    "* A copy of the blank version of the lecture notes is also posted on Canvas in case logging in/out does not work."
   ]
  },
  {
   "cell_type": "markdown",
   "metadata": {},
   "source": [
    "# TrafficLight"
   ]
  },
  {
   "cell_type": "markdown",
   "metadata": {},
   "source": [
    "# HtDD Recipe\n",
    "\n",
    "Take from the \"How to Design Data\" recipe page. We add this here so we can easily refer back to it without flipping back and forth through tabs.\n",
    "\n",
    "1. A data type definition with comments when Python's types aren't specific enough.\n",
    "1. Interpretation comment that describes how this data type relates to the information in a domain.\n",
    "1. Examples of the data.\n",
    "1. Template for a one-argument function operating on data of this type."
   ]
  },
  {
   "cell_type": "markdown",
   "metadata": {},
   "source": [
    "# HtDF Recipe\n",
    "Here is a summary of our How to Design Functions Recipe. We add this here so we can easily refer to it without flipping back and forth through tabs.\n",
    "\n",
    "1. Write:\n",
    "   1. the typecheck annotation,\n",
    "   2. signature,\n",
    "   3. purpose, and \n",
    "   4. stub (technically, the body of the stub).\n",
    "2. Write examples/tests\n",
    "3. Write or copy the template\n",
    "4. Code the function body\n",
    "5. Test and debug until correct\n"
   ]
  },
  {
   "cell_type": "code",
   "execution_count": 9,
   "metadata": {},
   "outputs": [],
   "source": [
    "# definition taken directly from the pre-reading assignment\n",
    "\n",
    "TrafficLight = Enum('TrafficLight', ['red', 'yellow', 'green'])\n",
    "# interp. a traffic light is either red, yellow or green\n",
    "# examples are redundant for enumerations   \n",
    "\n",
    "@typecheck\n",
    "def fn_for_traffic_light(tl: TrafficLight) -> ...:\n",
    "    # template based on Enumeration\n",
    "    if tl == TrafficLight.red:\n",
    "        return ...\n",
    "    elif tl == TrafficLight.yellow:\n",
    "        return ...\n",
    "    elif tl == TrafficLight.green:\n",
    "        return ..."
   ]
  },
  {
   "cell_type": "markdown",
   "metadata": {},
   "source": [
    "## \"Standing\" Problem\n",
    "\n",
    "Design a function that takes a standing (SD for \"standing deferred\",\n",
    "AUD for \"audit\", and W for \"withdraw\") and determines whether the\n",
    "student is still working on the course where they earned that\n",
    "standing.\n",
    "\n",
    "**To do this**, we'll need a data definition for a standing."
   ]
  },
  {
   "cell_type": "code",
   "execution_count": null,
   "metadata": {},
   "outputs": [],
   "source": []
  },
  {
   "cell_type": "markdown",
   "metadata": {},
   "source": [
    "Now we can design the function that takes a standing and \"determines whether the\n",
    "student is still working on the course where they earned that\n",
    "standing.\""
   ]
  },
  {
   "cell_type": "code",
   "execution_count": null,
   "metadata": {},
   "outputs": [],
   "source": []
  },
  {
   "cell_type": "markdown",
   "metadata": {},
   "source": [
    "A single data definition usually gets used for many different functions in your program, but we often only have time for one in class, tutorial, and assignments. Let's do a second design here!\n",
    "\n",
    "**Problem:** Design a function that takes a standing (as above) and returns an English explanation of what the standing means.\n",
    "\n",
    "We already have the data definition, which guides our function design. Indeed, the designed function is very similar to the previous one. Finding where it's *different* may tell you a lot about why examples and templates are useful!"
   ]
  },
  {
   "cell_type": "code",
   "execution_count": null,
   "metadata": {},
   "outputs": [],
   "source": []
  },
  {
   "cell_type": "markdown",
   "metadata": {},
   "source": [
    "## Robotic Wheelchair Problem\n",
    "\n",
    "**Problem:** A robotic wheelchair has a sensor that\n",
    "warns if it gets too close to an object. A reading from the sensor is\n",
    "either a distance in centimeters (that is zero or greater) or an error\n",
    "code indicating that no data is presently available. Design a function\n",
    "to determine if a wheelchair is definitely safely out of range of any\n",
    "object (at least 50cm).\n",
    "\n",
    "As before, we need to design a data definition before we can design the function!"
   ]
  },
  {
   "cell_type": "code",
   "execution_count": null,
   "metadata": {},
   "outputs": [],
   "source": []
  },
  {
   "cell_type": "markdown",
   "metadata": {},
   "source": [
    "Now on to designing the function. Here's the problem statement again:\n",
    "\n",
    "Design a function to determine if a wheelchair is definitely safely out of range of any object (at least 50cm)."
   ]
  },
  {
   "cell_type": "code",
   "execution_count": null,
   "metadata": {},
   "outputs": [],
   "source": []
  }
 ],
 "metadata": {
  "kernelspec": {
   "display_name": "Python 3",
   "language": "python",
   "name": "python3"
  },
  "language_info": {
   "codemirror_mode": {
    "name": "ipython",
    "version": 3
   },
   "file_extension": ".py",
   "mimetype": "text/x-python",
   "name": "python",
   "nbconvert_exporter": "python",
   "pygments_lexer": "ipython3",
   "version": "3.7.7"
  }
 },
 "nbformat": 4,
 "nbformat_minor": 2
}
