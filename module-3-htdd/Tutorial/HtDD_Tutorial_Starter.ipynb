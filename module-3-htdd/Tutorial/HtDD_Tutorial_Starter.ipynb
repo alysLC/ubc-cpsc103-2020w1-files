{
 "cells": [
  {
   "cell_type": "code",
   "execution_count": null,
   "metadata": {},
   "outputs": [],
   "source": [
    "from cs103 import *\n",
    "from enum import Enum"
   ]
  },
  {
   "cell_type": "markdown",
   "metadata": {},
   "source": [
    "## HtDD Tutorial\n",
    "\n",
    "### Pre-Tutorial Work:\n",
    "\n",
    "- Write the data type definition for Problems 1a and 2. This work will not be graded but is highly recommended as preparation for your tutorial."
   ]
  },
  {
   "cell_type": "markdown",
   "metadata": {},
   "source": [
    "### Problem 1a:\n",
    "\n",
    "Design a data definition to represent a rating that a customer could give a business. The rating can be terrible, poor, fair, good, or excellent.\n",
    "\n",
    "Be sure to follow all steps of the HtDD recipe."
   ]
  },
  {
   "cell_type": "code",
   "execution_count": null,
   "metadata": {},
   "outputs": [],
   "source": [
    "# your solution goes here"
   ]
  },
  {
   "cell_type": "markdown",
   "metadata": {},
   "source": [
    "### Problem 1b:\n",
    "\n",
    "Design a function that takes a rating (from Problem 1) and returns true if the rating is positive.\n",
    "\n",
    "Be sure to follow all steps of the HtDF recipe."
   ]
  },
  {
   "cell_type": "code",
   "execution_count": null,
   "metadata": {},
   "outputs": [],
   "source": [
    "# your solution goes here"
   ]
  },
  {
   "cell_type": "markdown",
   "metadata": {},
   "source": [
    "### Problem 2:\n",
    "\n",
    "Design a data definition to represent the severity of a person's allergy (modelled on the [RAST scale](https://en.wikipedia.org/wiki/Radioallergosorbent_test)). Specifically, a person can have an integer-valued allergy rating of 0 through 6, where 0 is the weakest allergic response and 6 is the strongest **or** their allergic response can be unknown. (That is, the allergy can be a normal integer value or a special value indicating that we don't know their allergic response.)\n",
    "\n",
    "Be sure to follow all steps of the HtDD recipe."
   ]
  },
  {
   "cell_type": "code",
   "execution_count": null,
   "metadata": {},
   "outputs": [],
   "source": [
    "# your solution goes here"
   ]
  },
  {
   "cell_type": "code",
   "execution_count": null,
   "metadata": {
    "deletable": false
   },
   "outputs": [],
   "source": [
    "# Remove the # sign from the beginning of the line with your instructor's name. For example, if you are\n",
    "# in Jessica's class, remove the # from  the line that says INSTRUCTOR_NAME = 'Jessica'. If you are in\n",
    "# in Meghan's class, remove the # from the line that says INSTRUCTOR_NAME = 'Meghan'.\n",
    "\n",
    "# RUN THIS CELL (press the \"Run\" button) AFTER YOU REMOVE THE # SIGN\n",
    "\n",
    "# INSTRUCTOR_NAME = 'Jessica'\n",
    "# INSTRUCTOR_NAME = 'Meghan'"
   ]
  },
  {
   "cell_type": "code",
   "execution_count": null,
   "metadata": {
    "deletable": false,
    "editable": false
   },
   "outputs": [],
   "source": [
    "# NOTE: You should not be able to edit this cell. Just run it to start the process of submiting your code.\n",
    "from cs103 import submit\n",
    "\n",
    "COURSE = 0\n",
    "ASSIGNMENT = 0\n",
    "\n",
    "if(INSTRUCTOR_NAME == 'Jessica'):\n",
    "    COURSE = 50466\n",
    "    ASSIGNMENT = 517934\n",
    "elif(INSTRUCTOR_NAME == 'Meghan'):\n",
    "    COURSE = 48359\n",
    "    ASSIGNMENT = 517992\n",
    "\n",
    "submit(COURSE, ASSIGNMENT)\n",
    "\n",
    "# If your submission fails, check to see that you have specified a value for the INSTRUCTOR_NAME variable in the\n",
    "# cell above AND have run that cell. If you  have done so and your submission is still failing, SUBMIT ANYWAY \n",
    "# by downloading your files and uploading them to Canvas. You can learn how on the page \n",
    "# \"How to submit your Jupyter notebook\" on our Canvas site."
   ]
  }
 ],
 "metadata": {
  "kernelspec": {
   "display_name": "Python 3",
   "language": "python",
   "name": "python3"
  },
  "language_info": {
   "codemirror_mode": {
    "name": "ipython",
    "version": 3
   },
   "file_extension": ".py",
   "mimetype": "text/x-python",
   "name": "python",
   "nbconvert_exporter": "python",
   "pygments_lexer": "ipython3",
   "version": "3.7.7"
  }
 },
 "nbformat": 4,
 "nbformat_minor": 2
}
