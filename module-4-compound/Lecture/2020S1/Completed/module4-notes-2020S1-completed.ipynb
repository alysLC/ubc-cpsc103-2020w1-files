{
 "cells": [
  {
   "cell_type": "code",
   "execution_count": 3,
   "metadata": {},
   "outputs": [],
   "source": [
    "from cs103 import *"
   ]
  },
  {
   "cell_type": "markdown",
   "metadata": {},
   "source": [
    "# Admin Notes\n",
    "Our TAs today: Chantelle, Herman, and Mariposa.\n",
    "\n",
    "1. The regrade request deadline for module 1 and 2 worksheets, module 1 and 2 code reviews, and the syllabus quiz is Monday May 25 at 10PM. Make sure you read the instructions for submitting regrade requests first. We reserve the right to refuse regrade requests that do not have the information we require.\n",
    "1. **Reminder**: Last day to drop the class is on May 22 (Friday).\n",
    "\n",
    "## Test 1 Information\n",
    "1. Test 1 is coming up in one week (May 28th at 6PM). \n",
    "1. Test coverage will be from modules 1 to 4. \n",
    "1. Be sure to look at the sample and previous exams (posted on Canvas under the Exams module) for practice. Make sure to DO the exam BEFORE you look at the solution.\n",
    "1. We will soon have a Piazza post with **REALLY** important information to know about the test. Be sure to read it."
   ]
  },
  {
   "cell_type": "markdown",
   "metadata": {},
   "source": [
    "## Module 4: Information Composed of Many Pieces and Compound Data "
   ]
  },
  {
   "cell_type": "markdown",
   "metadata": {},
   "source": [
    "### Games\n",
    "\n",
    "**Problem:** You're designing software for [boardgamegeek.com](https://boardgamegeek.com/). Design a data\n",
    "definition for a game. Your users need to record the name of the game,\n",
    "the name of the designer, the number of players, and the\n",
    "recommended minimum age to play.\n",
    "\n",
    "*Question* What should we do if the number of players is something like \"a game for 3 to 5 players\"?"
   ]
  },
  {
   "cell_type": "code",
   "execution_count": 6,
   "metadata": {},
   "outputs": [],
   "source": [
    "# Solution here\n",
    "from typing import NamedTuple\n",
    "\n",
    "Game = NamedTuple('Game', [('name', str),\n",
    "                           ('designer', str),\n",
    "                           ('min_num_players', int),  # in range[1,...]\n",
    "                           ('max_num_players', int),  # in range[min_num_players,...]\n",
    "                           ('min_age', int)])         # in range[0,...]\n",
    "# interp. a game with its name, name of the game designer, number of players \n",
    "# (as a range from min_num_players to max_num_players), and minimum age (min_age).\n",
    "G_MYSTERIUM = Game('Mysterium', 'Oleksandr Nevskiy', 2, 7, 10)\n",
    "G_CARCASSONNE = Game('Carcassonne', 'Klaus-Jürgen Wrede', 2, 5, 7)\n",
    "G_PUERTO_RICO = Game('Puerto Rico', 'Andreas Seyfarth', 3, 5, 12)\n",
    "\n",
    "# template based on compound (5 fields)\n",
    "@typecheck\n",
    "def fn_for_game(g: Game) -> ...:\n",
    "    return ...(g.name,\n",
    "               g.designer,\n",
    "               g.min_num_players,\n",
    "               g.max_num_players,\n",
    "               g.min_age)"
   ]
  },
  {
   "cell_type": "markdown",
   "metadata": {},
   "source": [
    "**Problem:** Design a function to determine if it is possible to play a game, when you invite a particular number of friends over."
   ]
  },
  {
   "cell_type": "code",
   "execution_count": 7,
   "metadata": {},
   "outputs": [
    {
     "name": "stdout",
     "output_type": "stream",
     "text": [
      "\u001b[92m6 of 6 tests passed\u001b[0m\n"
     ]
    }
   ],
   "source": [
    "# Solution here\n",
    "\n",
    "@typecheck\n",
    "def can_play(g: Game, num_friends: int) -> bool:\n",
    "    \"\"\"\n",
    "    determine if you plus a group of num_friends friends can play game g    \n",
    "    \"\"\"\n",
    "    #return True  #stub\n",
    "    # copied template from Game w/extra parameter (num_friends)\n",
    "    return g.min_num_players <= num_friends + 1 and g.max_num_players >= num_friends + 1\n",
    "\n",
    "\n",
    "start_testing()\n",
    "\n",
    "# We can use examples above to help us write tests.\n",
    "expect(can_play(G_MYSTERIUM, 3), True)\n",
    "expect(can_play(G_MYSTERIUM, 8), False)\n",
    "expect(can_play(G_CARCASSONNE, 0), False)\n",
    "expect(can_play(G_CARCASSONNE, 1), True)\n",
    "\n",
    "# However, sometimes these tests can be hard to read. Writing out a Game\n",
    "# value right here makes what's going on a bit clearer.\n",
    "expect(can_play(Game('Puerto Rico', 'Andreas Seyfarth', 3, 5, 12), 4), True)\n",
    "expect(can_play(Game('Puerto Rico', 'Andreas Seyfarth', 3, 5, 12), 5), False)\n",
    "summary()"
   ]
  },
  {
   "cell_type": "markdown",
   "metadata": {},
   "source": [
    "### TV Shows\n",
    "\n",
    "**Problem:** You're designing software for a provider of TV streaming. Design a data definition for a TV show. (This provider does not have movies yet.) You need to record the title of the TV show, the number of episodes available, the average time of the episodes in minutes, the year it premiered, and if it is currently active or not."
   ]
  },
  {
   "cell_type": "code",
   "execution_count": 4,
   "metadata": {},
   "outputs": [],
   "source": [
    "from typing import NamedTuple\n",
    "\n",
    "TvShow = NamedTuple('TvShow', [('title', str),\n",
    "                               ('episodes', int), # in range [1, ...]\n",
    "                               ('time', int),     # in range [1, ...]\n",
    "                               ('year', int),     # in range [0, ...]\n",
    "                               ('active', bool)])\n",
    "# interp. A data definition to represent a TV show with a title, \n",
    "# the number of episodes available, the average time of the episodes in minutes,\n",
    "# the year it premiered and if it is currently active or not.\n",
    "\n",
    "TS_ZOEYS = TvShow(\"Zoey's Extraordinary Playlist\", 1, 43, 2020, True)\n",
    "TS_FRIENDS = TvShow(\"Friends\", 236, 22, 1994, False)\n",
    "TS_FLEABAG = TvShow(\"Fleabag\", 12, 25, 2019, False)\n",
    "\n",
    "# Template based on compound (5 fields)\n",
    "@typecheck\n",
    "def fn_for_tv_show(ts: TvShow) -> ...:\n",
    "    return ...(ts.title,\n",
    "               ts.episodes,\n",
    "               ts.time,\n",
    "               ts.year,\n",
    "               ts.active)"
   ]
  },
  {
   "cell_type": "markdown",
   "metadata": {},
   "source": [
    "**Problem:** Design a function to determine if it is possible to watch all available episodes of a TV show... without having the provider ask if you are still awake. Assume it takes 5 hours before the provider checks on you."
   ]
  },
  {
   "cell_type": "code",
   "execution_count": 5,
   "metadata": {},
   "outputs": [
    {
     "name": "stdout",
     "output_type": "stream",
     "text": [
      "\u001b[92m3 of 3 tests passed\u001b[0m\n"
     ]
    }
   ],
   "source": [
    "# Solution here\n",
    "\n",
    "@typecheck\n",
    "def can_binge_watch(ts: TvShow) -> bool:\n",
    "    \"\"\"\n",
    "    returns True if it is possible to watch all available episodes of a TV show\n",
    "    without receiving the message 'are you still awake?' from the provider\n",
    "    (this message appears after 5 hours - 300 minutes - of binge watching)\n",
    "    \"\"\"\n",
    "    #return True  #stub\n",
    "    # copied template from TvShow\n",
    "    return ts.time * ts.episodes <= 5*60\n",
    "\n",
    "\n",
    "start_testing()\n",
    "expect(can_binge_watch(TS_FRIENDS), False)\n",
    "expect(can_binge_watch(TS_ZOEYS), True)\n",
    "\n",
    "# JUST on the boundary:\n",
    "expect(can_binge_watch(TvShow(\"Fleabag\", 12, 25, 2019, False)), True)\n",
    "summary()"
   ]
  },
  {
   "cell_type": "markdown",
   "metadata": {},
   "source": [
    "### Bonus Out-of-Class Example, Artist: Compound or Enumeration?\n",
    "\n",
    "Our artist question asks you to represent \"an artist's family name,\n",
    "given name, birthplace, and art form (e.g., oil painting, sculpture,\n",
    "dance)\".\n",
    "\n",
    "What does one value of this type look like? Let's use [Georgia O'Keeffe](https://en.wikipedia.org/wiki/Georgia_O'Keeffe)\n",
    "(the painter, born in Wisconsin) as our example. We'll try solving the\n",
    "problem first with a compound and then with an enumeration and then\n",
    "try to represent O'Keeffe."
   ]
  },
  {
   "cell_type": "code",
   "execution_count": 6,
   "metadata": {},
   "outputs": [],
   "source": [
    "# Version 1: compound (the best design)\n",
    "from typing import NamedTuple\n",
    "\n",
    "Artist = NamedTuple('Artist', [('family_name', str),\n",
    "                               ('given_name', str),\n",
    "                               ('birthplace', str),\n",
    "                               ('art_form', str)])\n",
    "# interp. an artist with their family name, given name, place of birth,\n",
    "#         and the art form they were best known for.\n",
    "A_MONET = Artist('Monet', 'Claude', 'Paris', 'pastels')\n",
    "A_KARA = Artist('Nook', 'Kara', 'Nook Isle', 'finger painting')\n",
    "\n",
    "@typecheck\n",
    "# template based on compound (4 fields)\n",
    "def fn_for_artist(a: Artist) -> ...:\n",
    "    return ...(a.family_name,\n",
    "               a.given_name,\n",
    "               a.birthplace,\n",
    "               a.art_form)\n",
    "\n",
    "georgia = Artist(\"O'Keeffe\", \"Georgia\", \"Wisconsin\", \"paintings\")"
   ]
  },
  {
   "cell_type": "code",
   "execution_count": 7,
   "metadata": {},
   "outputs": [],
   "source": [
    "# Version 2: enumeration (INCORRECT design)\n",
    "from enum import Enum\n",
    "\n",
    "Artist = Enum('Artist', ['family_name', 'given_name', 'birthplace', 'art_form'])\n",
    "# interp. an aspect of an artist, one of their family name, their given name\n",
    "# their birthplace, or their art form.\n",
    "# Examples are redundant for enumerations.\n",
    "\n",
    "\n",
    "# template based on enumeration (4 cases)\n",
    "@typecheck\n",
    "def fn_for_artist(a: Artist) -> ...:\n",
    "    if a == Artist.family_name:\n",
    "        return ...\n",
    "    elif a == Artist.given_name:\n",
    "        return ...\n",
    "    elif a == Artist.birthplace:\n",
    "        return ...\n",
    "    elif a == Artist.art_form:\n",
    "        return ...\n",
    "\n",
    "# Georgia O'Keeffe is not a family name. \n",
    "# She's not a given name. \n",
    "# She's not a birthplace.\n",
    "# She's not an art form.\n",
    "# This type just cannot represent her.\n",
    "# It could represent \"which aspect of an artist\" we're interested in.\n",
    "georgia = ...  "
   ]
  },
  {
   "cell_type": "code",
   "execution_count": 8,
   "metadata": {},
   "outputs": [],
   "source": [
    "# Version 3: simple atomic (likely a poor design, if not entirely incorrect)\n",
    "\n",
    "Artist = str\n",
    "# interp. an artist with their family name then given name followed by \"born in\"\n",
    "# and their birthplace and \"known for\" and their art form.\n",
    "A_MONET = 'Monet Claude born in Paris known for pastels'\n",
    "A_KARA = 'Nook Kara born in Nook Isle known for finger painting'\n",
    "\n",
    "@typecheck\n",
    "# template based on atomic non-distinct\n",
    "def fn_for_artist(a: Artist) -> ...:\n",
    "    return ...(a)\n",
    "\n",
    "\n",
    "georgia = \"O'Keeffe Georgia born in Wisconsin known for paintings\"\n",
    "\n",
    "# That has all the information we want to represent inside, but does it\n",
    "# really fit our intended structure for the information? Imagine you\n",
    "# simply wanted to design a function to return where a given artist was\n",
    "# born. How difficult will that be to design? How much help does the\n",
    "# data definition give you in that task?\n",
    "\n",
    "# Sometimes we have to suffer through this kind of design choice when\n",
    "# the language doesn't support our intentions. Happily, NamedTuple in\n",
    "# Python DOES support our intent in this problem!"
   ]
  }
 ],
 "metadata": {
  "kernelspec": {
   "display_name": "Python 3",
   "language": "python",
   "name": "python3"
  },
  "language_info": {
   "codemirror_mode": {
    "name": "ipython",
    "version": 3
   },
   "file_extension": ".py",
   "mimetype": "text/x-python",
   "name": "python",
   "nbconvert_exporter": "python",
   "pygments_lexer": "ipython3",
   "version": "3.7.7"
  }
 },
 "nbformat": 4,
 "nbformat_minor": 4
}
