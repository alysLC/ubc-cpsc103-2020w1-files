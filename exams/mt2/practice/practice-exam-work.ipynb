{
 "cells": [
  {
   "cell_type": "markdown",
   "metadata": {
    "deletable": false,
    "editable": false
   },
   "source": [
    "# Exam Rules\n",
    "\n",
    "We divide the rules into two parts: The part specific to CPSC 103 that you need to read, and UBC's recommended rules for students to agree to.\n",
    "\n",
    "## The Part We Absolutely Need You to Read\n",
    "\n",
    "### Your Work Is Your Own\n",
    "\n",
    "Your work on the exam must be **your own individual work**. You may not discuss the exam in any way with anyone outside of the course staff for CPSC 103.\n",
    "\n",
    "If you get (or give!) assistance from someone who is not CPSC 103 course staff on the CPSC 103 exam, you should expect a grade of 0 on your exam and an academic misconduct case against you.\n",
    "\n",
    "**Possible exception:** We are switching to online exams in crisis mode. If you have technical issues *with the online format*, you should ask those of the CPSC 103 course staff. In an emergency you may ask assistance from someone else **ONLY** on such technical issues. You **MUST** acknowledge that person by name with their contribution in the cell below. **DO NOT** take (or give) any assistance on the content of the exam as part of this emergency assistance, not even help reading the questions.\n",
    "\n",
    "### Respect Your Classmates' Lecture Time\n",
    "\n",
    "Do not access Syzygy/Jupyter during the other section's registered time (12:30-2 if you are in the 3:30-5 section; 3:30-5 if you are in the 12:30-2 section). If possible, complete and submit your exam during your lecture timeslot.\n",
    "\n",
    "### You May Use CPSC 103 Resources on Canvas, Syzygy/Jupyter, and Piazza\n",
    "\n",
    "You have access to all our term's content on Canvas, Syzygy/Jupyter, and Piazza. That includes, for example, our design recipes.\n",
    "\n",
    "However, Piazza will be closed to new posts during the exam. To ask a question, go to the office hours and help sessions room in Collaborate Ultra at https://canvas.ubc.ca/courses/35980/external_tools/5284, \"raise your hand\", and wait for a course staff member to chat privately with you.\n",
    "\n",
    "### Submission Format and Deadline\n",
    "\n",
    "You must download your Jupyter Notebook as a Python (.py) file and submit it on gradescope (https://www.gradescope.ca/courses/46) to receive credit for the exam. Full credit is available only for submissions completed by 8PM. We accept late submissions at a deduction of 2.5% point per hour (or portion of an hour) up to four hours later (midnight). (The exam is pass/fail; so, the grade deduction simply makes it harder to earn a \"pass\".)\n",
    "\n",
    "Instructions on submitting the exam are at the end of this file.\n",
    "\n",
    "## The Other Part You Are Agreeing To\n",
    "\n",
    "I hereby pledge that I have read and will abide by the rules, regulations, and expectations set out in the Academic Calendar, with particular attention paid to:\n",
    "1. The Student Declaration (http://www.calendar.ubc.ca/vancouver/index.cfm?tree=3,285,0,0)\n",
    "2. The Academic Honesty and Standards http://www.calendar.ubc.ca/vancouver/index.cfm?tree=3,286,0,0\n",
    "3. The Student Conduct During Examinations http://www.calendar.ubc.ca/vancouver/index.cfm?tree=3,41,90,0\n",
    "4. The special rules for conduct as set out above, and any additional rules set out by the examiner during the exam period.\n",
    "\n",
    "I affirm that I will not give or receive any unauthorized help on this examination, that all work will be my own, and that I will abide by any special rules for conduct set out by the examiner."
   ]
  },
  {
   "cell_type": "raw",
   "metadata": {},
   "source": [
    "You are REQUIRED to agree to these exam rules to participate in the exam.\n",
    "\n",
    "Submitting your exam to gradescope indicates your agreement with these rules.\n",
    "\n",
    "If you received emergency technical assistance (see rules on that above), acknowledge everyone who gave it here in this format:\n",
    "+ NAME OF PERSON PROVIDING ASSISTANCE, RELATIONSHIP OF THAT PERSON TO YOU, NATURE OF ASSISTANCE GIVEN"
   ]
  },
  {
   "cell_type": "markdown",
   "metadata": {
    "deletable": false,
    "editable": false
   },
   "source": [
    "# IMPORTANT NOTE ON OUR ONLINE EXAMS\n",
    "\n",
    "Your online exam work will be in Jupyter to make it easy and comfortable to type out your code (and to download it as a \"Python (.py)\" file for submission), but **DO NOT EXPECT EVERYTHING TO RUN**.\n",
    "\n",
    "First, we will supply various helper functions as simple stubs and you will supply csv \"files\" as markdown inside this file; so, your code will not run correctly. Second, your focus and emphasis should be on **following our design process**, just as in on-paper exams, and not on perfection.\n",
    "\n",
    "Also, as always, **THROUGHOUT the exam:** If we ask you to design a solution, we mean to design it using the appropriate design recipes (i.e., HtDF, HtDD, or both) taught in CPSC 103."
   ]
  },
  {
   "cell_type": "code",
   "execution_count": null,
   "metadata": {
    "deletable": false,
    "editable": false
   },
   "outputs": [],
   "source": [
    "from cs103 import *\n",
    "from enum import Enum\n",
    "from typing import List, NamedTuple, Optional\n",
    "import csv"
   ]
  },
  {
   "cell_type": "markdown",
   "metadata": {},
   "source": [
    "# Practice Exam"
   ]
  },
  {
   "cell_type": "markdown",
   "metadata": {
    "deletable": false,
    "editable": false
   },
   "source": [
    "The following problems are about *Piazza posts with endorsements* with file structure and data definitions adapted from the exam preparation material. Changes are noted in **_bold italics_** below.\n",
    "\n",
    "Information about Piazza questions is available in a CSV file in a format like the following:\n",
    "\n",
    "| QID | Question           | I Ans               | S Ans                   | Endorse |\n",
    "|-----|--------------------|---------------------|-------------------------|---------|\n",
    "|   2 | What is 6 x 9?     | It’s 54.            | 42                      | SSISI   |\n",
    "|  73 | How is everything? | Everything is fine. | No it’s not.            |         |\n",
    "|   5 | Huh?               |                     | Can you please clarify? | SS      |\n",
    "\n",
    "**_Note: Compared to the prep material, the `I Ans` column has been moved left and the format/contents of `I Ans` and `S Ans` have been changed._**\n",
    "\n",
    "Each row has:\n",
    "+ The question ID (a positive number, where no two questions have the same number)\n",
    "+ The text of the question\n",
    "+ The text of the instructor answer (if any, blank otherwise)\n",
    "+ The text of the student answer (if any, blank otherwise)\n",
    "+ The endorsements given to the student answer. This is a series of letters either `S` or `I`, each representing an endorsement by a student (S) or instructor (I) in the order they were given. If there is no student answer, there cannot be any endorsements.\n",
    "So, the student answer to question 2 above was endorsed by two students, then an instructor, then another student, and finally another instructor.\n",
    "\n",
    "We are interested in the question ID, whether the question has a student answer, **_the number of endorsements of the student answer_**, and whether the question has an instructor answer. We represent them with these data definitions:"
   ]
  },
  {
   "cell_type": "code",
   "execution_count": null,
   "metadata": {},
   "outputs": [],
   "source": [
    "Question = NamedTuple('Question', [('number', int),       # in range [1, ...]\n",
    "                                   ('has_s_answer', bool),\n",
    "                                   ('num_endorse', bool),\n",
    "                                   ('has_i_answer', bool)])\n",
    "# interp. a Piazza question with its number (no two questions in a course \n",
    "# have the same number), whether it has a student answer (has_s_answer), \n",
    "# the number of endorsements that answer has received (num_endorse; 0 if \n",
    "# there is no student answer), and whether it has an instructor answer \n",
    "# (has_i_answer).\n",
    "Q1 = Question(1, True, True, True)\n",
    "Q2 = Question(19, False, False, False)\n",
    "\n",
    "@typecheck   # template based on compound (4 fields)\n",
    "def fn_for_question(q: Question) -> ...:\n",
    "    return ...(q.number, q.has_s_answer, q.is_endorsed, q.has_i_answer)\n",
    "\n",
    "# List[Question]\n",
    "# interp. a list of Piazza questions\n",
    "LOQ0 = []\n",
    "LOQ1 = [Q1, Q2]\n",
    "\n",
    "# template based on arbitrary-sized and reference rule (Question)\n",
    "@typecheck\n",
    "def fn_for_loq(loq: List[Question]) -> ...:\n",
    "    # description of accumulator\n",
    "    acc = ...   # type: ...\n",
    "    \n",
    "    for q in loq:\n",
    "        acc = ...(acc, fn_for_question(q))\n",
    "        \n",
    "    return ...(acc)"
   ]
  },
  {
   "cell_type": "markdown",
   "metadata": {
    "deletable": false,
    "editable": false
   },
   "source": [
    "## Problem 1 (worth TODO marks)\n",
    "\n",
    "We changed the name of the attribute `is_endorsed` in the `Question` data type definition above to `num_endorse` and correctly updated its description in the `Question` interpretation. Neatly edit the code above to change everything else in the `Question` data definition that should also change as a result."
   ]
  },
  {
   "cell_type": "markdown",
   "metadata": {
    "deletable": false,
    "editable": false
   },
   "source": [
    "## Problem 2 (worth TODO marks)\n",
    "\n",
    "Now, **neatly edit the `read` template below and add tests** to complete a function design to read csv files in this format into a `List[Question]`. Complete **all design steps**, including **fully** designing any required helper functions!\n",
    "\n",
    "Be careful as the file's format and column ordering does not always nicely match our data definitions!"
   ]
  },
  {
   "cell_type": "markdown",
   "metadata": {},
   "source": [
    "Assume the table above is available in a file named `test_given.csv`. If you need additional test files:\n",
    "1. double-click this markdown cell,\n",
    "2. add them as they would be in a csv file with triple-backquotes around them, and\n",
    "3. indicate their file names.\n",
    "\n",
    "For example, here is a blank test file you can also use:\n",
    "\n",
    "```\n",
    "File test_empty.csv contains:\n",
    "\n",
    "QID,Question,I Ans,S Ans,Endorse\n",
    "```\n",
    "\n",
    "Put any additional test files below:"
   ]
  },
  {
   "cell_type": "code",
   "execution_count": null,
   "metadata": {},
   "outputs": [],
   "source": [
    "@typecheck\n",
    "def read(filename: str) -> List[Consumed]:\n",
    "    \"\"\"    \n",
    "    reads information from the specified file and returns ...\n",
    "    \"\"\"\n",
    "    # return []  #stub\n",
    "    # Template from HtDAP\n",
    "\n",
    "    # loc contains the result so far\n",
    "    loc = [] # type: List[Consumed]\n",
    "\n",
    "    with open(filename) as csvfile:\n",
    "\n",
    "        reader = csv.reader(csvfile)\n",
    "        next(reader) # skip header line\n",
    "\n",
    "        for row in reader:\n",
    "            # you may not need to store all the rows, and you may need\n",
    "            # to convert some of the strings to other types\n",
    "            c = Consumed(row[0], ... ,row[n])\n",
    "            loc.append(c)\n",
    "\n",
    "    return loc\n",
    "\n",
    "\n",
    "start_testing()\n",
    "expect(..., ...)\n",
    "summary()"
   ]
  },
  {
   "cell_type": "markdown",
   "metadata": {
    "deletable": false,
    "editable": false
   },
   "source": [
    "## Problem 3 (worth TODO marks)\n",
    "\n",
    "Now, **complete the design of the `get_pri_q_urls` function below** (tests, body, and any helper functions not already available for your use). You may not change the provided signature, purpose, stub, or how the function is templated. (I.e., you must use the `List[Question]` template.)\n",
    "\n",
    "You should assume the `get_priority` and `str` functions that are just stubs below are complete, correct, and available for your use. **DO NOT** complete the `get_priority` and `str` functions as part of this problem."
   ]
  },
  {
   "cell_type": "code",
   "execution_count": null,
   "metadata": {
    "deletable": false,
    "editable": false
   },
   "outputs": [],
   "source": [
    "## ASSUME that:\n",
    "## + CS103_PIAZZA contains the start of question web addresses (URLs) on Piazza\n",
    "## + get_priority and str are CORRECT AND COMPLETE and available for your use.\n",
    "##\n",
    "## DO NOT complete these functions as part of the work for this problem.\n",
    "\n",
    "CS103_PIAZZA = \"...\"  # DO NOT CORRECT MY VALUE\n",
    "\n",
    "@typecheck\n",
    "def get_priority(q: Question) -> int:\n",
    "    \"\"\"\n",
    "    return the priority of q (how urgently it needs attention, where higher is more urgent).\n",
    "    Note: no student and no instructor answer results in the highest priority: 4;\n",
    "    no instructor answer but a student answer with no endorsements gives priority: 3;\n",
    "    no instructor answer but a student answer with endorsements gives priority: 2;\n",
    "    otherwise there is an instructor answer, and the priority is 1.\n",
    "    \"\"\"\n",
    "    return 0  #stub\n",
    "    ## DO NOT COMPLETE ME\n",
    "\n",
    "@typecheck\n",
    "def str(i: int) -> str:\n",
    "    \"\"\"\n",
    "    return i as a string. E.g., str(7) is \"7\".\n",
    "    \"\"\"\n",
    "    return \"\"   #stub\n",
    "    ## DO NOT COMPLETE ME"
   ]
  },
  {
   "cell_type": "code",
   "execution_count": null,
   "metadata": {},
   "outputs": [],
   "source": [
    "## TODO: complete the design of get_pri_q_urls, without changing the \n",
    "## existing signature, purpose, or stub. Use the List[Question] template.\n",
    "@typecheck\n",
    "def get_pri_q_urls(loq: List[Question], pri: int) -> List[str]:\n",
    "    \"\"\"\n",
    "    return the URLs of all questions in loq with priority of pri or more.\n",
    "    \n",
    "    Note:\n",
    "    + pri is in the range [1, 4] (the only legal priority values)\n",
    "    + the URL of a question is the string stored in CS103_PIAZZA\n",
    "      followed by the question number. For example for question\n",
    "      number 12, the URL is: CS103_PIAZZA + str(12)\n",
    "    \"\"\"\n",
    "    return []  #stub\n",
    "    # template from List[Question] w/addl parameter pri\n",
    "    \n",
    "\n",
    "start_testing()\n",
    "expect(..., ...)\n",
    "summary()"
   ]
  },
  {
   "cell_type": "markdown",
   "metadata": {
    "deletable": false,
    "editable": false
   },
   "source": [
    "## Problem 4 (worth TODO marks)\n",
    "\n",
    "Now, **complete JUST THE BODY of the alternate implementation of the `get_pri_q_urls` function below**. It has the same signature, purpose, and stub as above. You may not change how the function is templated. In particular, you must **follow the composition plan provided**. Do **not** supply tests, since you already supplied them above.\n",
    "\n",
    "You should assume the `prepend_strings` function that is just a stub below is complete, correct, and available for your use. **DO NOT** complete the `prepend_strings` function as part of this problem.\n",
    "\n",
    "Otherwise, **where you need a helper function, design only its signature, purpose, and stub in the same cell as `prepend_strings` and then assume like `prepend_strings` that it is complete and correct.**"
   ]
  },
  {
   "cell_type": "code",
   "execution_count": null,
   "metadata": {},
   "outputs": [],
   "source": [
    "## ASSUME that:\n",
    "## + CS103_PIAZZA contains the start of question web addresses (URLs) on Piazza\n",
    "## + prepend_strings--and any functions whose signatures, purposes, and stubs\n",
    "##   you add here--are CORRECT AND COMPLETE and available for your use\n",
    "\n",
    "CS103_PIAZZA = \"...\"  # DO NOT CORRECT MY VALUE\n",
    "\n",
    "## TODO: add here any signatures, purposes, and stubs for any helper\n",
    "##       functions required by your get_pri_q_urls design below.\n",
    "\n",
    "@typecheck\n",
    "def prepend_strings(los: List[str], s: str) -> List[str]:\n",
    "    \"\"\"\n",
    "    returns the result of adding s to the start of each string in los\n",
    "    (i.e., \"prepending\" s to each string)\n",
    "    \"\"\"\n",
    "    return los  #stub\n",
    "    ## DO NOT COMPLETE ME"
   ]
  },
  {
   "cell_type": "code",
   "execution_count": null,
   "metadata": {},
   "outputs": [],
   "source": [
    "## TODO: complete the design of get_pri_q_urls, without changing\n",
    "## the existing signature, purpose, or stub. Use the provided \n",
    "## composition plan. \n",
    "##\n",
    "## DO NOT FORGET to design signatures, purposes, and stubs for any\n",
    "## new helpers in the cell above.\n",
    "@typecheck\n",
    "def get_pri_q_urls(loq: List[Question], pri: int) -> List[str]:\n",
    "    \"\"\"\n",
    "    return the URLs of all questions in loq with priority of pri or more.\n",
    "    \n",
    "    Note:\n",
    "    + pri is in the range [1, 4] (the only legal priority values)\n",
    "    + the URL of a question is the string stored in CS103_PIAZZA\n",
    "      followed by the question number. For example for question\n",
    "      number 12, the URL is: CS103_PIAZZA + str(12)\n",
    "    \"\"\"\n",
    "    return []  #stub\n",
    "    # template from composition\n",
    "    # Plan:\n",
    "    # 1) filter to questions with a high enough priority, \n",
    "    # 2) get the questions numbers, \n",
    "    # 3) convert them to strings, and\n",
    "    # 4) convert those strings to URLs.\n",
    "    # NOTE: FOR FULL CREDIT, step 4 must use prepend_strings.\n",
    "\n",
    "    \n",
    "start_testing()\n",
    "## DO NOT ADD TESTS. You should assume they are already complete.\n",
    "summary()"
   ]
  },
  {
   "cell_type": "markdown",
   "metadata": {
    "deletable": false,
    "editable": false
   },
   "source": [
    "## Problem 5 (worth TODO marks)\n",
    "\n",
    "**Complete the design of the graphing function below.** Ensure that the produced graph has a good title and axis labels and remember to complete all remaining steps of the HtDF recipe including tests.\n",
    "\n",
    "**DO NOT insert images into this file as we will not see them in grading.** (Sorry! You have to describe graphs in English rather than sketching them.)\n",
    "\n",
    "You should assume the `get_pri_percents` and `get_percent` functions that are just stubs below are complete, correct, and available for your use. **DO NOT** complete the `get_pri_percents` and `get_percent` functions as part of this problem."
   ]
  },
  {
   "cell_type": "code",
   "execution_count": null,
   "metadata": {
    "deletable": false,
    "editable": false
   },
   "outputs": [],
   "source": [
    "## ASSUME that: get_pri_percents and get_percent are \n",
    "## CORRECT AND COMPLETE and available for your use.\n",
    "##\n",
    "## DO NOT complete these functions as part of the work for this problem.\n",
    "\n",
    "@typecheck\n",
    "def get_pri_percents(pris: List[int], loq: List[Question]) -> List[float]:\n",
    "    \"\"\"\n",
    "    returns the percentages of questions in loq that are of each \n",
    "    priority in pris or higher; percentages are 0 if loq is empty\n",
    "    \"\"\"\n",
    "    return []   #stub\n",
    "    ## DO NOT COMPLETE ME\n",
    "\n",
    "@typecheck\n",
    "def get_percent(value: int, total: int) -> float:\n",
    "    \"\"\"\n",
    "    returns value as a percent of total, returning 0 if total is 0\n",
    "    \"\"\"\n",
    "    return 0.0   #stub\n",
    "    ## DO NOT COMPLETE ME"
   ]
  },
  {
   "cell_type": "code",
   "execution_count": null,
   "metadata": {},
   "outputs": [],
   "source": [
    "## TODO: complete the design of graph_q_pris, without changing the\n",
    "## existing signature, purpose, stub, or template comment.\n",
    "\n",
    "@typecheck\n",
    "def graph_q_pris(loq: List[Question]) -> None:\n",
    "    \"\"\"\n",
    "    Draws a line chart showing the percentage of questions at or above each \n",
    "    priority level 1, 2, 3, and 4. The percentage is defined to be 0 if there are \n",
    "    no questions. (The line will always have exactly four points with x values 1, \n",
    "    2, 3, and 4. As it happens, point 1 will always be at 100, unless there are no \n",
    "    questions, since all questions have priority 1 or more.)\n",
    "    \"\"\"\n",
    "    return None  #stub\n",
    "    # template from viz\n",
    "\n",
    "    \n",
    "start_testing()\n",
    "\n",
    "# DO NOT insert images into this file as we will not see them in grading.\n",
    "# You will have to describe the expected graph in English instead :(\n",
    "expect(..., ...)\n",
    "summary()"
   ]
  },
  {
   "cell_type": "markdown",
   "metadata": {
    "deletable": false,
    "editable": false
   },
   "source": [
    "## Now Submit\n",
    "\n",
    "First, go back and be sure you've completed each step we've asked for in each design **AND** acknowledged the exam rules at the top.\n",
    "\n",
    "(Common steps to forget include tests, where we require them, and however much we ask for you to complete of helper functions you call.)\n",
    "\n",
    "To submit the exam:\n",
    "\n",
    "1. Click the `File` menu, go to the `Download as` submenu, and select `Python (.py)`. This will download your exam work to your computer as a Python file, i.e., one ending in `.py`.\n",
    "2. Log in to gradescope with the same account you used to access Midterm 1. (If you don't recall your account, check out https://piazza.com/class/k4acympiwak4u?cid=359.)\n",
    "3. Click the Practice Exam \"assignment\". **_For the actual midterm, the assignment will be named \"Midterm 2\"._**\n",
    "4. You should immediately see a window in which to upload your exam submission.\n",
    "5. Either click the box and find your `.py` file or drag-and-drop your `.py` file into the box.\n",
    "6. Click the \"Upload\" button.\n",
    "7. Review your submission. Click the \"Code\" button in the viewing window. You should be able to see your submission. Your markdown cells' contents will appear as comments but should still be readable. Be sure it is the right submission!!\n",
    "\n",
    "If you need to resubmit, follow the same steps except that after clicking the \"assignment\", you will click the \"Resubmit\" button in the lower-right before seeing the window in which to upload your submission."
   ]
  }
 ],
 "metadata": {
  "kernelspec": {
   "display_name": "Python 3",
   "language": "python",
   "name": "python3"
  },
  "language_info": {
   "codemirror_mode": {
    "name": "ipython",
    "version": 3
   },
   "file_extension": ".py",
   "mimetype": "text/x-python",
   "name": "python",
   "nbconvert_exporter": "python",
   "pygments_lexer": "ipython3",
   "version": "3.7.6"
  }
 },
 "nbformat": 4,
 "nbformat_minor": 4
}
