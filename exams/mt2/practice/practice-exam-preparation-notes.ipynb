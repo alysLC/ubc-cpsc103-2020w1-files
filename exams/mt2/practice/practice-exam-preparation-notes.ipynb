{
 "cells": [
  {
   "cell_type": "markdown",
   "metadata": {},
   "source": [
    "# IMPORTANT NOTE ON OUR ONLINE EXAMS\n",
    "\n",
    "Your online exam work will be in Jupyter to make it easy and comfortable to type out your code (and to download it as a \"Python (.py)\" file for submission), but **DO NOT EXPECT EVERYTHING TO RUN**.\n",
    "\n",
    "First, we will supply various helper functions as simple stubs; so, neither they nor your functions that use them will run correctly regardless. Second, your focus and emphasis should be on **following our design process**, just as in on-paper exams, and not on perfection.\n",
    "\n",
    "Also, as always, **THROUGHOUT the exam:** If we ask you to design a solution, we mean to design it using the appropriate design recipes (i.e., HtDF, HtDD, or both) taught in CPSC 103."
   ]
  },
  {
   "cell_type": "code",
   "execution_count": 1,
   "metadata": {},
   "outputs": [],
   "source": [
    "from cs103 import *\n",
    "from enum import Enum\n",
    "from typing import List, NamedTuple, Optional\n",
    "import csv"
   ]
  },
  {
   "cell_type": "markdown",
   "metadata": {},
   "source": [
    "# PRACTICE Exam Preparation Notes\n",
    "\n",
    "**Information from Piazza Posts with Endorsements**\n",
    "\n",
    "> **PRACTICE NOTE:** The actual exam preparation documents will be extremely similar to this exam preparation document and bear a similar relationship to their corresponding actual exams. The practice exam will be extremely similar in structure and style to the actual exams.\n",
    "\n",
    "Several questions on your exam will be based on a modified version of the following domain and data definitions related to *Piazza posts with endorsements*.\n",
    "\n",
    "Information about Piazza questions is available in a CSV file in a format like the following:\n",
    "\n",
    "| QID | Question           | S Ans | Endorse | I Ans |\n",
    "|-----|--------------------|-------|---------|-------|\n",
    "|   2 | What is 6 x 9?     | Yes   | SSISI   | Yes   |\n",
    "|  73 | How is everything? | Yes   |         | Yes   |\n",
    "|   5 | Huh?               | Yes   | SS      | No    |\n",
    "\n",
    "Each row has:\n",
    "+ The question ID (a positive number, where no two questions have the same number)\n",
    "+ The text of the question\n",
    "+ Whether a student has answered (always `Yes` or `No`)\n",
    "+ The endorsements given to the student answer. This is a series of letters either `S` or `I`, each representing an endorsement by a student (S) or instructor (I) in the order they were given. If there is no student answer, there cannot be any endorsements. So, the student answer to question 2 above was endorsed by two students, then an instructor, then another student, and finally another instructor.\n",
    "+ Whether an instructor has answered (always `Yes` or `No`)\n",
    "\n",
    "We are interested in the question ID, whether the question has a student answer, whether the student answer has been endorsed, and whether the question has an instructor answer. We represent them with these data definitions:"
   ]
  },
  {
   "cell_type": "code",
   "execution_count": 3,
   "metadata": {},
   "outputs": [],
   "source": [
    "Question = NamedTuple('Question', [('number', int),       # in range [1, ...]\n",
    "                                   ('has_s_answer', bool),\n",
    "                                   ('is_endorsed', bool),\n",
    "                                   ('has_i_answer', bool)])\n",
    "# interp. a Piazza question with its number (no two questions in a course \n",
    "# have the same number), whether it has a student answer (has_s_answer), \n",
    "# whether that answer has been endorsed (is_endorsed; False if there is no\n",
    "# student answer), and whether it has an instructor answer (has_i_answer).\n",
    "Q1 = Question(1, True, True, True)\n",
    "Q2 = Question(19, False, False, False)\n",
    "\n",
    "@typecheck   # template based on compound (4 fields)\n",
    "def fn_for_question(q: Question) -> ...:\n",
    "    return ...(q.number, q.has_s_answer, q.is_endorsed, q.has_i_answer)\n",
    "\n",
    "# List[Question]\n",
    "# interp. a list of Piazza questions\n",
    "LOQ0 = []\n",
    "LOQ1 = [Q1, Q2]\n",
    "\n",
    "# template based on arbitrary-sized and reference rule (Question)\n",
    "@typecheck\n",
    "def fn_for_loq(loq: List[Question]) -> ...:\n",
    "    # description of accumulator\n",
    "    acc = ...   # type: ...\n",
    "    \n",
    "    for q in loq:\n",
    "        acc = ...(acc, fn_for_question(q))\n",
    "        \n",
    "    return ...(acc)"
   ]
  },
  {
   "cell_type": "markdown",
   "metadata": {},
   "source": [
    "To practice for the exam, you may want to try:\n",
    "+ Design a `read` function to read the information into a `List[Question]`\n",
    "+ Design a function to operate on a `List[Question]` such as determining what percentage of questions that have a student answer but no instructor answer have endorsements. Try designing it once using the `List[Question]` template. Then, design it once as a composition where you (1) get a list of all questions with a student answer, (2) get a list of all of those questions with no instructor answer, (3) count how many of those there are, (4) get a list of the number of endorsements in the remaining questions, (5) remove the zeroes from that list, (6) count how many of those there are, and (7) return the second count as a percentage of the first. (Hints: Make some reasonable statement/assumption about what to do if there are no questions with a student answer but no instructor answer. The `len` function finds the number of elements in any list.)\n",
    "+ Design a function (with helper functions for any substantial sub-task!) to make a line graph of the number of answers for each question (0, 1, or 2) on the y axis versus the question number on the x axis. (You may assume that questions in the file are in increasing order by number.) Be sure to follow all steps of the function design process and to give your graph good title and axis labels.\n"
   ]
  }
 ],
 "metadata": {
  "kernelspec": {
   "display_name": "Python 3",
   "language": "python",
   "name": "python3"
  },
  "language_info": {
   "codemirror_mode": {
    "name": "ipython",
    "version": 3
   },
   "file_extension": ".py",
   "mimetype": "text/x-python",
   "name": "python",
   "nbconvert_exporter": "python",
   "pygments_lexer": "ipython3",
   "version": "3.7.6"
  }
 },
 "nbformat": 4,
 "nbformat_minor": 4
}
