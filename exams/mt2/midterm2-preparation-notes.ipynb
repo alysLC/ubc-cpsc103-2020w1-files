{
 "cells": [
  {
   "cell_type": "markdown",
   "metadata": {},
   "source": [
    "# IMPORTANT NOTE ON OUR ONLINE EXAMS\n",
    "\n",
    "Your online exam work will be in Jupyter to make it easy and comfortable to type out your code (and to download it as a \"Python (.py)\" file for submission), but **DO NOT EXPECT EVERYTHING TO RUN**.\n",
    "\n",
    "First, we will supply various helper functions as simple stubs; so, neither they nor your functions that use them will run correctly regardless. Second, your focus and emphasis should be on **following our design process**, just as in on-paper exams, and not on perfection.\n",
    "\n",
    "Also, as always, **THROUGHOUT the exam:** If we ask you to design a solution, we mean to design it using the appropriate design recipes (i.e., HtDF, HtDD, or both) taught in CPSC 103."
   ]
  },
  {
   "cell_type": "code",
   "execution_count": 2,
   "metadata": {},
   "outputs": [],
   "source": [
    "from cs103 import *\n",
    "from enum import Enum\n",
    "from typing import List, NamedTuple, Optional\n",
    "import csv"
   ]
  },
  {
   "cell_type": "markdown",
   "metadata": {},
   "source": [
    "# Midterm \\#2 Preparation Notes\n",
    "\n",
    "**Information from Piazza Polls**\n",
    "\n",
    "Several questions on Midterm \\#2 will be based on a modified version of the following domain and data definitions related to *Piazza polls*.\n",
    "\n",
    "The results from Piazza polls are stored in CSV file in a format like the following:\n",
    "\n",
    "| Name            | Email             | Timestamp | Choice      |\n",
    "|-----------------|-------------------|-----------|-------------|\n",
    "| Joe Biden       | jb@gojoe.com      |   1120192 | Est 1       |\n",
    "| Bernard Sanders | bernie@senate.gov |   1120238 | health care |\n",
    "| Liz Warren      | ew@senate.gov     |     23809 | unity       |\n",
    "\n",
    "Each row has:\n",
    "+ a `Name` value, the respondent's name (a non-empty string, which may not contain an `@`)\n",
    "+ an `Email` value, the respondent's e-mail address (a non-empty string, which must contain an `@`)\n",
    "+ a timestamp (an integer greater than zero, where larger numbers mean later times)\n",
    "+ a poll choice (which contains only letters, numbers, and spaces and must start with at least one letter)\n",
    "\n",
    "We are interested in the name, e-mail address, and choice. We represent them with these data definitions:"
   ]
  },
  {
   "cell_type": "code",
   "execution_count": 3,
   "metadata": {},
   "outputs": [],
   "source": [
    "Vote = NamedTuple('Vote', [('name', str),\n",
    "                           ('email', str),\n",
    "                           ('choice', str)])\n",
    "# interp. a poll response, with the respondent's name (non-empty with no\n",
    "# \"@\"), e-mail address (email, must have an \"@\" in it), and choice.\n",
    "V1 = Vote(\"Joe Biden\", \"jb@gojoe.com\", \"Est 1\")\n",
    "V2 = Vote(\"Liz Warren\", \"ew@senate.gov\", \"unity\")\n",
    "\n",
    "# template based on compound (3 fields)\n",
    "@typecheck\n",
    "def fn_for_vote(v: Vote) -> ...:\n",
    "    return ...(v.name,\n",
    "               v.email,\n",
    "               v.choice)\n",
    "\n",
    "\n",
    "# List[Vote]\n",
    "# interp. a list of votes\n",
    "LV1 = []\n",
    "LV2 = [V1, V2]\n",
    "\n",
    "# template based on arbitrary-sized and reference rule (Vote)\n",
    "@typecheck\n",
    "def fn_for_lov(lov: List[Vote]) -> ...:\n",
    "    # description of accumulator\n",
    "    acc = ...   # type: ...\n",
    "    \n",
    "    for v in lov:\n",
    "        acc = ...(acc, fn_for_vote(v))\n",
    "        \n",
    "    return ...(acc)"
   ]
  },
  {
   "cell_type": "markdown",
   "metadata": {},
   "source": [
    "To practice for the exam, you may want to try:\n",
    "+ Design a read function to read poll information into a `List[Vote]`\n",
    "+ Design a function to operate on a `List[Vote]` such as one to find, given a choice available in the poll, the list of e-mail domains (everything to the right of the `@` sign) of voters who selected that choice, with no repeats. Try designing it once using the `List[Vote]` template. Then, design it once as a composition where you (1) get a list of all the votes for the given choice, (2) get just their e-mail addresses, (3) strip out everything up to the `@` in each one, and (4) return only the unique elements of the list. (Hints: `\"jb@gojoe.com\".find(\"@\")` returns `2`. `x in lox` is `True` exactly when `x` appears as an element in the list `lox`.)\n",
    "+ Design a function (with helper functions for any substantial sub-task!) to make a line graph of the number of votes for each choice on the y axis versus the choices (in order of appearance in the `List[Vote]`) on the x axis. Be sure to follow all steps of the function design process and to give your graph good title and axis labels.\n"
   ]
  }
 ],
 "metadata": {
  "kernelspec": {
   "display_name": "Python 3",
   "language": "python",
   "name": "python3"
  },
  "language_info": {
   "codemirror_mode": {
    "name": "ipython",
    "version": 3
   },
   "file_extension": ".py",
   "mimetype": "text/x-python",
   "name": "python",
   "nbconvert_exporter": "python",
   "pygments_lexer": "ipython3",
   "version": "3.7.6"
  }
 },
 "nbformat": 4,
 "nbformat_minor": 4
}
