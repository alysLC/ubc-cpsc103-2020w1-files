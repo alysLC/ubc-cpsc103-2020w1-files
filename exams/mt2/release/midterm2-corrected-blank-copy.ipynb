{
 "cells": [
  {
   "cell_type": "markdown",
   "metadata": {},
   "source": [
    "*Note: corrected names `O0`, `O1`, AND `O2` in `Choice` DD to `C0`, `C1`, and `C2`. Not a major correction. This happened because we changed the DD's name to `Choice` from `Option`, which we decided was a confusing name but forgot to update the examples' names!* "
   ]
  },
  {
   "cell_type": "markdown",
   "metadata": {
    "deletable": false,
    "editable": false
   },
   "source": [
    "# Exam Rules\n",
    "\n",
    "We divide the rules into two parts: The part specific to CPSC 103 that you need to read, and UBC's recommended rules for students to agree to.\n",
    "\n",
    "## The Part We Absolutely Need You to Read\n",
    "\n",
    "### Your Work Is Your Own\n",
    "\n",
    "Your work on the exam must be **your own individual work**. You may not discuss the exam in any way with anyone outside of the course staff for CPSC 103.\n",
    "\n",
    "If you get (or give!) assistance from someone who is not CPSC 103 course staff on the CPSC 103 exam, you should expect a grade of 0 on your exam and an academic misconduct case against you.\n",
    "\n",
    "**Possible exception:** We are switching to online exams in crisis mode. If you have technical issues *with the online format*, you should ask those of the CPSC 103 course staff. In an emergency you may ask assistance from someone else **ONLY** on such technical issues. You **MUST** acknowledge that person by name with their contribution in the cell below. **DO NOT** take (or give) any assistance on the content of the exam as part of this emergency assistance, not even help reading the questions.\n",
    "\n",
    "### Respect Your Classmates' Lecture Time\n",
    "\n",
    "Do not access Syzygy/Jupyter during the other section's registered time (12:30-2 if you are in the 3:30-5 section; 3:30-5 if you are in the 12:30-2 section). If possible, complete and submit your exam during your lecture timeslot.\n",
    "\n",
    "### You May Use CPSC 103 Resources on Canvas, Syzygy/Jupyter, and Piazza\n",
    "\n",
    "You have access to all our term's content on Canvas, Syzygy/Jupyter, and Piazza. That includes, for example, our design recipes.\n",
    "\n",
    "However, Piazza will be closed to new posts during the exam. To ask a question, go to the office hours and help sessions room in Collaborate Ultra at https://canvas.ubc.ca/courses/35980/external_tools/5284, \"raise your hand\", and wait for a course staff member to chat privately with you.\n",
    "\n",
    "### Submission Format and Deadline\n",
    "\n",
    "You must download your Jupyter Notebook as a Python (.py) file and submit it on gradescope (https://www.gradescope.ca/courses/46) to receive credit for the exam. Full credit is available only for submissions completed by 8PM. We accept late submissions at a deduction of 2.5% point per hour (or portion of an hour) up to four hours later (midnight). (The exam is pass/fail; so, the grade deduction simply makes it harder to earn a \"pass\".)\n",
    "\n",
    "Instructions on submitting the exam are at the end of this file.\n",
    "\n",
    "## The Other Part You Are Agreeing To\n",
    "\n",
    "I hereby pledge that I have read and will abide by the rules, regulations, and expectations set out in the Academic Calendar, with particular attention paid to:\n",
    "1. The Student Declaration (http://www.calendar.ubc.ca/vancouver/index.cfm?tree=3,285,0,0)\n",
    "2. The Academic Honesty and Standards http://www.calendar.ubc.ca/vancouver/index.cfm?tree=3,286,0,0\n",
    "3. The Student Conduct During Examinations http://www.calendar.ubc.ca/vancouver/index.cfm?tree=3,41,90,0\n",
    "4. The special rules for conduct as set out above, and any additional rules set out by the examiner during the exam period.\n",
    "\n",
    "I affirm that I will not give or receive any unauthorized help on this examination, that all work will be my own, and that I will abide by any special rules for conduct set out by the examiner."
   ]
  },
  {
   "cell_type": "raw",
   "metadata": {},
   "source": [
    "You are REQUIRED to agree to these exam rules to participate in the exam.\n",
    "\n",
    "Submitting your exam to gradescope indicates your agreement with these rules.\n",
    "\n",
    "If you received emergency technical assistance (see rules on that above), acknowledge everyone who gave it here in this format:\n",
    "+ NAME OF PERSON PROVIDING ASSISTANCE, RELATIONSHIP OF THAT PERSON TO YOU, NATURE OF ASSISTANCE GIVEN"
   ]
  },
  {
   "cell_type": "markdown",
   "metadata": {
    "deletable": false,
    "editable": false
   },
   "source": [
    "# IMPORTANT NOTE ON OUR ONLINE EXAMS\n",
    "\n",
    "Your online exam work will be in Jupyter to make it easy and comfortable to type out your code (and to download it as a \"Python (.py)\" file for submission), but **DO NOT EXPECT EVERYTHING TO RUN**.\n",
    "\n",
    "First, we will supply various helper functions as simple stubs; so, neither they nor your functions that use them will run correctly regardless. Second, your focus and emphasis should be on **following our design process**, just as in on-paper exams, and not on perfection.\n",
    "\n",
    "Also, as always, **THROUGHOUT the exam:** If we ask you to design a solution, we mean to design it using the appropriate design recipes (i.e., HtDF, HtDD, or both) taught in CPSC 103."
   ]
  },
  {
   "cell_type": "code",
   "execution_count": null,
   "metadata": {
    "deletable": false,
    "editable": false
   },
   "outputs": [],
   "source": [
    "from cs103 import *\n",
    "from enum import Enum\n",
    "from typing import List, NamedTuple, Optional\n",
    "import csv"
   ]
  },
  {
   "cell_type": "markdown",
   "metadata": {
    "deletable": false,
    "editable": false
   },
   "source": [
    "# Midterm \\#2"
   ]
  },
  {
   "cell_type": "markdown",
   "metadata": {
    "deletable": false,
    "editable": false
   },
   "source": [
    "The following problems are about *Piazza polls* with file structure and data definitions adapted from the exam preparation material. Changes are noted in **_bold italics_** below.\n",
    "\n",
    "Information about Piazza questions is available in a CSV file in a format like the following:\n",
    "\n",
    "| Name              | Email          | Timestamp | Choice      |\n",
    "|-------------------|----------------|-----------|-------------|\n",
    "| Joe Biden         | jb@gojoe.com   |   1120192 | Est 1       |\n",
    "| Bernard Sanders   | @bernie        |   1120238 | health care |\n",
    "| Joe Biden         | jb@gojoe.com   |   1120194 | unity       |\n",
    "| Liz Warren        | ew@senate.gov  |     23809 | :NO VOTE:   |\n",
    "\n",
    "**_Note: Compared to the prep material, the table has one extra row, Sanders's Email has changed, and Warren's Choice has changed._**\n",
    "\n",
    "Each row has:\n",
    "+ a `Name` value, the respondent's name (a non-empty string, which may not contain an `@`)\n",
    "+ an `Email` value, the respondent's e-mail address (a non-empty string, which must contain an `@`; **_if it begins with `@` like `@mochi`, then the actual e-mail address that should be stored as data is at `tweetbook.com` like `mochi@tweetbook.com`_**)\n",
    "+ a timestamp (an integer greater than zero, where larger numbers mean later times)\n",
    "+ a poll choice (which contains only letters, numbers, and spaces and must start with at least one letter) **_or `:NO VOTE:` to indicate that the person intentionally made no choice at all_**\n",
    "\n",
    "**_Note: a voter may select multiple choices and so appear in multiple rows, unless they selected `:NO VOTE:`, in which case that must be their only row in the file._**\n",
    "\n",
    "We are interested in the name, e-mail address, and choice. We represent them with these data definitions:"
   ]
  },
  {
   "cell_type": "code",
   "execution_count": null,
   "metadata": {},
   "outputs": [],
   "source": [
    "Choice = Optional[str]      # NEW DATA DEFINITION\n",
    "# interp. a poll choice containing only letters, numbers, and spaces and starting \n",
    "# with a letter, or None to indicate intentionally making no choice at all.\n",
    "C0 = None\n",
    "C1 = \"unity\"\n",
    "C2 = \"Est 1\"\n",
    "\n",
    "@typecheck    # template based on optional\n",
    "def fn_for_choice(c: Choice) -> ...:\n",
    "    if c is None:\n",
    "        return ...\n",
    "    else:\n",
    "        return ...(c)\n",
    "\n",
    "    \n",
    "Vote = NamedTuple('Vote', [('name', str),\n",
    "                           ('email', str),\n",
    "                           ('choice', Choice)])  # CHANGED TYPE\n",
    "# interp. a poll response, with the respondent's name (non-empty with no\n",
    "# \"@\"), e-mail address (email, must have an \"@\" in it), and choice.\n",
    "V1 = Vote(\"Joe Biden\", \"jb@gojoe.com\", \"Est 1\")\n",
    "V2 = Vote(\"Liz Warren\", \"ew@senate.gov\", \"unity\")\n",
    "\n",
    "# template based on compound (3 fields)\n",
    "@typecheck\n",
    "def fn_for_vote(v: Vote) -> ...:\n",
    "    return ...(v.name,\n",
    "               v.email,\n",
    "               v.choice)\n",
    "\n",
    "\n",
    "# List[Vote]\n",
    "# interp. a list of votes\n",
    "LV1 = []\n",
    "LV2 = [V1, V2]\n",
    "\n",
    "# template based on arbitrary-sized and reference rule (Vote)\n",
    "@typecheck\n",
    "def fn_for_lov(lov: List[Vote]) -> ...:\n",
    "    # description of accumulator\n",
    "    acc = ...   # type: ...\n",
    "    \n",
    "    for v in lov:\n",
    "        acc = ...(acc, fn_for_vote(v))\n",
    "        \n",
    "    return ...(acc)\n"
   ]
  },
  {
   "cell_type": "markdown",
   "metadata": {
    "deletable": false,
    "editable": false
   },
   "source": [
    "## Problem 1 (worth 1 mark)\n",
    "\n",
    "We changed the type of the attribute `choice` in the `Vote` data type definition from `str` to `Choice`. Neatly edit the code above to change everything else in the `Vote` data definition that should also change as a result. "
   ]
  },
  {
   "cell_type": "markdown",
   "metadata": {
    "deletable": false,
    "editable": false
   },
   "source": [
    "## Problem 2 (worth 11 marks)\n",
    "\n",
    "Now, **neatly edit the `read` template below and add tests** to complete a function design to read csv files in this format into a `List[Vote]`. Complete **all design steps**, including **fully** designing any required helper functions!\n",
    "\n",
    "Be careful as the file's format and column ordering does not always nicely match our data definitions!"
   ]
  },
  {
   "cell_type": "markdown",
   "metadata": {},
   "source": [
    "Assume the table above is available in a file named `test_given.csv`. If you need additional test files:\n",
    "1. double-click this markdown cell,\n",
    "2. add them as they would be in a csv file with triple-backquotes around them, and\n",
    "3. indicate their file names.\n",
    "\n",
    "For example, here is a blank test file you can also use:\n",
    "\n",
    "```\n",
    "File test_empty.csv contains:\n",
    "\n",
    "Name,Email,Timestamp,Choice\n",
    "```\n",
    "\n",
    "Put any additional test files below:\n",
    "\n"
   ]
  },
  {
   "cell_type": "code",
   "execution_count": null,
   "metadata": {},
   "outputs": [],
   "source": [
    "@typecheck\n",
    "def read(filename: str) -> List[Consumed]:\n",
    "    \"\"\"    \n",
    "    reads information from the specified file and returns ...\n",
    "    \"\"\"\n",
    "    # return []  #stub\n",
    "    # Template from HtDAP\n",
    "\n",
    "    # loc contains the result so far\n",
    "    loc = [] # type: List[Consumed]\n",
    "\n",
    "    with open(filename) as csvfile:\n",
    "\n",
    "        reader = csv.reader(csvfile)\n",
    "        next(reader) # skip header line\n",
    "\n",
    "        for row in reader:\n",
    "            # you may not need to store all the rows, and you may need\n",
    "            # to convert some of the strings to other types\n",
    "            c = Consumed(row[0], ... ,row[n])\n",
    "            loc.append(c)\n",
    "\n",
    "    return loc\n",
    "\n",
    "\n",
    "start_testing()\n",
    "expect(..., ...)\n",
    "summary()"
   ]
  },
  {
   "cell_type": "markdown",
   "metadata": {
    "deletable": false,
    "editable": false
   },
   "source": [
    "## Problem 3 (worth 12 marks)\n",
    "\n",
    "Now, **complete the design of the `count_voter_choices` function below** (tests, body, and any helper functions not already available for your use). You may not change the provided signature, purpose, stub, or how the function is templated. (I.e., you must use the `List[Vote]` template.)\n",
    "\n",
    "You should assume the `is_real_choice_vote` function that is just a stub below is complete, correct, and available for your use. **DO NOT** complete the `is_real_choice_vote` function as part of this problem."
   ]
  },
  {
   "cell_type": "code",
   "execution_count": null,
   "metadata": {
    "deletable": false,
    "editable": false
   },
   "outputs": [],
   "source": [
    "## ASSUME that: is_real_choice_vote is CORRECT AND \n",
    "## COMPLETE and available for your use.\n",
    "##\n",
    "## DO NOT complete these functions as part of the work for this problem.\n",
    "\n",
    "@typecheck\n",
    "def is_real_choice_vote(v: Vote) -> bool:\n",
    "    \"\"\"\n",
    "    returns False (NOT True!) if v's choice is None and True otherwise (for 'real votes')\n",
    "    \"\"\"\n",
    "    return True  #stub\n",
    "    ## DO NOT COMPLETE ME"
   ]
  },
  {
   "cell_type": "code",
   "execution_count": null,
   "metadata": {},
   "outputs": [],
   "source": [
    "## TODO: complete the design of count_voter_choices, without changing the\n",
    "## existing signature, purpose, or stub. Use the List[Vote] template.\n",
    "@typecheck\n",
    "def count_voter_choices(lov: List[Vote], name: str, email: str) -> int:\n",
    "    \"\"\"\n",
    "    returns the number of choices the voter with the given name and e-mail address \n",
    "    selected. (Ignores voters that match one or the other but not both.) If no such \n",
    "    voter exists or if the voter explicitly made no choice (None), returns 0.\n",
    "    \n",
    "    ASSUMES: No voter selects the same choice more than once. If a voter chooses\n",
    "    None, they do so once and select no other choice.\n",
    "    \"\"\"\n",
    "    return 0  #stub\n",
    "    # template from List[Vote]\n",
    "\n",
    "\n",
    "\n",
    "start_testing()\n",
    "expect(..., ...)\n",
    "summary()"
   ]
  },
  {
   "cell_type": "markdown",
   "metadata": {
    "deletable": false,
    "editable": false
   },
   "source": [
    "## Problem 4 (worth 8 marks)\n",
    "\n",
    "Now, **complete JUST THE BODY of the alternate implementation of the `count_voter_choices` function below**. It has the same signature, purpose, and stub as above. You may not change how the function is templated. In particular, you must **follow the composition plan provided**. Do **not** supply tests, since you already supplied them above.\n",
    "\n",
    "You should assume the `sum` function that is just a stub below is complete, correct, and available for your use. **DO NOT** complete the `sum` function as part of this problem.\n",
    "\n",
    "Otherwise, **where you need a helper function, design only its signature, purpose, and stub in the same cell as `sum` and then assume like `sum` that it is complete and correct.**"
   ]
  },
  {
   "cell_type": "code",
   "execution_count": null,
   "metadata": {},
   "outputs": [],
   "source": [
    "## ASSUME that sum--and any functions whose signatures\n",
    "## purposes, and stubs you add here--are CORRECT AND COMPLETE and\n",
    "## available for your use.\n",
    "\n",
    "## TODO: add here any signatures, purposes, and stubs for any helper\n",
    "##       functions required by your get_pri_q_urls design below.\n",
    "\n",
    "@typecheck\n",
    "def sum(loi: List[int]) -> int:\n",
    "    \"\"\"\n",
    "    returns sum of the values in loi\n",
    "    \"\"\"\n",
    "    return 0  #stub\n",
    "    ## DO NOT COMPLETE ME"
   ]
  },
  {
   "cell_type": "code",
   "execution_count": null,
   "metadata": {},
   "outputs": [],
   "source": [
    "## TODO: complete the design of count_voter_choices, without changing\n",
    "## the existing signature, purpose, or stub. Use the provided \n",
    "## composition plan. \n",
    "##\n",
    "## DO NOT FORGET to design signatures, purposes, and stubs for any\n",
    "## new helpers in the cell above.\n",
    "@typecheck\n",
    "def count_voter_choices(lov: List[Vote], name: str, email: str) -> int:\n",
    "    \"\"\"\n",
    "    returns the number of choices the voter with the given name and e-mail address \n",
    "    selected. (Ignores voters that match one or the other but not both). If no such \n",
    "    voter exists or if the voter explicitly made no choice (None), returns 0. \n",
    "    ASSUMES: No voter selects the same choice more than once. If a voter chooses\n",
    "    None, they do so once and select no other choice.\n",
    "    \"\"\"\n",
    "    return 0  #stub\n",
    "    # templated by composition\n",
    "    # Plan:\n",
    "    # 1) filter to only the votes matching name\n",
    "    # 2) filter to only the votes of those matching email\n",
    "    # 3) convert this to a list of \"vote counts\", where a vote count is\n",
    "    #      1 for a normal choice, and 0 for None.\n",
    "    # 4) return the total of the values in the list\n",
    "    \n",
    "start_testing()\n",
    "## DO NOT ADD TESTS. You should assume they are already complete.\n",
    "summary()"
   ]
  },
  {
   "cell_type": "markdown",
   "metadata": {
    "deletable": false,
    "editable": false
   },
   "source": [
    "## Problem 5 (worth 8 marks)\n",
    "\n",
    "**Complete the design of the graphing function below.** Ensure that the produced graph has a good title and axis labels and remember to complete all remaining steps of the HtDF recipe including tests. **Your title must be of the form 'Votes for: ' followed by the name of the choice being plotted**, e.g., `'Votes for: unity'` if the parameter `c` below had the value `'unity'` or `'Votes for: Est 1'` if `c` had the value `'Est 1'`.\n",
    "\n",
    "**DO NOT insert images into this file as we will not see them in grading.** (Sorry! You have to describe graphs in English rather than sketching them.)\n",
    "\n",
    "You should assume the `count_votes` and `get_first_half` functions that are just stubs below are complete, correct, and available for your use. **DO NOT** complete the `count_votes` and `get_first_half` functions as part of this problem."
   ]
  },
  {
   "cell_type": "code",
   "execution_count": null,
   "metadata": {
    "deletable": false,
    "editable": false
   },
   "outputs": [],
   "source": [
    "## ASSUME that: count_votes and get_first_half are \n",
    "## CORRECT AND COMPLETE and available for your use.\n",
    "##\n",
    "## DO NOT complete these functions as part of the work for this problem.\n",
    "\n",
    "@typecheck\n",
    "def count_votes(lov: List[Vote], c: str) -> int:\n",
    "    \"\"\"\n",
    "    return the number of votes in lov for choice c\n",
    "    \"\"\"\n",
    "    return 0   #stub\n",
    "    ## DO NOT COMPLETE ME\n",
    "\n",
    "@typecheck\n",
    "def get_first_half(lov: List[Vote]) -> List[Vote]:\n",
    "    \"\"\"\n",
    "    returns the first half of lov (rounded down if len(lov) is odd)\n",
    "    \"\"\"\n",
    "    return []   #stub\n",
    "    ## DO NOT COMPLETE ME"
   ]
  },
  {
   "cell_type": "code",
   "execution_count": null,
   "metadata": {},
   "outputs": [],
   "source": [
    "## TODO: complete the design of graph_votes_over_time, without changing the\n",
    "## existing signature, purpose, stub, or template comment.\n",
    "\n",
    "@typecheck\n",
    "def graph_votes_over_time(lov: List[Vote], c: str) -> None:\n",
    "    \"\"\"\n",
    "    Draws a line chart showing the number of votes for choice c as the votes are totalled.\n",
    "    Specifically, the line has three points: one for x value 0 (0% of the votes,\n",
    "    which always has y value 0), one for 50% of the votes (the count for the first half\n",
    "    of lov; where 'half' is rounded down if the number of votes is odd), and one for 100%\n",
    "    of the votes (the whole list).\n",
    "    \n",
    "    The chart's title is 'Votes for: ' followed by c.\n",
    "\n",
    "    ASSUMES: lov is ordered by when the vote was cast.\n",
    "\n",
    "    For example, if there were five votes for: X, Y, Y, :NO VOTE:, and Y, and we \n",
    "    plot choice Y, then: with 0% of the vote, Y receives 0 votes; with 50% of the\n",
    "    vote (the first 2 votes X and Y, since there are 5 total), Y receives 1 vote; and\n",
    "    with 100% (all 5 votes), Y receives 3 votes.\n",
    "    \"\"\"\n",
    "    return None  #stub\n",
    "    # template from viz w/add'l parameter c\n",
    "\n",
    "    \n",
    "start_testing()\n",
    "\n",
    "# DO NOT insert images into this file as we will not see them in grading.\n",
    "# You will have to describe the expected graph in English instead :(\n",
    "expect(..., ...)\n",
    "summary()"
   ]
  },
  {
   "cell_type": "markdown",
   "metadata": {
    "deletable": false,
    "editable": false
   },
   "source": [
    "## Now Submit\n",
    "\n",
    "First, go back and be sure you've completed each step we've asked for in each design **AND** acknowledged the exam rules at the top.\n",
    "\n",
    "(Common steps to forget include tests, where we require them, and however much we ask for you to complete of helper functions you call.)\n",
    "\n",
    "To submit the exam:\n",
    "\n",
    "1. Click the `File` menu, go to the `Download as` submenu, and select `Python (.py)`. This will download your exam work to your computer as a Python file, i.e., one ending in `.py`.\n",
    "2. Log in to gradescope with the same account you used to access Midterm 1. (If you don't recall your account, check out https://piazza.com/class/k4acympiwak4u?cid=359.)\n",
    "3. Click the Midterm 2 \"assignment\"\n",
    "4. You should immediately see a window in which to upload your exam submission.\n",
    "5. Either click the box and find your `.py` file or drag-and-drop your `.py` file into the box.\n",
    "6. Click the \"Upload\" button.\n",
    "7. Review your submission. Click the \"Code\" button in the viewing window. You should be able to see your submission. Your markdown cells' contents will appear as comments but should still be readable. Be sure it is the right submission!!\n",
    "\n",
    "If you need to resubmit, follow the same steps except that after clicking the Midterm 2 \"assignment\", you will click the \"Resubmit\" button in the lower-right before seeing the window in which to upload your submission."
   ]
  }
 ],
 "metadata": {
  "kernelspec": {
   "display_name": "Python 3",
   "language": "python",
   "name": "python3"
  },
  "language_info": {
   "codemirror_mode": {
    "name": "ipython",
    "version": 3
   },
   "file_extension": ".py",
   "mimetype": "text/x-python",
   "name": "python",
   "nbconvert_exporter": "python",
   "pygments_lexer": "ipython3",
   "version": "3.7.6"
  }
 },
 "nbformat": 4,
 "nbformat_minor": 4
}
