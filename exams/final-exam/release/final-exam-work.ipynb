{
 "cells": [
  {
   "cell_type": "markdown",
   "metadata": {
    "deletable": false,
    "editable": false
   },
   "source": [
    "# Exam Rules\n",
    "\n",
    "We divide the rules into two parts: The part specific to CPSC 103 that you need to read, and UBC's recommended rules for students to agree to.\n",
    "\n",
    "## The Part We Absolutely Need You to Read\n",
    "\n",
    "### Your Work Is Your Own\n",
    "\n",
    "Your work on the exam must be **your own individual work**. You may not discuss the exam in any way with anyone outside of the course staff for CPSC 103.\n",
    "\n",
    "If you get (or give!) assistance from someone who is not CPSC 103 course staff on the CPSC 103 exam, you should expect a grade of 0 on your exam and an academic misconduct case against you.\n",
    "\n",
    "**Possible exception:** We are switching to online exams in crisis mode. If you have technical issues *with the online format*, you should ask those of the CPSC 103 course staff. In an emergency you may ask assistance from someone else **ONLY** on such technical issues. You **MUST** acknowledge that person by name with their contribution in the cell below. **DO NOT** take (or give) any assistance on the content of the exam as part of this emergency assistance, not even help reading the questions.\n",
    "\n",
    "### Use Only the Time Allocated to our Final Exam\n",
    "\n",
    "**IF YOU PASSED MIDTERM 2:** **do not take** the final exam; **do not access Syzygy during or approaching the exam period** (Tue 21 Apr 6:45 - 10:15PM, but better to avoid it all of April 21 and April 22). Keep load down for your classmates!\n",
    "\n",
    "**IF YOU DID NOT PASS OR DID NOT TAKE MIDTERM 2:**\n",
    "\n",
    "We will start the exam session 15 minutes early at 6:45PM Vancouver time on Tuesday 21 April. Please arrive early on Zoom for invigilation at the URL posted on Piazza at https://piazza.com/class/k4acympiwak4u?cid=1323.\n",
    "\n",
    "The exam will release at 7PM Vancouver time (Tue 21 Apr) at http://www.students.cs.ubc.ca/~cs-103/redirect/?target=exams/final-exam/release/final-exam-work.ipynb. (It may be hard in the first few minutes to open as everyone accesses it. If you need to wait a few minutes, you can start reading&mdash;but not editing&mdash;the exam at the same time at https://github.com/steven-wolfman/ubc-cpsc103-2019W2-files/blob/master/exams/final-exam/release/final-exam-work.ipynb.\n",
    "\n",
    "You'll have until 10PM Vancouver time (Tue 21 Apr) to submit your exam. (We will accept late submissions up to 15 minutes after the deadline, but that is all. **Do not** plan to use this time or you will have technical issues that make you late even for it!)\n",
    "\n",
    "### You May Use CPSC 103 Resources on Canvas, Syzygy/Jupyter, and Piazza\n",
    "\n",
    "You have access to all our term's content on Canvas, Syzygy/Jupyter, and Piazza. That includes, for example, our design recipes.\n",
    "\n",
    "However, Piazza will be closed to new posts during the exam. To ask a question, [\"raise your hand\" on Zoom](https://support.zoom.us/hc/en-us/articles/115001286183-Nonverbal-Feedback-During-Meetings#h_50523139-7bac-403b-9c59-1755ada65ad9) and wait to be moved to a private breakout room. **Do not unmute.** While you wait, continue working on the exam!\n",
    "\n",
    "### Submission Format and Deadline\n",
    "\n",
    "You must download your Jupyter Notebook as a Python (.py) file and submit it on [gradescope](https://www.gradescope.ca/courses/46) to receive credit for the exam. Full credit is available only for submissions to Gradescope completed by 10PM Vancouver time (Tue 21 Apr). (We will accept late submissions up to 15 minutes after the deadline, but that is all. **Do not** plan to use this time or you will have technical issues that make you late even for it!)\n",
    "\n",
    "Instructions on submitting the exam are at the end of this file.\n",
    "\n",
    "## The Other Part You Are Agreeing To\n",
    "\n",
    "I hereby pledge that I have read and will abide by the rules, regulations, and expectations set out in the Academic Calendar, with particular attention paid to:\n",
    "1. The Student Declaration (http://www.calendar.ubc.ca/vancouver/index.cfm?tree=3,285,0,0)\n",
    "2. The Academic Honesty and Standards http://www.calendar.ubc.ca/vancouver/index.cfm?tree=3,286,0,0\n",
    "3. The Student Conduct During Examinations http://www.calendar.ubc.ca/vancouver/index.cfm?tree=3,41,90,0\n",
    "4. The special rules for conduct as set out above, and any additional rules set out by the examiner during the exam period.\n",
    "\n",
    "I affirm that I will not give or receive any unauthorized help on this examination, that all work will be my own, and that I will abide by any special rules for conduct set out by the examiner."
   ]
  },
  {
   "cell_type": "raw",
   "metadata": {},
   "source": [
    "You are REQUIRED to agree to these exam rules to participate in the exam.\n",
    "\n",
    "Submitting your exam to gradescope indicates your agreement with these rules.\n",
    "\n",
    "If you received emergency technical assistance (see rules on that above), acknowledge everyone who gave it here in this format:\n",
    "+ NAME OF PERSON PROVIDING ASSISTANCE, RELATIONSHIP OF THAT PERSON TO YOU, NATURE OF ASSISTANCE GIVEN"
   ]
  },
  {
   "cell_type": "markdown",
   "metadata": {
    "deletable": false,
    "editable": false
   },
   "source": [
    "# IMPORTANT NOTE ON OUR ONLINE EXAMS\n",
    "\n",
    "Your online exam work will be in Jupyter to make it easy and comfortable to type out your code (and to download it as a \"Python (.py)\" file for submission), but **DO NOT EXPECT EVERYTHING TO RUN**.\n",
    "\n",
    "First, we will supply various helper functions as simple stubs; so, neither they nor your functions that use them will run correctly regardless. Second, your focus and emphasis should be on **following our design process**, just as in on-paper exams, and not on perfection.\n",
    "\n",
    "Also, as always, **THROUGHOUT the exam:** If we ask you to design a solution, we mean to design it using the appropriate design recipes (i.e., HtDF, HtDD, or both) taught in CPSC 103."
   ]
  },
  {
   "cell_type": "code",
   "execution_count": null,
   "metadata": {
    "deletable": false,
    "editable": false
   },
   "outputs": [],
   "source": [
    "from cs103 import *\n",
    "from enum import Enum\n",
    "from typing import List, NamedTuple, Optional\n",
    "import csv"
   ]
  },
  {
   "cell_type": "markdown",
   "metadata": {
    "deletable": false,
    "editable": false
   },
   "source": [
    "# Final Exam"
   ]
  },
  {
   "cell_type": "markdown",
   "metadata": {
    "deletable": false,
    "editable": false
   },
   "source": [
    "The following problems are about *Piazza user stats* with file structure and data definitions adapted from the exam preparation material. Changes are noted in **_bold italics_** below.\n",
    "\n",
    "Information about Piazza stats is available in a CSV file in a format like the following:\n",
    "\n",
    "| ID | Role       | Views | Contribs |\n",
    "|----|------------|-------|----------|\n",
    "|  3 | Student    |    30 |        4 |\n",
    "| 17 | Instructor |   110 |       58 |\n",
    "\n",
    "**_Note: Compared to the prep material, the `Student?` and `Instructor?` columns have been consolidated into the single `Role` column, and the `Groups` column has been omitted._**\n",
    "\n",
    "Each row has:\n",
    "+ An `ID`, a positive integer identifying the user, where no two users have the same ID.\n",
    "+ **_A `Role`, the user's role in this Piazza course, always one of \"Student\", \"TA\", or \"Instructor\"._**\n",
    "+ `Views` and `Contribs`, each of which is zero or a positive integer representing the number of posts viewed and number of posts contributed by the user (respectively). (`Contribs` cannot be greater than `Views`, since the user views each of their contributed posts.)\n",
    "\n",
    "We are interested in the ID, **_role_**, and numbers of views and contributions. We represent them with these data definitions:"
   ]
  },
  {
   "cell_type": "code",
   "execution_count": null,
   "metadata": {},
   "outputs": [],
   "source": [
    "PRole = Enum('PRole', ['TA', 'INST', 'STUD'])\n",
    "# interp. a role on Piazza, one of TA, instructor (INST), or student (STUD).\n",
    "# examples are redundant for enums\n",
    "\n",
    "# template from Enumeration (3 cases)\n",
    "@typecheck\n",
    "def fn_for_p_role(pr: PRole) -> ...:\n",
    "    if pr == PRole.TA:\n",
    "        return ...\n",
    "    elif pr == PRole.INST:\n",
    "        return ...\n",
    "    elif pr == PRole.STUD:\n",
    "        return ...\n",
    "\n",
    "PStat = NamedTuple('PStat', [('id', int),        # in range[1, ...]\n",
    "                             ('role', PRole),\n",
    "                             ('views', int),     # in range[0, ...]\n",
    "                             ('contribs', int)]) # in range[views, ...]\n",
    "# interp. statistics about a Piazza post with the user's unique ID,\n",
    "# whether they are student (is_st) or instructor (is_in), where TAs are\n",
    "# neither student nor instructor and no one is both student and instructor,\n",
    "# the number of posts they have viewed, and the number of posts they contributed.\n",
    "PS1 = PStat(3, True, False, 30, 4)\n",
    "PS2 = PStat(17, False, True, 110, 58)\n",
    "\n",
    "# template based on compound (5 fields)\n",
    "@typecheck\n",
    "def fn_for_p_stat(ps: PStat) -> ...:\n",
    "    return ...(ps.id,\n",
    "               ps.is_st,\n",
    "               ps.is_in,\n",
    "               ps.views,\n",
    "               ps.contribs)\n",
    "\n",
    "# List[PStat]\n",
    "# interp. a list of Piazza stats\n",
    "LOPS0 = []\n",
    "LOPS1 = [PS1, PS2]\n",
    "\n",
    "# template based on arbitrary-sized and reference rule (PStat)\n",
    "@typecheck\n",
    "def fn_for_lops(lops: List[PStat]) -> ...:\n",
    "    # description of accumulator\n",
    "    acc = ...   # type: ...\n",
    "    \n",
    "    for ps in lops:\n",
    "        acc = ...(acc, fn_for_p_stat(ps))\n",
    "        \n",
    "    return ...(acc)\n"
   ]
  },
  {
   "cell_type": "markdown",
   "metadata": {
    "deletable": false,
    "editable": false
   },
   "source": [
    "## Problem 1 (worth 4 marks)\n",
    "\n",
    "We added the `PRole` data definition to represent a user's role (TA, Instructor, or Student) and changed `PStat` to replace its separate `is_st` and `is_in` fields with a single new field `role` of type `PRole`, but we changed **nothing else** about `PStat`. Neatly edit the code above to change everything else in the `PStat` data definition that should also change as a result."
   ]
  },
  {
   "cell_type": "markdown",
   "metadata": {
    "deletable": false,
    "editable": false
   },
   "source": [
    "## Problem 2 (worth 8 marks)\n",
    "\n",
    "Now, **neatly edit the `read` template below and add tests** to complete a function design to read csv files in this format into a `List[PStat]`. Complete **all design steps**, including **fully** designing any required helper functions!\n",
    "\n",
    "Be careful as the file's format and column ordering does not always nicely match our data definitions!"
   ]
  },
  {
   "cell_type": "markdown",
   "metadata": {},
   "source": [
    "Assume the table above is available in a file named `test_given.csv`. If you need additional test files:\n",
    "1. double-click this markdown cell,\n",
    "2. add them as they would be in a csv file with triple-backquotes around them, and\n",
    "3. indicate their file names.\n",
    "\n",
    "For example, here is a blank test file you can also use:\n",
    "\n",
    "```\n",
    "File test_empty.csv contains:\n",
    "\n",
    "ID,Role,Views,Contribs\n",
    "```\n",
    "\n",
    "Put any additional test files below:\n",
    "\n"
   ]
  },
  {
   "cell_type": "code",
   "execution_count": null,
   "metadata": {},
   "outputs": [],
   "source": [
    "@typecheck\n",
    "def read(filename: str) -> List[Consumed]:\n",
    "    \"\"\"    \n",
    "    reads information from the specified file and returns ...\n",
    "    \"\"\"\n",
    "    # return []  #stub\n",
    "    # Template from HtDAP\n",
    "\n",
    "    # loc contains the result so far\n",
    "    loc = [] # type: List[Consumed]\n",
    "\n",
    "    with open(filename) as csvfile:\n",
    "\n",
    "        reader = csv.reader(csvfile)\n",
    "        next(reader) # skip header line\n",
    "\n",
    "        for row in reader:\n",
    "            # you may not need to store all the rows, and you may need\n",
    "            # to convert some of the strings to other types\n",
    "            c = Consumed(row[0], ... ,row[n])\n",
    "            loc.append(c)\n",
    "\n",
    "    return loc\n",
    "\n",
    "\n",
    "start_testing()\n",
    "expect(..., ...)\n",
    "summary()"
   ]
  },
  {
   "cell_type": "markdown",
   "metadata": {
    "deletable": false,
    "editable": false
   },
   "source": [
    "## Problem 3 (worth 10 marks)\n",
    "\n",
    "Now, **complete the design of the `find_top_ta` function below** (tests, body, and any helper functions not already available for your use). You may not change the provided signature, purpose, stub, or how the function is templated. (I.e., you must use the `List[PStat]` template.)\n",
    "\n",
    "You should assume the `is_ta` function that is just a stub below is complete, correct, and available for your use. **DO NOT** complete the `is_ta` function as part of this problem."
   ]
  },
  {
   "cell_type": "code",
   "execution_count": null,
   "metadata": {
    "deletable": false,
    "editable": false
   },
   "outputs": [],
   "source": [
    "## ASSUME that: is_ta is CORRECT AND \n",
    "## COMPLETE and available for your use.\n",
    "##\n",
    "## DO NOT complete this function as part of the work for this problem.\n",
    "\n",
    "@typecheck\n",
    "def is_ta(ps: PStat) -> bool:\n",
    "    \"\"\"\n",
    "    return True if ps is for a TA and False otherwise\n",
    "    \"\"\"\n",
    "    #return True  #stub\n",
    "    ## DO NOT COMPLETE ME"
   ]
  },
  {
   "cell_type": "code",
   "execution_count": null,
   "metadata": {},
   "outputs": [],
   "source": [
    "## TODO: complete the design of find_top_ta, without changing the\n",
    "## existing signature, purpose, or stub. Use the List[PStat] template.\n",
    "\n",
    "@typecheck\n",
    "def find_top_ta(lops: List[PStat]) -> float:\n",
    "    \"\"\"\n",
    "    returns the Piazza \"activity rating\" of the most active TA in lops\n",
    "    (measured by activity rating). A user's \"activity rating\" is the number \n",
    "    of posts they contributed plus one-tenth of the number of posts they viewed.\n",
    "    (So, a user who contributed 12 posts but viewed 31 would have a rating of\n",
    "    12 + 3.1 or 15.1.)\n",
    "    \n",
    "    returns 0 if there are no TAs in lops.\n",
    "    \"\"\"\n",
    "    return 0.0  #stub\n",
    "    # Template based on List[PStat]\n",
    "    \n",
    "start_testing()\n",
    "expect(..., ...)\n",
    "summary()"
   ]
  },
  {
   "cell_type": "markdown",
   "metadata": {
    "deletable": false,
    "editable": false
   },
   "source": [
    "## Problem 4 (worth 9 marks)\n",
    "\n",
    "Now, **complete JUST THE BODY of the alternate implementation of the `find_top_ta` function below**. It has the same signature, purpose, and stub as above. You may not change how the function is templated. In particular, you must **follow the composition plan provided**. Do **not** supply tests, since you already supplied them above.\n",
    "\n",
    "You should assume the `get_contribs` and `max` functions that are just stubs below are complete, correct, and available for your use. **DO NOT** complete the `get_contribs` and `max` functions as part of this problem.\n",
    "\n",
    "Otherwise, **where you need a helper function, design only its signature, purpose, and stub in the same cell as `get_contribs` and `max` and then assume like `get_contribs` and `max` that it is complete and correct.**"
   ]
  },
  {
   "cell_type": "code",
   "execution_count": null,
   "metadata": {},
   "outputs": [],
   "source": [
    "## ASSUME that get_contribs--and any functions whose signatures\n",
    "## purposes, and stubs you add here--are CORRECT AND COMPLETE and\n",
    "## available for your use.\n",
    "\n",
    "## TODO: add here any signatures, purposes, and stubs for any helper\n",
    "##       functions required by your find_top_ta design below.\n",
    "\n",
    "@typecheck\n",
    "def get_contribs(lops: List[PStat]) -> List[int]:\n",
    "    \"\"\"\n",
    "    returns the number of contributions of each element in lops\n",
    "    \"\"\"\n",
    "    return []  #stub\n",
    "    ## DO NOT COMPLETE ME\n",
    "    \n",
    "@typecheck\n",
    "def max(lof: List[float]) -> List[float]:\n",
    "    \"\"\"\n",
    "    return the largest element in lof or, if lof is empty,\n",
    "    returns 0\n",
    "    \"\"\"\n",
    "    return 0.0  #stub\n",
    "    ## DO NOT COMPLETE ME"
   ]
  },
  {
   "cell_type": "code",
   "execution_count": null,
   "metadata": {},
   "outputs": [],
   "source": [
    "## TODO: complete the design of find_top_ta, without changing\n",
    "## the existing signature, purpose, or stub. Use the provided \n",
    "## composition plan. \n",
    "##\n",
    "## DO NOT FORGET to design signatures, purposes, and stubs for any\n",
    "## new helpers in the cell above.\n",
    "@typecheck\n",
    "def find_top_ta(lops: List[PStat]) -> float:\n",
    "    \"\"\"\n",
    "    returns the Piazza \"activity rating\" of the most active TA in lops\n",
    "    (measured by activity rating). A user's \"activity rating\" is the number \n",
    "    of posts they contributed plus one-tenth of the number of posts they viewed.\n",
    "    (So, a user who contributed 12 posts but viewed 31 would have a rating of\n",
    "    12 + 3.1 or 15.1.)\n",
    "    \n",
    "    returns 0 if there are no TAs in lops.\n",
    "    \"\"\"\n",
    "    return 0.0  #stub\n",
    "    # templated by composition\n",
    "    # Plan:\n",
    "    # 1) filter to only the users in lops that are TAs\n",
    "    # 2) find one-tenth of the number of views of each of those TAs\n",
    "    # 3) find the number of contributions of each of those TAs\n",
    "    # 4) compute a list of sums of the numbers from step 2 and step 3\n",
    "    #    (so the first element of the new list will be the sum of the first\n",
    "    #     element of step 2's list and the first element of step 3's list,\n",
    "    #     and so on)\n",
    "    # 5) return the maximum of those sums\n",
    "    \n",
    "start_testing()\n",
    "## DO NOT ADD TESTS. You should assume they are already complete.\n",
    "summary()"
   ]
  },
  {
   "cell_type": "markdown",
   "metadata": {
    "deletable": false,
    "editable": false
   },
   "source": [
    "## Problem 5 (worth 9 marks)\n",
    "\n",
    "**Complete the design of the graphing function below.** Ensure that the produced graph has a good title and axis labels and remember to complete all remaining steps of the HtDF recipe including tests. **Your y axis label must be of the form `Rating - ` followed by the activity rating of the top TA**, e.g., `Rating - 122.5` if the top TA had an activity rating of 122.5.\n",
    "\n",
    "**DO NOT insert images into this file as we will not see them in grading.** (Sorry! You have to describe graphs in English rather than sketching them.)\n",
    "\n",
    "You should assume the `find_top_ta`, `str`, `get_ratings`, `get_ids`, and `zero_all_to` functions that are just stubs below are complete, correct, and available for your use. **DO NOT** complete the `find_top_ta`, `str`, `get_ratings`, `get_ids`, and `zero_all_to` functions as part of this problem."
   ]
  },
  {
   "cell_type": "code",
   "execution_count": null,
   "metadata": {
    "deletable": false,
    "editable": false
   },
   "outputs": [],
   "source": [
    "## ASSUME that: find_top_ta, str, get_ratings, get_ids, and zero_all_to are \n",
    "## CORRECT AND COMPLETE and available for your use.\n",
    "##\n",
    "## DO NOT complete these functions as part of the work for this problem.\n",
    "\n",
    "@typecheck\n",
    "def find_top_ta(lops: List[PStat]) -> float:\n",
    "    \"\"\"\n",
    "    returns the Piazza \"activity rating\" of the most active TA in lops\n",
    "    (measured by activity rating). A user's \"activity rating\" is the number \n",
    "    of posts they contributed plus one-tenth of the number of posts they viewed.\n",
    "    (So, a user who contributed 12 posts but viewed 31 would have a rating of\n",
    "    12 + 3.1 or 15.1.)\n",
    "    \n",
    "    returns 0 if there are no TAs in lops.\n",
    "    \"\"\"\n",
    "    return 0.0  #stub\n",
    "    ## DO NOT COMPLETE ME\n",
    "\n",
    "@typecheck\n",
    "def str(f: float) -> str:\n",
    "    \"\"\"\n",
    "    returns f as a string (e.g., \"2.7\" if f is 2.7)\n",
    "    \"\"\"\n",
    "    return \"\"   #stub\n",
    "    ## DO NOT COMPLETE ME\n",
    "    \n",
    "\n",
    "@typecheck\n",
    "def get_ratings(lops: List[PStat]) -> List[float]:\n",
    "    \"\"\"\n",
    "    returns the activity rating of each user in lops.\n",
    "    A user's \"activity rating\" is the number of posts they contributed \n",
    "    plus one-tenth of the number of posts they viewed.\n",
    "    \"\"\"\n",
    "    return []   #stub\n",
    "    ## DO NOT COMPLETE ME\n",
    "    \n",
    "@typecheck\n",
    "def get_ids(lops: List[PStat]) -> List[int]:\n",
    "    \"\"\"\n",
    "    returns the ID of each user in lops.\n",
    "    \"\"\"\n",
    "    return []   #stub\n",
    "    ## DO NOT COMPLETE ME\n",
    "    \n",
    "@typecheck\n",
    "def zero_all_to(lof: List[float], reference_value: float) -> List[float]:\n",
    "    \"\"\"\n",
    "    returns each element f in lof reduced by reference_value, i.e.,\n",
    "    for any given element f, produces: f - reference_value\n",
    "    \"\"\"\n",
    "    return []   #stub\n",
    "    ## DO NOT COMPLETE ME"
   ]
  },
  {
   "cell_type": "code",
   "execution_count": null,
   "metadata": {},
   "outputs": [],
   "source": [
    "## TODO: complete the design of graph_ratings_vs_top_ta, without changing the\n",
    "## existing signature, purpose, stub, or template comment.\n",
    "\n",
    "@typecheck\n",
    "def graph_ratings_vs_top_ta(lops: List[PStat]) -> None:\n",
    "    \"\"\"\n",
    "    Draws a line chart showing each user's activity rating \n",
    "    (relative to the top TA's activity rating) in lops vs. the user's\n",
    "    ID (which relates to the time when they signed up for the Piazza site).\n",
    "    \n",
    "    The y axis label is \"Rating - \" followed by the activity rating of\n",
    "    the top TA. (If there are no TAs, then the top TA rating is taken to be zero.)\n",
    "    \n",
    "    ASSUMES that lops is provided in increasing order by Piazza ID.\n",
    "    \n",
    "    E.g., if the top TA in lops has a rating of 20 and ID of 3 and another\n",
    "    user has a rating of 30 and ID of 7, then the TA's point on the graph will\n",
    "    be at x = 3 and y = 0 (20 minus their own rating of 20), and the other\n",
    "    user's point on the graph will be at x = 7 and y = 10 (30 minus 20).\n",
    "    \"\"\"\n",
    "    return None  #stub\n",
    "    # template from viz\n",
    "\n",
    "    \n",
    "start_testing()\n",
    "\n",
    "# DO NOT insert images into this file as we will not see them in grading.\n",
    "# You will have to describe the expected graph in English instead :(\n",
    "expect(..., ...)\n",
    "summary()"
   ]
  },
  {
   "cell_type": "markdown",
   "metadata": {
    "deletable": false,
    "editable": false
   },
   "source": [
    "## Now Submit\n",
    "\n",
    "First, go back and be sure you've completed each step we've asked for in each design **AND** acknowledged the exam rules at the top.\n",
    "\n",
    "(Common steps to forget include tests, where we require them, and however much we ask for you to complete of helper functions you call.)\n",
    "\n",
    "To submit the exam:\n",
    "\n",
    "1. Click the `File` menu, go to the `Download as` submenu, and select `Python (.py)`. This will download your exam work to your computer as a Python file, i.e., one ending in `.py`.\n",
    "2. Log in to gradescope with the same account you used to submit Midterm 2. (If you don't recall your account, check out https://piazza.com/class/k4acympiwak4u?cid=359.)\n",
    "3. Click the Final Exam \"assignment\"\n",
    "4. You should immediately see a window in which to upload your exam submission.\n",
    "5. Either click the box and find your `.py` file or drag-and-drop your `.py` file into the box.\n",
    "6. Click the \"Upload\" button.\n",
    "7. Review your submission. Click the \"Code\" button in the viewing window. You should be able to see your submission. Your markdown cells' contents will appear as comments but should still be readable. Be sure it is the right submission!!\n",
    "\n",
    "If you need to resubmit, follow the same steps except that after clicking the Final Exam \"assignment\", you will click the \"Resubmit\" button in the lower-right before seeing the window in which to upload your submission."
   ]
  }
 ],
 "metadata": {
  "kernelspec": {
   "display_name": "Python 3",
   "language": "python",
   "name": "python3"
  },
  "language_info": {
   "codemirror_mode": {
    "name": "ipython",
    "version": 3
   },
   "file_extension": ".py",
   "mimetype": "text/x-python",
   "name": "python",
   "nbconvert_exporter": "python",
   "pygments_lexer": "ipython3",
   "version": "3.7.6"
  }
 },
 "nbformat": 4,
 "nbformat_minor": 4
}
