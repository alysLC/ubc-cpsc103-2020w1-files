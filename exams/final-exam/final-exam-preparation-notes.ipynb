{
 "cells": [
  {
   "cell_type": "markdown",
   "metadata": {
    "deletable": false,
    "editable": false
   },
   "source": [
    "# Rules and Instructions for the Actual Final Exam:\n",
    "(to be repeated verbatim on the exam)\n",
    "\n",
    "We divide the rules into two parts: The part specific to CPSC 103 that you need to read, and UBC's recommended rules for students to agree to.\n",
    "\n",
    "## The Part We Absolutely Need You to Read\n",
    "\n",
    "### Your Work Is Your Own\n",
    "\n",
    "Your work on the exam must be **your own individual work**. You may not discuss the exam in any way with anyone outside of the course staff for CPSC 103.\n",
    "\n",
    "If you get (or give!) assistance from someone who is not CPSC 103 course staff on the CPSC 103 exam, you should expect a grade of 0 on your exam and an academic misconduct case against you.\n",
    "\n",
    "**Possible exception:** We are switching to online exams in crisis mode. If you have technical issues *with the online format*, you should ask those of the CPSC 103 course staff. In an emergency you may ask assistance from someone else **ONLY** on such technical issues. You **MUST** acknowledge that person by name with their contribution in the cell below. **DO NOT** take (or give) any assistance on the content of the exam as part of this emergency assistance, not even help reading the questions.\n",
    "\n",
    "### Use Only the Time Allocated to our Final Exam\n",
    "\n",
    "**IF YOU PASSED MIDTERM 2:** **do not take** the final exam; **do not access Syzygy during or approaching the exam period** (Tue 21 Apr 6:45 - 10:15PM, but better to avoid it all of April 21 and April 22). Keep load down for your classmates!\n",
    "\n",
    "**IF YOU DID NOT PASS OR DID NOT TAKE MIDTERM 2:**\n",
    "\n",
    "We will start the exam session 15 minutes early at 6:45PM Vancouver time on Tuesday 21 April. Please arrive early on Zoom for invigilation at the URL posted on Piazza at https://piazza.com/class/k4acympiwak4u?cid=1323.\n",
    "\n",
    "The exam will release at 7PM Vancouver time (Tue 21 Apr) at http://www.students.cs.ubc.ca/~cs-103/redirect/?target=exams/final-exam/release/final-exam-work.ipynb. (It may be hard in the first few minutes to open as everyone accesses it. If you need to wait a few minutes, you can start reading&mdash;but not editing&mdash;the exam at the same time at https://github.com/steven-wolfman/ubc-cpsc103-2019W2-files/blob/master/exams/final-exam/release/final-exam-work.ipynb.\n",
    "\n",
    "You'll have until 10PM Vancouver time (Tue 21 Apr) to submit your exam. (We will accept late submissions up to 15 minutes after the deadline, but that is all. **Do not** plan to use this time or you will have technical issues that make you late even for it!)\n",
    "\n",
    "### You May Use CPSC 103 Resources on Canvas, Syzygy/Jupyter, and Piazza\n",
    "\n",
    "You have access to all our term's content on Canvas, Syzygy/Jupyter, and Piazza. That includes, for example, our design recipes.\n",
    "\n",
    "However, Piazza will be closed to new posts during the exam. To ask a question, [\"raise your hand\" on Zoom](https://support.zoom.us/hc/en-us/articles/115001286183-Nonverbal-Feedback-During-Meetings#h_50523139-7bac-403b-9c59-1755ada65ad9) and wait to be moved to a private breakout room. **Do not unmute.** While you wait, continue working on the exam!\n",
    "\n",
    "### Submission Format and Deadline\n",
    "\n",
    "You must download your Jupyter Notebook as a Python (.py) file and submit it on [gradescope](https://www.gradescope.ca/courses/46) to receive credit for the exam. Full credit is available only for submissions to Gradescope completed by 10PM Vancouver time (Tue 21 Apr). (We will accept late submissions up to 15 minutes after the deadline, but that is all. **Do not** plan to use this time or you will have technical issues that make you late even for it!)\n",
    "\n",
    "Instructions on submitting the exam are at the end of this file.\n",
    "\n",
    "## The Other Part You Are Agreeing To\n",
    "\n",
    "I hereby pledge that I have read and will abide by the rules, regulations, and expectations set out in the Academic Calendar, with particular attention paid to:\n",
    "1. The Student Declaration (http://www.calendar.ubc.ca/vancouver/index.cfm?tree=3,285,0,0)\n",
    "2. The Academic Honesty and Standards http://www.calendar.ubc.ca/vancouver/index.cfm?tree=3,286,0,0\n",
    "3. The Student Conduct During Examinations http://www.calendar.ubc.ca/vancouver/index.cfm?tree=3,41,90,0\n",
    "4. The special rules for conduct as set out above, and any additional rules set out by the examiner during the exam period.\n",
    "\n",
    "I affirm that I will not give or receive any unauthorized help on this examination, that all work will be my own, and that I will abide by any special rules for conduct set out by the examiner."
   ]
  },
  {
   "cell_type": "raw",
   "metadata": {},
   "source": [
    "***SAMPLE for the preparation notes. No need to fill out.***\n",
    "\n",
    "You are REQUIRED to agree to these exam rules to participate in the exam.\n",
    "\n",
    "Submitting your exam to gradescope indicates your agreement with these rules.\n",
    "\n",
    "If you received emergency technical assistance (see rules on that above), acknowledge everyone who gave it here in this format:\n",
    "+ NAME OF PERSON PROVIDING ASSISTANCE, RELATIONSHIP OF THAT PERSON TO YOU, NATURE OF ASSISTANCE GIVEN"
   ]
  },
  {
   "cell_type": "markdown",
   "metadata": {
    "deletable": false,
    "editable": false
   },
   "source": [
    "# IMPORTANT NOTE ON OUR ONLINE EXAMS\n",
    "\n",
    "Your online exam work will be in Jupyter to make it easy and comfortable to type out your code (and to download it as a \"Python (.py)\" file for submission), but **DO NOT EXPECT EVERYTHING TO RUN**.\n",
    "\n",
    "First, we will supply various helper functions as simple stubs; so, neither they nor your functions that use them will run correctly regardless. Second, your focus and emphasis should be on **following our design process**, just as in on-paper exams, and not on perfection.\n",
    "\n",
    "Also, as always, **THROUGHOUT the exam:** If we ask you to design a solution, we mean to design it using the appropriate design recipes (i.e., HtDF, HtDD, or both) taught in CPSC 103."
   ]
  },
  {
   "cell_type": "code",
   "execution_count": null,
   "metadata": {
    "deletable": false,
    "editable": false
   },
   "outputs": [],
   "source": [
    "from cs103 import *\n",
    "from enum import Enum\n",
    "from typing import List, NamedTuple, Optional\n",
    "import csv"
   ]
  },
  {
   "cell_type": "markdown",
   "metadata": {
    "deletable": false,
    "editable": false
   },
   "source": [
    "# Final Exam"
   ]
  },
  {
   "cell_type": "markdown",
   "metadata": {
    "deletable": false,
    "editable": false
   },
   "source": [
    "**Information about Piazza user statistics**\n",
    "\n",
    "Several questions on the final exam will be based on a modified version of the following domain and data definitions related to *Piazza user stats*.\n",
    "\n",
    "Information about Piazza stats is available in a CSV file in a format like the following:\n",
    "\n",
    "| ID | Student? | Instructor? | Groups           | Views | Contributions |\n",
    "|----|----------|-------------|------------------|-------|---------------|\n",
    "|  3 | Yes      | No          | T1X              |    30 |             4 |\n",
    "| 17 | No       | Yes         | pandas;T1X;orcas |   110 |            58 |\n",
    "\n",
    "Each row has:\n",
    "+ An `ID`, a positive integer identifying the user, where no two users have the same ID.\n",
    "+ Whether the user is a student (`Student?`), always \"Yes\" or \"No\".\n",
    "+ Whether the user is an instructor (`Instructor?`), always \"Yes\" or \"No\"; TAs' information will have \"No\" for both student and instructor; no one will have \"Yes\" for both student and instructor.\n",
    "+ `Views` and `Contribs`, each of which is zero or a positive integer representing the number of posts viewed and number of posts contributed by the user (respectively). (`Contribs` cannot be greater than `Views`, since the user views each of their contributed posts.)\n",
    "\n",
    "We are interested in the ID, whether the user is a student, whether the user is an instructor, and numbers of views and contributions. We represent them with these data definitions:"
   ]
  },
  {
   "cell_type": "code",
   "execution_count": null,
   "metadata": {},
   "outputs": [],
   "source": [
    "PStat = NamedTuple('PStat', [('id', int),        # in range[1, ...]\n",
    "                             ('is_st', bool),\n",
    "                             ('is_in', bool),\n",
    "                             ('views', int),     # in range[0, ...]\n",
    "                             ('contribs', int)]) # in range[views, ...]\n",
    "# interp. statistics about a Piazza post with the user's unique ID,\n",
    "# whether they are student (is_st) or instructor (is_in), where TAs are\n",
    "# neither student nor instructor and no one is both student and instructor,\n",
    "# the number of posts they have viewed, and the number of posts they contributed.\n",
    "PS1 = PStat(3, True, False, 30, 4)\n",
    "PS2 = PStat(17, False, True, 110, 58)\n",
    "\n",
    "# template based on compound (5 fields)\n",
    "@typecheck\n",
    "def fn_for_p_stat(ps: PStat) -> ...:\n",
    "    return ...(ps.id,\n",
    "               ps.is_st,\n",
    "               ps.is_in,\n",
    "               ps.views,\n",
    "               ps.contribs)\n",
    "\n",
    "# List[PStat]\n",
    "# interp. a list of Piazza stats\n",
    "LOPS0 = []\n",
    "LOPS1 = [PS1, PS2]\n",
    "\n",
    "# template based on arbitrary-sized and reference rule (PStat)\n",
    "@typecheck\n",
    "def fn_for_lops(lops: List[PStat]) -> ...:\n",
    "    # description of accumulator\n",
    "    acc = ...   # type: ...\n",
    "    \n",
    "    for ps in lops:\n",
    "        acc = ...(acc, fn_for_p_stat(ps))\n",
    "        \n",
    "    return ...(acc)\n"
   ]
  },
  {
   "cell_type": "markdown",
   "metadata": {},
   "source": [
    "To practice for the exam, you may want to try:\n",
    "+ Design a read function to read Piazza stats information into a `List[PStat]`\n",
    "+ Modify the data definitions and your read function to include the \"groups\" as a `List[str]`. You may assume a function `split_on_sc(s: str) -> List[str]` is available that splits `s` wherever it has a semicolon into a list of strings.\n",
    "+ Design a function to operate on a `List[PStat]` such as one to find the largest difference between views and contributions or how many total contributions came from students. Try designing these once using the `List[PStat]` template. Then, design them once as a composition. For example, for the second task, you might filter to only the students, then extract the contributions, and finally total them up.\n",
    "+ Design a function (with helper functions for any substantial sub-task!) that takes a `List[PStat]` and a parameter indicating whether to include instructors and makes a line graph of the number of views on the y axis versus the number of contributions on the x axis (assuming the list is in order by number of contributions). The graph should include just students unless the parameter indicates to include instructors, in which case it should include everyone. Its title should indicate whether it is a graph of just student data or everyone's data. Be sure to follow all steps of the function design process and to give your graph good title and axis labels.\n",
    "\n",
    "**ADDITIONALLY**, both the practice exam and Midterm 2 are excellent practice for the final exam, which will be very similar in scope and problem type. You can find the practice and Midterm 2 at https://www.students.cs.ubc.ca/~cs-103/redirect/?target=exams/mt2."
   ]
  }
 ],
 "metadata": {
  "kernelspec": {
   "display_name": "Python 3",
   "language": "python",
   "name": "python3"
  },
  "language_info": {
   "codemirror_mode": {
    "name": "ipython",
    "version": 3
   },
   "file_extension": ".py",
   "mimetype": "text/x-python",
   "name": "python",
   "nbconvert_exporter": "python",
   "pygments_lexer": "ipython3",
   "version": "3.7.6"
  }
 },
 "nbformat": 4,
 "nbformat_minor": 4
}
