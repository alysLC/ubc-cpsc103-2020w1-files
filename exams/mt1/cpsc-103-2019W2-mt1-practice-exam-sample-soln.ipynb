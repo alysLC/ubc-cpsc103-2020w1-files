{
 "cells": [
  {
   "cell_type": "markdown",
   "metadata": {},
   "source": [
    "# CPSC 103 2019W2 Midterm 1 Practice Exam, Sample Solution\n",
    "\n",
    "Just for fun, we'll do the sample solution to the practice exam as a Jupyter notebook. That way, you can run the code!\n",
    "\n",
    "As always, there are often many different solutions to a particular problem. Be sure you understand how and why we came to the solution we did on the exam and how to judge the quality of your own solution if it differed! (Even better: think about alternate solutions, ways to check the correctness of your solution, and alternate versions of the problem. Those are *amazingly* good study activities!)"
   ]
  },
  {
   "cell_type": "code",
   "execution_count": 1,
   "metadata": {},
   "outputs": [],
   "source": [
    "# You do NOT need to write imports on the exam,\n",
    "# but we do here if we want our code to run!\n",
    "\n",
    "from cs103 import *\n",
    "from typing import NamedTuple, Optional, List\n",
    "from enum import Enum"
   ]
  },
  {
   "cell_type": "markdown",
   "metadata": {},
   "source": [
    "**Problem 0**\n",
    "\n",
    "Don't forget your CS alias! You can find it at https://www.cs.ubc.ca/getacct/."
   ]
  },
  {
   "cell_type": "markdown",
   "metadata": {},
   "source": [
    "## Problem 1\n",
    "\n",
    "Problem 1 involves tracing Python code. So, in Jupyter it becomes \"easy\" by simply running the code, but what we really care about is how we can simulate Python's work in tracing.\n",
    "\n",
    "So, let's annotate the code blocks and then just run them for an answer."
   ]
  },
  {
   "cell_type": "code",
   "execution_count": 2,
   "metadata": {},
   "outputs": [
    {
     "data": {
      "text/plain": [
       "'abcxyzsecond'"
      ]
     },
     "execution_count": 2,
     "metadata": {},
     "output_type": "execute_result"
    }
   ],
   "source": [
    "# Part a               # We'll record memory here like this: x => 5.\n",
    "                       # That would mean the variable named x has the value 5.\n",
    "    \n",
    "# NOTICE: \"second\" is a string, but second is a variable name.\n",
    "second = \"abc\"         # second => \"abc\"                                    \n",
    "third = \"second\"       # second => \"abc\", third => \"second\"\n",
    "first = second         # second => \"abc\", third => \"second\", first => \"abc\"\n",
    "second = \"xyz\"         # second => \"xyz\", third => \"second\", first => \"abc\"\n",
    "first + second + third # Now, we can read memory to get the variables' values\n",
    "\n",
    "# Note: you should really put the result in quotation marks \n",
    "# ('single' or \"double\" does not matter)."
   ]
  },
  {
   "cell_type": "code",
   "execution_count": 3,
   "metadata": {},
   "outputs": [
    {
     "data": {
      "text/plain": [
       "101"
      ]
     },
     "execution_count": 3,
     "metadata": {},
     "output_type": "execute_result"
    }
   ],
   "source": [
    "# Part b\n",
    "\n",
    "val = 8                # val => 8\n",
    "res = 30               # val => 8, res => 30\n",
    "if val < 5:            # val => 8, res => 30    # val is NOT less than 5;\n",
    "    res = 10                                    # so, we jump to..\n",
    "else:\n",
    "    res = 1            # val => 8, res => 1     # the else block, \n",
    "    val = 6            # val => 6, res => 1     # which is two lines long\n",
    "if val < 7:            # val => 6, res => 1     # now val is less than 7; \n",
    "    res = res + 100    # val => 6, res => 101   # so, we execute the if block\n",
    "res                                             # res's old value is 1.\n",
    "                                                # 1 + 100 is 101!"
   ]
  },
  {
   "cell_type": "code",
   "execution_count": 4,
   "metadata": {},
   "outputs": [
    {
     "data": {
      "text/plain": [
       "22"
      ]
     },
     "execution_count": 4,
     "metadata": {},
     "output_type": "execute_result"
    }
   ],
   "source": [
    "# Part c\n",
    "\n",
    "# For this part, let's figure out what a function accomplishes and\n",
    "# then add a purpose to it!\n",
    "\n",
    "# This little function returns its parameter plus 1.\n",
    "# Once we realize that, we can just think of it that way when we call it.\n",
    "def plus1(a):\n",
    "    \"\"\"\n",
    "    returns a + 1\n",
    "    \"\"\"\n",
    "    return a+1\n",
    "\n",
    "# We know plus1(b) just returns b+1.\n",
    "# So, this is really b+1 + b+1 or two times (b+1).\n",
    "def more(b):\n",
    "    \"\"\"\n",
    "    returns 2 * (b+1)\n",
    "    \"\"\"\n",
    "    return plus1(b) + plus1(b)\n",
    "\n",
    "# Now, this is just 2 * (10+1).\n",
    "# We can absolutely trace all this code as well (remembering that each \n",
    "# function will have its own part of memory with its own variables in that \n",
    "# part of memory), but the purpose on more above means we don't really need\n",
    "# to. The result should just be 2 * (10+1) = 22.\n",
    "more(10)"
   ]
  },
  {
   "cell_type": "code",
   "execution_count": 5,
   "metadata": {},
   "outputs": [
    {
     "data": {
      "text/plain": [
       "40"
      ]
     },
     "execution_count": 5,
     "metadata": {},
     "output_type": "execute_result"
    }
   ],
   "source": [
    "# Part d\n",
    "\n",
    "# Now, we need to emphasize that double has its own memory when it is called.\n",
    "# We'll do that by saying x => ... for x's \"global\" value (the one available\n",
    "# everywhere) and double's x => ... for the value of the x variable that is\n",
    "# local to the double function.\n",
    "\n",
    "x = 1              # x => 1\n",
    "def double(x):     # x => 1                   # we have NOT yet called double\n",
    "    return 2*x\n",
    "x = 5              # x => 5\n",
    "double(20)         # x => 5                   # Now we call double; so, memory\n",
    "                   # x => 5, double's x => 20 # has two x values. Then we go\n",
    "# return 2*x       # x => 5, double's x => 20 # execute the body of double\n",
    "                                              # Inside double, we see double's\n",
    "                                              # x and NOT the global x! So,\n",
    "                                              # this returns 40, which becomes\n",
    "                                              # the value of double(20)."
   ]
  },
  {
   "cell_type": "markdown",
   "metadata": {},
   "source": [
    "## Problem 2\n",
    "\n",
    "**Problem:** Imagine you are working in Jupyter on a computer completing the one-argument template\n",
    "function step for a data definition called Element that is well-designed but not-yet-complete. Fill in\n",
    "the circle next to the one part of the design that would make it easy to complete the template\n",
    "function.\n",
    "\n",
    "In the data definition, the *only* part we need to write the one-argument template function is the data type definition. That tells us the structure of the information and its representation in Python, which is what the template is based on. The interpretation may tell us a lot, but try to figure out the type and attribute/field names from \"a herring, with its shrubbery value and key phrase\" (an admittedly silly interp). Similarly, the examples may (or may not) tell us a lot, but not everything we need."
   ]
  },
  {
   "cell_type": "markdown",
   "metadata": {},
   "source": [
    "## Problem 3\n",
    "\n",
    "Consider the following correct and complete data definition for a point with x and y\n",
    "coordinates:"
   ]
  },
  {
   "cell_type": "code",
   "execution_count": 6,
   "metadata": {},
   "outputs": [],
   "source": [
    "Point = NamedTuple('Point', [('x', float), ('y', float)])\n",
    "# interp. a point in 2-D space with its x coordinate and y coordinate\n",
    "P_ORIGIN = Point(0, 0)\n",
    "P1 = Point(2, 5)\n",
    "\n",
    "@typecheck # template based on compound (2 fields)\n",
    "def fn_for_point(p: Point) -> ...:\n",
    "    return ...(p.x, p.y)"
   ]
  },
  {
   "cell_type": "markdown",
   "metadata": {},
   "source": [
    "Design a function that takes a point and returns its “Manhattan distance” from the origin, which is the\n",
    "sum of the absolute values of the two coordinates. You may assume you have available to call the abs\n",
    "function, which takes a float and returns its absolute value."
   ]
  },
  {
   "cell_type": "code",
   "execution_count": 7,
   "metadata": {},
   "outputs": [
    {
     "name": "stdout",
     "output_type": "stream",
     "text": [
      "\u001b[92m3 of 3 tests passed\u001b[0m\n"
     ]
    }
   ],
   "source": [
    "# Again, we follow the HtDF recipe, this time all the steps. By the way, a\n",
    "# name like get_manhattan_distance would likely be better than get_manh_dist,\n",
    "# but we shortened it a bit because on paper, short names are really handy!\n",
    "\n",
    "# On the signature: we know for sure the return value should be a float and \n",
    "# not an int because x and y in Point are floats. So, int won't do.\n",
    "# (It's fine to also say that return value is 0 or more, but that's implied\n",
    "# by the rest of the purpose already.)\n",
    "\n",
    "@typecheck\n",
    "def get_manh_dist(p: Point) -> float:\n",
    "    \"\"\"\n",
    "    returns the Manhattan distance from (0, 0) to p: the sum of the absolute\n",
    "    values of p.x and p.y.\n",
    "    \"\"\"\n",
    "    #return 0.0  #stub\n",
    "    # Again, the next step after stub is tests/examples.\n",
    "    # Jump to the bottom of the page and write your tests. Then come back up!\n",
    "    \n",
    "    # template from Point\n",
    "    return abs(p.x) + abs(p.y)\n",
    "\n",
    "start_testing()\n",
    "expect(get_manh_dist(Point(0, 0)), 0)\n",
    "expect(get_manh_dist(Point(1, 2)), 3)\n",
    "expect(get_manh_dist(Point(-3, -4)), 7)\n",
    "\n",
    "# At minimum, it would be best to have at least two examples\n",
    "# that include both positive and negative x values and y values.\n",
    "# The origin seems like a good test case as well.\n",
    "summary()"
   ]
  },
  {
   "cell_type": "markdown",
   "metadata": {},
   "source": [
    "## Problem 4\n",
    "\n",
    "Let's begin with the problem statement:\n",
    "\n",
    "We label Piazza posts with folders. So, we might label a post about the Module 2 tutorial\n",
    "with “module2” and “tutorial” labels. Labels cannot contain semicolons “;”. Here’s a correct and\n",
    "complete data definition for Label representing a folder label that may be missing:"
   ]
  },
  {
   "cell_type": "code",
   "execution_count": 8,
   "metadata": {},
   "outputs": [],
   "source": [
    "Label = Optional[str]\n",
    "# interp. a label string or None if the label is missing\n",
    "# label strings cannot contain semicolons (\";\")\n",
    "L0 = None\n",
    "L1 = \"tutorial\"\n",
    "\n",
    "@typecheck # template based on Optional\n",
    "def fn_for_label(l: Label) -> ...:\n",
    "    if l is None:\n",
    "        return ...\n",
    "    else:\n",
    "        return ...(l)"
   ]
  },
  {
   "cell_type": "markdown",
   "metadata": {},
   "source": [
    "For this problem, assume the complete and correct function find_index with the following signature\n",
    "and purpose is available to call."
   ]
  },
  {
   "cell_type": "code",
   "execution_count": 9,
   "metadata": {},
   "outputs": [
    {
     "name": "stdout",
     "output_type": "stream",
     "text": [
      "\u001b[92m10 of 10 tests passed\u001b[0m\n"
     ]
    }
   ],
   "source": [
    "\n",
    "# You should NOT NOT NOT NOT NOT have designed find_index on the exam.\n",
    "# But, if we want this code to run, we need to design it here!\n",
    "\n",
    "@typecheck\n",
    "def find_index(context: str, target: str) -> int:\n",
    "    \"\"\"\n",
    "    return the index in the string context where target starts, if any. If\n",
    "    multiple indexes match, returns the first one. If none matches, returns -1\n",
    "    If target is found at index i, then: context[i:i+len(target)] == target.\n",
    "    \"\"\"\n",
    "    #return 0   #stub\n",
    "    #return ...(context, target)  # stub\n",
    "    \n",
    "    # Again: you shouldn't have designed this to solve the practice exam!\n",
    "    \n",
    "    # It would be tricky to do this without either having a way to treat a \n",
    "    # string like a list (which is possible, but not what we'll do) or used a\n",
    "    # handy built-in function, which is what we will do. Run help(str.find) or\n",
    "    # see https://www.w3schools.com/python/ref_string_find.asp for more info!\n",
    "    return context.find(target)\n",
    "\n",
    "start_testing()\n",
    "\n",
    "# Empty string cases.\n",
    "expect(find_index(\"\", \"\"), 0)\n",
    "expect(find_index(\"anything\", \"\"), 0)\n",
    "expect(find_index(\"\", \"anything longer than 0\"), -1)\n",
    "\n",
    "\n",
    "# \"Normal\" succeeding cases.\n",
    "expect(find_index(\"hello\", \"he\"), 0)\n",
    "expect(find_index(\"hello\", \"ell\"), 1)\n",
    "expect(find_index(\"hello\", \"lo\"), 3)\n",
    "expect(find_index(\"one two three four\", \"wo t\"), 5)\n",
    "\n",
    "# \"Normal\" failing cases.\n",
    "expect(find_index(\"hello\", \"ol\"), -1)\n",
    "expect(find_index(\"one two three four\", \"four-ish\"), -1)\n",
    "\n",
    "# Succeeding with multiple matches.\n",
    "expect(find_index(\"one two three four\", \" t\"), 3)\n",
    "\n",
    "summary()"
   ]
  },
  {
   "cell_type": "markdown",
   "metadata": {},
   "source": [
    "Now, complete the design (the stub, examples/tests, template comment, and body) on the next\n",
    "page of get_first_label. Its signature and purpose are already correct and complete. For full\n",
    "credit, your design must call find_index (but should not define it).\n",
    "\n",
    "Note: For a post with just the module2 label, we pass in \"module2\". For a post with module2,\n",
    "tutorial, and logistics, we pass in \"module2;tutorial;logistics\". In both cases, the\n",
    "function returns \"module2\"."
   ]
  },
  {
   "cell_type": "code",
   "execution_count": 10,
   "metadata": {},
   "outputs": [
    {
     "name": "stdout",
     "output_type": "stream",
     "text": [
      "\u001b[92m6 of 6 tests passed\u001b[0m\n"
     ]
    }
   ],
   "source": [
    "# First, we read the signature/purpose to figure out what the function does.\n",
    "\n",
    "# Then, as always, we follow the HtDF recipe to design this function.\n",
    "# Signature and purpose are done. Left for us are: stub, tests/examples,\n",
    "# template comment, and body.\n",
    "\n",
    "@typecheck\n",
    "def get_first_label(folders: str) -> Label:\n",
    "    \"\"\"\n",
    "    return the first label in folders, where folders is \"\" if it contains no\n",
    "    folder, just the folder name for one folder, and otherwise has folder \n",
    "    names separated by \";\". Returns None if folders is \"\".\n",
    "    \"\"\"\n",
    "    #return None  #stub   # Any Label would do. For example, here's an\n",
    "    #return L0    #stub   # alternate version. (DO NOT give both on the exam!)\n",
    "    \n",
    "    # Next in the solution comes the template, but next in the PROCESS, we'd\n",
    "    # jump down to the bottom and write our tests. If you don't include \n",
    "    # start_testing and summary on the exam, we do not care! So, just write \n",
    "    # your tests from bottom to top of the page :)\n",
    "    \n",
    "    \n",
    "    # After the tests, we jump back to the template comment:\n",
    "    #return ...(folders)  #template\n",
    "    \n",
    "    sc_index = find_index(folders, \";\")\n",
    "    if folders == \"\":\n",
    "        return None\n",
    "    elif sc_index < 0:\n",
    "        return folders\n",
    "    else:\n",
    "        return folders[:sc_index]\n",
    "    \n",
    "    # P.S. It ALMOST but doesn't quite work to replace that elif/else with \n",
    "    # just an else: return folders[:sc_index]. Try it, and see what fails!\n",
    "        \n",
    "\n",
    "start_testing()\n",
    "expect(get_first_label(\"\"), None)   # good to start with an empty string test\n",
    "\n",
    "# We may as well include the tests given to us in the problem statement!\n",
    "expect(get_first_label(\"module2\"), \"module2\")\n",
    "expect(get_first_label(\"module2;tutorial;logistics\"), \"module2\")\n",
    "\n",
    "# Is that enough? Well, we should probably have at least two different return \n",
    "# values in our non-None case. Would you lose marks for not having that? \n",
    "# Maybe.. regardless, it's a good idea.\n",
    "expect(get_first_label(\"logistics;fun\"), \"logistics\")\n",
    "\n",
    "# And, I noticed that there's a pretty strange case that could use testing.\n",
    "# You might skip this, and we probably wouldn't deduct marks (or many!), but\n",
    "# it's worth thinking about if you manage to consider it!\n",
    "expect(get_first_label(\";blank labels?;why not?\"), \"\")\n",
    "expect(get_first_label(\"blank labels?;;why not?\"), \"blank labels?\")\n",
    "\n",
    "summary()"
   ]
  },
  {
   "cell_type": "markdown",
   "metadata": {},
   "source": [
    "## Problem 5\n",
    "\n",
    "Recall the data definition for Reading:"
   ]
  },
  {
   "cell_type": "code",
   "execution_count": 11,
   "metadata": {},
   "outputs": [],
   "source": [
    "Reading = Optional[float] # in range[0, ...]\n",
    "# interp. a distance in centimeters (that is zero or greater) or None,\n",
    "# meaning an error code indicating that no data is presently available\n",
    "R_ERROR = None\n",
    "R_CLOSE = 2.5\n",
    "R_FAR = 38\n",
    "\n",
    "@typecheck # template based on optional\n",
    "def fn_for_reading(r: Reading) -> ...:\n",
    "    if r is None:\n",
    "        return ...\n",
    "    else:\n",
    "        return ...(r)"
   ]
  },
  {
   "cell_type": "markdown",
   "metadata": {},
   "source": [
    "Complete ONLY the signature, purpose, stub, and test/examples steps of designing a function that\n",
    "takes a reading and a known previous distance (as a float), and returns a “summary” of the two. The\n",
    "summary is the average of the two if the sensor reading has a known value and otherwise is just the\n",
    "previous distance. (You can lose marks for completing the template/body steps but not gain any.)"
   ]
  },
  {
   "cell_type": "code",
   "execution_count": 12,
   "metadata": {},
   "outputs": [
    {
     "name": "stdout",
     "output_type": "stream",
     "text": [
      "\u001b[91mTest failed:\u001b[0m expected 12.2 but got 0\n",
      "    \u001b[1mLine 25: \u001b[0mexpect(summarize_dists(None, 12.2), 12.2)\n",
      "\u001b[91mTest failed:\u001b[0m expected 15 but got 0\n",
      "    \u001b[1mLine 30: \u001b[0mexpect(summarize_dists(10, 20), 15)\n",
      "\u001b[91mTest failed:\u001b[0m expected 19 but got 0\n",
      "    \u001b[1mLine 31: \u001b[0mexpect(summarize_dists(18.5, 19.5), 19)\n",
      "\u001b[91m1 of 4 tests passed\u001b[0m\n"
     ]
    }
   ],
   "source": [
    "# Again, we follow HtDF, but this time we work hard to remember to\n",
    "# stop after the tests/examples.\n",
    "\n",
    "# Why do we ask questions where you skip parts of the recipe? Different parts \n",
    "# of the recipe build on each other. So, asking you to complete only portions \n",
    "# of it at a time lets us focus on your ability to apply only those parts \n",
    "# without being confused by possible mistakes in other parts.\n",
    "# Plus, time is limited!\n",
    "\n",
    "# As usual, we'll \"copy-and-paste\" the problem statement for the purpose, \n",
    "# though on paper, this is rewriting rather than pasting, sadly!\n",
    "\n",
    "@typecheck\n",
    "def summarize_dists(r: Reading, dist: float) -> float:\n",
    "    \"\"\"\n",
    "    return the average of r and dist if r is a valid sensor reading\n",
    "    or just dist if r is an error code (None).\n",
    "    \"\"\"\n",
    "    return 0  #stub\n",
    "\n",
    "start_testing()\n",
    "# We clearly need a None test. So, I started there. We really need more than\n",
    "# one, just show the variation in the second parameter.\n",
    "expect(summarize_dists(None, 0.0), 0.0)\n",
    "expect(summarize_dists(None, 12.2), 12.2)\n",
    "\n",
    "# Then, we need at least one, and probably a couple, non-None cases.\n",
    "# Let's keep them simple so the math doesn't cause us trouble! Or, we could\n",
    "# also leave the expected value in a form like (10 + 20) / 2 if we want. \n",
    "expect(summarize_dists(10, 20), 15)\n",
    "expect(summarize_dists(18.5, 19.5), 19)\n",
    "\n",
    "\n",
    "# You could imagine lots of other tests. The only one I might consider\n",
    "# is a NEGATIVE value for dist. r cannot be negative (because of the Reading\n",
    "# data definition). Can dist be negative? Probably not, but our purpose isn't\n",
    "# absolutely clear on thot. However, since the test also doesn't demonstrate\n",
    "# any interesting new behaviour for the function, we'll ignore it.\n",
    "#\n",
    "# You could ALSO state that dist >= 0 in your purpose.\n",
    "\n",
    "summary()\n",
    "\n",
    "# There are test failures below, which is fine because we didn't need to\n",
    "# implement the body!"
   ]
  },
  {
   "cell_type": "code",
   "execution_count": 13,
   "metadata": {},
   "outputs": [
    {
     "name": "stdout",
     "output_type": "stream",
     "text": [
      "\u001b[92m4 of 4 tests passed\u001b[0m\n"
     ]
    }
   ],
   "source": [
    "# Of course, who can resist finishing the code? YOU SHOULD FOR PRACTICE!\n",
    "# For this one, we will as well.\n",
    "#\n",
    "# Want solutions to the others? Sure! OK, post your solution and ask other \n",
    "# students for feedback!! :)\n",
    "\n",
    "@typecheck\n",
    "def summarize_dists(r: Reading, dist: float) -> float:\n",
    "    \"\"\"\n",
    "    return the average of r and dist if r is a valid sensor reading\n",
    "    or just dist if r is an error code (None).\n",
    "    \"\"\"\n",
    "    #return 0  #stub\n",
    "    # template from Reading w/add'l parameter (dist)\n",
    "    if r is None:\n",
    "        return dist\n",
    "    else:\n",
    "        return (r + dist) / 2    \n",
    "\n",
    "start_testing()\n",
    "# None tests\n",
    "expect(summarize_dists(None, 0.0), 0.0)\n",
    "expect(summarize_dists(None, 12.2), 12.2)\n",
    "\n",
    "# Non-None tests\n",
    "expect(summarize_dists(10, 20), 15)\n",
    "expect(summarize_dists(18.5, 19.5), 19)\n",
    "summary()"
   ]
  },
  {
   "cell_type": "markdown",
   "metadata": {},
   "source": [
    "## Problem 6\n",
    "\n",
    "Recall the data definition for Standing and consider the correct and complete data\n",
    "definition for an `Optional[int]`."
   ]
  },
  {
   "cell_type": "code",
   "execution_count": 14,
   "metadata": {},
   "outputs": [],
   "source": [
    "Standing = Enum('Standing', ['SD', 'AUD', 'W'])\n",
    "# interp. a student's standing in a course, one of: SD for standing deferred,\n",
    "# AUD for audit, or W for withdraw. (examples are redundant for enumerations)\n",
    "\n",
    "@typecheck # template based on enumeration (3 cases)\n",
    "def fn_for_standing(s: Standing) -> ...:\n",
    "    if s == Standing.SD:\n",
    "        return ...\n",
    "    elif s == Standing.AUD:\n",
    "        return ...\n",
    "    elif s == Standing.W:\n",
    "        return ..."
   ]
  },
  {
   "cell_type": "code",
   "execution_count": 15,
   "metadata": {},
   "outputs": [],
   "source": [
    "# Optional[int]\n",
    "# interp. an integer or None if the number is missing\n",
    "OI1 = None\n",
    "OI2 = 3\n",
    "\n",
    "@typecheck # template based on optional\n",
    "def fn_for_optional_int(oi: Optional[int]) -> ...:\n",
    "    if oi is None:\n",
    "        return ...\n",
    "    else:\n",
    "        return ...(oi)"
   ]
  },
  {
   "cell_type": "markdown",
   "metadata": {},
   "source": [
    "Complete ONLY the signature, purpose, stub, and test/examples steps of designing a function that\n",
    "takes a Standing and a current integer grade and produces an `Optional[int]` representing the\n",
    "reported grade. Students who have withdrawn from or audited a course receive no grade at all (None),\n",
    "while students with standing deferred receive their current grade as their reported grade. (You can\n",
    "lose marks for completing the template/body steps but not gain any.)"
   ]
  },
  {
   "cell_type": "code",
   "execution_count": 16,
   "metadata": {},
   "outputs": [
    {
     "name": "stdout",
     "output_type": "stream",
     "text": [
      "\u001b[91mTest failed:\u001b[0m expected 80 but got None\n",
      "    \u001b[1mLine 26: \u001b[0mexpect(report_grade(Standing.SD, 80), 80)\n",
      "\u001b[91mTest failed:\u001b[0m expected 90 but got None\n",
      "    \u001b[1mLine 27: \u001b[0mexpect(report_grade(Standing.SD, 90), 90)\n",
      "\u001b[91m2 of 4 tests passed\u001b[0m\n"
     ]
    }
   ],
   "source": [
    "# Again, HtDF, just up to the tests/examples.\n",
    "\n",
    "@typecheck\n",
    "def report_grade(s: Standing, grade: int) -> Optional[int]:\n",
    "    \"\"\"\n",
    "    return the reported grade for a student with the given standing s.\n",
    "    Students who have W or AUD standing receive no grade at all (None).\n",
    "    Otherwise, just returns grade.\n",
    "    \"\"\"\n",
    "    # It would be totally sensible to assume grade is in the range [0, 100] \n",
    "    # in the purpose. We didn't only because it isn't really necessary for\n",
    "    # this function, but it probably is the better way to write this purpose.\n",
    "    return None  #stub\n",
    "\n",
    "start_testing()\n",
    "\n",
    "# Two tests per standing for W/SD with different grades\n",
    "# would be great, but isn't really critical. (It doesn't\n",
    "# show any interesting variation in how the function works.\n",
    "# The function doesn't care about grade if standing is SD/W!)\n",
    "expect(report_grade(Standing.W, 80), None)\n",
    "expect(report_grade(Standing.AUD, 90), None)\n",
    "\n",
    "# We definitely need a couple tests for the SD case to show\n",
    "# variation in the grade parameter, however.\n",
    "expect(report_grade(Standing.SD, 80), 80)\n",
    "expect(report_grade(Standing.SD, 90), 90)\n",
    "\n",
    "# If you did assume the grades were in the range [0, 100], it\n",
    "# would be a good idea to consider tests for 0 and 100 values,\n",
    "# but in this case there's nothing interesting happening at those\n",
    "# boundaries; so, they're not critical.\n",
    "\n",
    "summary()\n",
    "\n",
    "# There are test failures below, which is fine because we didn't need to\n",
    "# implement the body!"
   ]
  },
  {
   "cell_type": "markdown",
   "metadata": {},
   "source": [
    "## Problem 7\n",
    "\n",
    "The record for a Piazza question includes its number (where no two questions in the same\n",
    "course share the same number), whether a student has answered the question yet, how many\n",
    "endorsements the student answer has (which must be zero if there is no student answer yet), and\n",
    "whether an instructor has answered the question yet. (Endorsement is standard English; for reference,\n",
    "it effectively means here a vote that an answer is good.)\n",
    "\n",
    "Design a data definition named Question to represent a Piazza question."
   ]
  },
  {
   "cell_type": "code",
   "execution_count": 17,
   "metadata": {},
   "outputs": [],
   "source": [
    "# We have many pieces that belong together. So, this is a compound.\n",
    "# We chose that the numbers would be 1 or more. That isn't really clear from\n",
    "# the problem statement. No range at all would be fine! So would any plausible\n",
    "# range, which probably means just 0 or more as another alternative :)\n",
    "\n",
    "# On the other hand, the number of endorsements should clearly be 0 or more.\n",
    "# We cannot have negative endorsements!\n",
    "\n",
    "# Note how we discuss in the interp the unusual relationship between\n",
    "# num_endorse and has_s_answer and also the unusual constraint on number.\n",
    "\n",
    "Question = NamedTuple('Question', [('number', int),        # in range [1, ...]\n",
    "                                   ('has_s_answer', bool),\n",
    "                                   ('num_endorse', int),   # in range [0, ...]\n",
    "                                   ('has_i_answer', bool)])\n",
    "# interp. a Piazza question with its number (no two questions in a course have\n",
    "# the same number), whether it has a student answer (has_s_answer), how many\n",
    "# endorsements the student answer has (num_endorse; 0 if there is no student\n",
    "# answer), and whether it has an instructor answer (has_i_answer).\n",
    "Q1 = Question(1, True, 4, True)\n",
    "Q2 = Question(19, False, 0, False)\n",
    "# More examples would be great, and probably needed for many functions\n",
    "# operating on Questions, but not necessary for the data definition.\n",
    "\n",
    "@typecheck # template based on compound (4 fields)\n",
    "def fn_for_question(q: Question) -> ...:\n",
    "    return ...(q.number,\n",
    "               q.has_s_answer,\n",
    "               q.num_endorse,\n",
    "               q.has_i_answer)"
   ]
  },
  {
   "cell_type": "markdown",
   "metadata": {},
   "source": [
    "## Problem 8\n",
    "\n",
    "Piazza contribution’s type can be a note, question, or answer. Piazza indicates types with\n",
    "text like `\"started_off_s_answer\"` for the start of a student answer or `\"updated_i_answer\"` for\n",
    "a change to an instructor answer. This type text will always be exactly one of “note”, “question”, or\n",
    "“answer” or it will end with an underscore “_” and then one of the same three strings, e.g.:\n",
    "\"question\" or \"changed_visibility_question\".\n",
    "\n",
    "Now, complete the design (the stub, any remaining examples/tests, the template comment, and the\n",
    "body) of matches_type below:"
   ]
  },
  {
   "cell_type": "code",
   "execution_count": 18,
   "metadata": {},
   "outputs": [
    {
     "name": "stdout",
     "output_type": "stream",
     "text": [
      "\u001b[92m11 of 11 tests passed\u001b[0m\n"
     ]
    }
   ],
   "source": [
    "# We were given the signature, purpose and an example.\n",
    "# We worked from there.\n",
    "\n",
    "@typecheck\n",
    "def matches_type(type_label: str, type_text: str) -> bool:\n",
    "    \"\"\"\n",
    "    return True if type_label is of the type indicated by type_text\n",
    "    (meaning it is either exactly equal to type_text or ends in an\n",
    "    underscore \"_\" followed by type_text) and False otherwise\n",
    "    \"\"\"\n",
    "    # Now, complete the stub, add any needed examples, complete the template\n",
    "    # comment, and complete the body.\n",
    "    \n",
    "    # We did the stub, jumped down to the examples, and then came back up \n",
    "    # for the template comment and body.\n",
    "    #return True  #stub\n",
    "    #return ...(type_label, type_text)   #template\n",
    "    \n",
    "    if type_label == type_text:\n",
    "        return True\n",
    "    else:\n",
    "        # Here is what we want to check against:\n",
    "        ending = \"_\" + type_text\n",
    "        \n",
    "        # Does type_label end in ending?\n",
    "        return type_label[-len(ending):] == ending\n",
    "    \n",
    "    # Here's a bizarre solution that is NOT BETTER than what's above.\n",
    "    # It's sometimes fun to think about these strange solutions, however.\n",
    "    #under_type_text = \"_\" + type_text\n",
    "    #under_type_label = \"_\" + type_label\n",
    "    #return under_type_label[-len(under_type_text):] == under_type_text\n",
    "\n",
    "    \n",
    "start_testing()\n",
    "\n",
    "expect(matches_type(\"foo_bar\", \"bar\"), True)\n",
    "\n",
    "# How about checking that we do NOT get a match for foo?\n",
    "# And, no match as well if we reverse foo_bar to bar_foo.\n",
    "expect(matches_type(\"foo_bar\", \"foo\"), False)\n",
    "expect(matches_type(\"bar_foo\", \"bar\"), False)\n",
    "\n",
    "# We DEFINITELY need to test when the type_text matches the whole type_label:\n",
    "expect(matches_type(\"blingle\", \"blingle\"), True)\n",
    "expect(matches_type(\"blingle\", \"ingle\"), False)\n",
    "\n",
    "# There are LOTS more tests we could imagine. But not too many add much more\n",
    "# value. We'll run with empty string tests and also a test with _ in the \n",
    "# type_text as the critical remaining ones. Not all of these would be\n",
    "# necessary on an exam, but this IS a fairly complex function to think through\n",
    "# and test, even if it's not TOO hard to implement once we've done that!\n",
    "expect(matches_type(\"\", \"\"), True)\n",
    "expect(matches_type(\"\", \"anything\"), False)\n",
    "expect(matches_type(\"almost anything\", \"\"), False)\n",
    "expect(matches_type(\"strange_case_\", \"\"), True)\n",
    "expect(matches_type(\"foo_bar\", \"_bar\"), False)\n",
    "expect(matches_type(\"foo__bar\", \"_bar\"), True)\n",
    "\n",
    "\n",
    "summary()"
   ]
  },
  {
   "cell_type": "markdown",
   "metadata": {},
   "source": [
    "## Problem 9\n",
    "\n",
    "A Piazza contribution’s type can be a note, question, or answer. Design a data definition to\n",
    "represent a contribution’s type."
   ]
  },
  {
   "cell_type": "code",
   "execution_count": 19,
   "metadata": {},
   "outputs": [],
   "source": [
    "# There are exactly three distinct values in this type; so, it should be an\n",
    "# enumeration. We chose clear names that exactly match their descriptions. If\n",
    "# you shortened them, be sure to make explicit how the cases of the\n",
    "# enumeration connect with the values described in the interpretation!\n",
    "\n",
    "Type = Enum('Type', ['note', 'question', 'answer'])\n",
    "# interp. a Piazza contribution's type, one of a note, question, or answer.\n",
    "# examples are redundant for enumerations\n",
    "\n",
    "@typecheck # template based on enumeration (3 cases)\n",
    "def fn_for_type(t: Type) -> ...:\n",
    "    if t == Type.note:\n",
    "        return ...\n",
    "    elif t == Type.question:\n",
    "        return ...\n",
    "    elif t == Type.answer:\n",
    "        return ..."
   ]
  },
  {
   "cell_type": "markdown",
   "metadata": {},
   "source": [
    "## Problem 10\n",
    "\n",
    "> Each record of a Piazza contribution includes the e-mail address of the contributor as a string\n",
    "> (which must contain the `@` sign and otherwise be a valid e-mail address, i.e., have a username with at\n",
    "> least one letter left of the `@` and a domain with at least one letter right of the `@`). There are two good\n",
    "> ways to represent this e-mail address: as a simple atomic or as a compound."
   ]
  },
  {
   "cell_type": "markdown",
   "metadata": {},
   "source": [
    "### Parts (a) and (b)\n",
    "\n",
    "> Give a single brief but clear argument for why representing the e-mail address as a simple\n",
    "> atomic is a better choice than representing it as a compound. (If you give multiple reasons, we\n",
    "> apply a penalty and then read only what we see as the first reason.)\n",
    "\n",
    "The best argument we can think of is simplicity. If we're not planning to use the parts of the e-mail address separately (e.g., if we just plan to use the whole address to identify a person or to hand off to another program to send e-mail), using simple atomic is more straightforward for the designer of the data definition and its users.\n",
    "\n",
    "> Complete only the data type definition and interpretation for a data definition to represent the\n",
    "> e-mail address as a simple atomic. (Do not provide examples or a template function.)"
   ]
  },
  {
   "cell_type": "code",
   "execution_count": 20,
   "metadata": {},
   "outputs": [],
   "source": [
    "# We know that our structure is simple atomic, but we must choose which type \n",
    "# to use. str is the clear choice, since an e-mail address is textual.\n",
    "#\n",
    "# We also have restrictions on the address that should be in our interp \n",
    "# (or perhaps, at least partly, one could use comments on the DTD line).\n",
    "\n",
    "Email = str\n",
    "# interp. an e-mail address, which must contain a username of at least one\n",
    "# letter, then an @ sign, and then a domain with at least one letter.\n",
    "\n",
    "\n",
    "# We didn't give examples/template function because they weren't requested.\n",
    "# But.. you certainly can for practice! Remember that your examples MUST be \n",
    "# consistent with the interpretation (and DTD). So, for example, there must \n",
    "# be a @ in each example!"
   ]
  },
  {
   "cell_type": "markdown",
   "metadata": {},
   "source": [
    "### Parts (c) and (d)\n",
    "\n",
    "> Give a single brief but clear argument for why representing the e-mail address as a compound\n",
    "> is a better choice than representing it as a simple atomic. (If you give multiple reasons, we\n",
    "> apply a penalty and then read only what we see as the first reason.)\n",
    "\n",
    "Now, we have to justify losing that simplicity above!\n",
    "\n",
    "Here's our best argument: If our program needs to reason about the individual parts of the address, e.g., to check if two e-mail addresses are from the same domain, then explicitly representing the two parts as their own fields will be useful and simpler for people using our data definition.\n",
    "\n",
    "You should give just one argument, but we'll talk about some others.\n",
    "\n",
    "Another good (if somewhat generic) argument might be: \"Representing the address as a compound makes it clear without special knowledge of the structure of e-mail addresses which part is the username and which is the domain.\"\n",
    "\n",
    "A fairly good (if more generic) argument would be: \"The e-mail address is made up of two clearly separate parts that belong together. So, it is naturally structured like compound data.\"\n",
    "\n",
    "Note that it's not a good argument to say something like \"representing the e-mail address as a compound lets us check more easily that an e-mail address's username has at least one letter and the domain has at least one letter\". That's because our data definition will state that an e-mail address must have at least one letter in the username and in the domain, at which point *every* value in our type will already have that. You could, however, say something like: \"Representing the e-mail address as a compound makes it easier when creating data of this type to ensure it follows the restrictions on the data (that the username and the domain each must have at least one letter) by separating the parts that have those restrictions.\"\n",
    "\n",
    "> Complete only the data type definition and interpretation for a data definition to represent the\n",
    "> e-mail address as a compound. (Do not provide examples or a template function.)"
   ]
  },
  {
   "cell_type": "code",
   "execution_count": 21,
   "metadata": {},
   "outputs": [],
   "source": [
    "Email = NamedTuple('Email', [('username', str),\n",
    "                             ('domain', str)])\n",
    "# interp. an e-mail address with its username (which must have at least one\n",
    "# letter) and its domain (which also must have at least one letter).\n",
    "\n",
    "# Here's a better interp, but the one above would be minimally acceptable:\n",
    "\n",
    "# interp. an e-mail address with its username (the part to the left of the\n",
    "# \"@\", which must have at least one letter) and its domain (the part to the\n",
    "# right of the \"@\", which also must have at least one letter)."
   ]
  },
  {
   "cell_type": "markdown",
   "metadata": {},
   "source": [
    "## Problem 11\n",
    "\n",
    "> In this problem, you will first correct mistakes in a data definition and then complete design\n",
    "of a related function."
   ]
  },
  {
   "cell_type": "markdown",
   "metadata": {},
   "source": [
    "### Part (a)\n",
    "\n",
    "> The data definition for a list of strings below contains multiple mistakes. Running the code produces\n",
    "the following error:\n",
    "> ```python\n",
    "line 15: return ...(acc)\n",
    "^\n",
    "SyntaxError: invalid syntax\n",
    "    ```\n",
    "> Neatly correct each mistake by crossing out if needed and writing your corrections/additions.\n",
    "(Unnecessary changes may be penalized.)\n",
    "\n",
    "We started with the error indicated on line 15. Happily, line 15 was marked in the code below, but there's clearly no error in syntax in that line. (The `...` part won't run because `...` is not a function, but it also doesn't produce a syntax error.) So, the syntax error must come from earlier, probably the end of the previous line of code, which is two lines up at line 13.\n",
    "\n",
    "Sure enough, there is a missing `)` at the end of that line!\n",
    "\n",
    "We've fixed it below with a comment.\n",
    "\n",
    "Then, we read line-by-line through the code, since it isn't too long, looking for mistakes.\n",
    "\n",
    "Line 1 says `# List of str`, but the data type definition line is supposed to use Python syntax to describe how we represent the data. Python understands `List[str]` but not `List of str`. (Yes, this is a comment, but anyone reading this data definition expects that line to show how to represent the type to Python, and this doesn't accomplish that.) We've fixed that line with a comment.\n",
    "\n",
    "Line 6 claims the template is based on \"one of and atomic distinct\", which just isn't true. That would be something like an enumeration template, with an if/elif/else to divide up into cases. That's not what we're doing here! We've fixed that line with a comment.\n",
    "\n",
    "Everything else looks good!"
   ]
  },
  {
   "cell_type": "code",
   "execution_count": 22,
   "metadata": {},
   "outputs": [],
   "source": [
    "# List[str]                                  # FIXED from \"List of str\"\n",
    "# interp. a list of strings\n",
    "LOS0 = []\n",
    "LOS1 = [\"module1\", \"logistics\"]\n",
    "\n",
    "# template based on arbitrary-sized          # fixed from \"based on one of\n",
    "@typecheck                                   # and atomic distinct\"\n",
    "def fn_for_los(los: List[str]) -> ...:\n",
    "    # description of accumulator\n",
    "    acc = ... # type: ...\n",
    "    \n",
    "    for s in los:\n",
    "        acc = ...(s, acc)                    # fixed by adding the closing\n",
    "                                             #  ')' at the end of the line\n",
    "    return ...(acc)                          # THIS IS LINE 15"
   ]
  },
  {
   "cell_type": "markdown",
   "metadata": {},
   "source": [
    "### Part (b)\n",
    "\n",
    "> The signature, purpose, stub, template, and single provided test for occurs_once below are\n",
    "correct and complete. Complete the design by providing any additional tests needed and neatly\n",
    "completing the body by editing the template, crossing out where needed and writing your additions.\n",
    "\n",
    "We've corrected the code below. We commented out lines that we would have crossed out like this:\n",
    "\n",
    "```python\n",
    "# STRUCK OUT: # description of accumulator\n",
    "```\n",
    "\n",
    "As we worked through the examples, we realized that we would need to track whether we had seen the `target_folder` before and a bit more. If we've seen the folder before, and we see it again, we need to know that. We eventually decided to track *how many times* we've seen the target folder, but there are other solutions that can work as well!"
   ]
  },
  {
   "cell_type": "code",
   "execution_count": 23,
   "metadata": {},
   "outputs": [
    {
     "name": "stdout",
     "output_type": "stream",
     "text": [
      "\u001b[92m6 of 6 tests passed\u001b[0m\n"
     ]
    }
   ],
   "source": [
    "@typecheck\n",
    "def occurs_once(folder_list: List[str], target_folder: str) -> bool:\n",
    "    \"\"\"\n",
    "    return True if target_folder occurs exactly once in folder_list. Return\n",
    "    False if target_folder does not occur or occurs more than once.\n",
    "    \"\"\"\n",
    "    #return True #stub\n",
    "    #template from List[str] (los renamed to folder_list) w/add'l parameter\n",
    "\n",
    "    # STRUCK OUT: # description of accumulator\n",
    "    # STRUCK OUT: acc = ...(target_folder) # type: ...\n",
    "    # NOTE: we renamed acc; you could have left it with the\n",
    "    # (acceptable but not very good) name acc, however.\n",
    "    \n",
    "    # count is the number of times target_folder appeared in the list so far\n",
    "    count = 0   # type: int\n",
    "\n",
    "    for f in folder_list:\n",
    "        if f == target_folder:\n",
    "            count = count + 1\n",
    "\n",
    "    # We return True when count is exactly equal to 1 and False otherwise.\n",
    "    return count == 1\n",
    "\n",
    "\n",
    "start_testing()\n",
    "expect(occurs_once([\"module1\", \"logistics\"], \"module1\"), True)\n",
    "\n",
    "# We've included comments to explain our thinking in choosing test cases.\n",
    "\n",
    "# Just another \"normal True example\" with a different second parameter:\n",
    "expect(occurs_once([\"module1\", \"logistics\"], \"logistics\"), True)\n",
    "\n",
    "# The target doesn't occur, including the empty list test:\n",
    "expect(occurs_once([], \"module1\"), False)\n",
    "expect(occurs_once([\"module1\", \"logistics\"], \"module2\"), False)\n",
    "\n",
    "# What if something (especially the target!) occurs more than once?\n",
    "expect(occurs_once([\"module1\", \"log\", \"module1\", \"wob\"], \"module1\"), False)\n",
    "expect(occurs_once([\"module1\", \"log\", \"module1\", \"wob\"], \"wob\"), True)\n",
    "\n",
    "# That seems like a good core set of tests.\n",
    "\n",
    "summary()"
   ]
  }
 ],
 "metadata": {
  "kernelspec": {
   "display_name": "Python 3",
   "language": "python",
   "name": "python3"
  },
  "language_info": {
   "codemirror_mode": {
    "name": "ipython",
    "version": 3
   },
   "file_extension": ".py",
   "mimetype": "text/x-python",
   "name": "python",
   "nbconvert_exporter": "python",
   "pygments_lexer": "ipython3",
   "version": "3.7.6"
  }
 },
 "nbformat": 4,
 "nbformat_minor": 4
}
