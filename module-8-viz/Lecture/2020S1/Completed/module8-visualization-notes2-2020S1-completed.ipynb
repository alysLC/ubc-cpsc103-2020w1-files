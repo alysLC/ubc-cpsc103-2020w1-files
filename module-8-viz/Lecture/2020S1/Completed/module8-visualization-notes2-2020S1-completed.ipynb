{
 "cells": [
  {
   "cell_type": "markdown",
   "metadata": {},
   "source": [
    "# Admin Notes\n",
    "\n",
    "## Project\n",
    "1. Reminder: Project final submissions are due on June 17 at 9AM (**we do not accept late submissions for this assignment**). \n",
    "1. Your TAs are aiming to give you feedback on your milestones as soon as possible but in the meantime, if you have any questions, let them know. \n",
    "1. Reminder: Be sure to schedule your project demo time by tonight (refer to Piazza for more details).\n",
    "\n",
    "## Final Exam\n",
    "1. Reminder: June 22, 2020 at 7PM (Vancouver time). Everyone will have to take it at the same time so for those of you who are in a different timezone, please adjust accordingly.\n",
    "1. Reminder: we will only test on line graphs for the final. The other types of graphs are provided for your interest and in case you need it for the final.\n",
    "\n",
    "## What's coming up?\n",
    "1. We will talk about the solution to test 2 on Tuesday. The rest of the time will be a free-form office hour where you can get help with finishing the project. \n",
    "1. Thursday's class (the last one of the semester!) will be when we look at the final exam from 2019W2. We'll release the file and have some time where you work on the question (try to simulate exam conditions if you can) and then we'll cover the answer/approaches together."
   ]
  },
  {
   "cell_type": "code",
   "execution_count": 5,
   "metadata": {},
   "outputs": [
    {
     "name": "stdout",
     "output_type": "stream",
     "text": [
      "Help on function parse_int in module cs103.parsing.parsing:\n",
      "\n",
      "parse_int(s: str) -> Union[int, NoneType]\n",
      "    return s as an integer, if possible; returns None if s is not an integer\n",
      "    \n",
      "    For example, parse_int('3') returns 3, but parse_int('3.2') and \n",
      "    parse_int('argh') both return None.\n",
      "\n"
     ]
    }
   ],
   "source": [
    "from cs103 import *\n",
    "\n",
    "# Reminders for the project\n",
    "parse_int(\"4\") # will give you 4 (as an int)\n",
    "parse_int(\"23.4\") #  will give you None (use parse_float instead!)\n",
    "parse_int(\"s\") # will give you None\n",
    "\n",
    "parse_float(\"4\") # will give you 4.0\n",
    "parse_float(\"s\") # will give you None\n",
    "parse_float(\"34.2\") # will give you 34.2 (as a float)\n",
    "\n",
    "# You can also use the built in function float() but you will get errors if a non-decimal\n",
    "# string is passed into the function whereas parse_float would just give you None in those\n",
    "# cases\n",
    "float(\"4.32\") # returns 4.32\n",
    "# float(\"s\") # throws an error\n",
    "\n",
    "# When in doubt, you can use the help function\n",
    "help(parse_int)"
   ]
  },
  {
   "cell_type": "markdown",
   "metadata": {},
   "source": [
    "# Mapping Crime in Vancouver\n",
    "\n",
    "Let's just have some plotting fun!\n",
    "\n",
    "This is loosely an HtDAP design, but we've skipped the planning stages to keep it short! We're also working from the Module 7 VPD location project for fun :)"
   ]
  },
  {
   "cell_type": "code",
   "execution_count": 11,
   "metadata": {},
   "outputs": [],
   "source": [
    "from cs103 import *\n",
    "from typing import NamedTuple, List\n",
    "from enum import Enum\n",
    "import csv\n",
    "from matplotlib import pyplot\n",
    "\n",
    "##################\n",
    "# Data Definitions\n",
    "\n",
    "CrimeData = NamedTuple('CrimeData', [('x', float),\n",
    "                                     ('y', float)])\n",
    "# interp. data about a single crime in Vancouver with its x and y location.\n",
    "# (Locations are in metres offset from a somewhat arbitrary point on the surface of\n",
    "# the earth. (Caution: locations of (0, 0) are sometimes placeholders\n",
    "# or intentionally inaccurate reports. Fortunately, that doesn't occur in the \n",
    "# subset of the data we're looking at.)\n",
    "CD1 = CrimeData(0, 0)\n",
    "CD2 = CrimeData(-3.5, 2.0)\n",
    "CD3 = CrimeData(490258.683, 5458154.503)  # sample location actually pulled from our data\n",
    "\n",
    "# template based on compound (2 fields)\n",
    "@typecheck\n",
    "def fn_for_crime_data(cd: CrimeData) -> ...:\n",
    "    return ...(cd.x,\n",
    "               cd.y)\n",
    "    \n",
    "\n",
    "# List[CrimeData]\n",
    "# interp. a list of crime data\n",
    "LOCD0 = []\n",
    "LOCD1 = [CD1, CD2]\n",
    "\n",
    "# template based on arbitrary-sized data and reference rule\n",
    "@typecheck\n",
    "def fn_for_locd(locd: List[CrimeData]) -> ...:\n",
    "    # description of accumulator\n",
    "    acc = ... # type: ...\n",
    "    \n",
    "    for cd in locd:\n",
    "        acc = ...(fn_for_crime_data(cd), acc)\n",
    "        \n",
    "    return ...(acc)\n",
    "\n",
    "\n",
    "# List[float]\n",
    "# interp. a list of floats\n",
    "LOF0 = []\n",
    "LOF1 = [0, -3.5]\n",
    "\n",
    "# template based on arbitrary-sized data\n",
    "@typecheck\n",
    "def fn_for_lof(lof: List[float]) -> ...:\n",
    "    # description of accumulator\n",
    "    acc = ... # type: ...\n",
    "    \n",
    "    for f in lof:\n",
    "        acc = ...(f, acc)\n",
    "        \n",
    "    return ...(acc)"
   ]
  },
  {
   "cell_type": "code",
   "execution_count": 12,
   "metadata": {},
   "outputs": [
    {
     "name": "stdout",
     "output_type": "stream",
     "text": [
      "\u001b[92m2 of 2 tests passed\u001b[0m\n"
     ]
    }
   ],
   "source": [
    "@typecheck\n",
    "def read(filename: str) -> List[CrimeData]:\n",
    "    \"\"\"    \n",
    "    reads information from the specified file and returns a list of crime data\n",
    "    \n",
    "    the file must be in the VPD crime format, and the x and y entries must be valid \n",
    "    floats.\n",
    "    \"\"\"\n",
    "    # Note: in future, we might want to skip (0, 0) entries, but we won't now.\n",
    "    \n",
    "    #return []  #stub\n",
    "    # Template from HtDAP\n",
    "\n",
    "    # locd contains the result so far\n",
    "    locd = [] # type: List[CrimeData]\n",
    "\n",
    "    with open(filename) as csvfile:\n",
    "        \n",
    "        reader = csv.reader(csvfile)\n",
    "        next(reader) # skip header line\n",
    "\n",
    "        for row in reader:\n",
    "            cd = CrimeData(parse_float(row[8]), parse_float(row[9]))\n",
    "            locd.append(cd)\n",
    "    \n",
    "    return locd\n",
    "\n",
    "\n",
    "\n",
    "start_testing()\n",
    "expect(read(\"testfile_empty.csv\"), []) \n",
    "expect(read(\"testfile_small.csv\"), [CrimeData(0, 0),\n",
    "                                    CrimeData(-3.5, 2.0)]) \n",
    "\n",
    "summary()\n"
   ]
  },
  {
   "cell_type": "code",
   "execution_count": 22,
   "metadata": {},
   "outputs": [
    {
     "name": "stdout",
     "output_type": "stream",
     "text": [
      "Help on function scatter in module matplotlib.pyplot:\n",
      "\n",
      "scatter(x, y, s=None, c=None, marker=None, cmap=None, norm=None, vmin=None, vmax=None, alpha=None, linewidths=None, verts=<deprecated parameter>, edgecolors=None, *, plotnonfinite=False, data=None, **kwargs)\n",
      "    A scatter plot of *y* vs. *x* with varying marker size and/or color.\n",
      "    \n",
      "    Parameters\n",
      "    ----------\n",
      "    x, y : scalar or array-like, shape (n, )\n",
      "        The data positions.\n",
      "    \n",
      "    s : scalar or array-like, shape (n, ), optional\n",
      "        The marker size in points**2.\n",
      "        Default is ``rcParams['lines.markersize'] ** 2``.\n",
      "    \n",
      "    c : color, sequence, or sequence of colors, optional\n",
      "        The marker color. Possible values:\n",
      "    \n",
      "        - A single color format string.\n",
      "        - A sequence of colors of length n.\n",
      "        - A scalar or sequence of n numbers to be mapped to colors using\n",
      "          *cmap* and *norm*.\n",
      "        - A 2-D array in which the rows are RGB or RGBA.\n",
      "    \n",
      "        Note that *c* should not be a single numeric RGB or RGBA sequence\n",
      "        because that is indistinguishable from an array of values to be\n",
      "        colormapped. If you want to specify the same RGB or RGBA value for\n",
      "        all points, use a 2-D array with a single row.  Otherwise, value-\n",
      "        matching will have precedence in case of a size matching with *x*\n",
      "        and *y*.\n",
      "    \n",
      "        Defaults to ``None``. In that case the marker color is determined\n",
      "        by the value of ``color``, ``facecolor`` or ``facecolors``. In case\n",
      "        those are not specified or ``None``, the marker color is determined\n",
      "        by the next color of the ``Axes``' current \"shape and fill\" color\n",
      "        cycle. This cycle defaults to :rc:`axes.prop_cycle`.\n",
      "    \n",
      "    marker : `~matplotlib.markers.MarkerStyle`, optional\n",
      "        The marker style. *marker* can be either an instance of the class\n",
      "        or the text shorthand for a particular marker.\n",
      "        Defaults to ``None``, in which case it takes the value of\n",
      "        :rc:`scatter.marker` = 'o'.\n",
      "        See `~matplotlib.markers` for more information about marker styles.\n",
      "    \n",
      "    cmap : `~matplotlib.colors.Colormap`, optional, default: None\n",
      "        A `.Colormap` instance or registered colormap name. *cmap* is only\n",
      "        used if *c* is an array of floats. If ``None``, defaults to rc\n",
      "        ``image.cmap``.\n",
      "    \n",
      "    norm : `~matplotlib.colors.Normalize`, optional, default: None\n",
      "        A `.Normalize` instance is used to scale luminance data to 0, 1.\n",
      "        *norm* is only used if *c* is an array of floats. If *None*, use\n",
      "        the default `.colors.Normalize`.\n",
      "    \n",
      "    vmin, vmax : scalar, optional, default: None\n",
      "        *vmin* and *vmax* are used in conjunction with *norm* to normalize\n",
      "        luminance data. If None, the respective min and max of the color\n",
      "        array is used. *vmin* and *vmax* are ignored if you pass a *norm*\n",
      "        instance.\n",
      "    \n",
      "    alpha : scalar, optional, default: None\n",
      "        The alpha blending value, between 0 (transparent) and 1 (opaque).\n",
      "    \n",
      "    linewidths : scalar or array-like, optional, default: None\n",
      "        The linewidth of the marker edges. Note: The default *edgecolors*\n",
      "        is 'face'. You may want to change this as well.\n",
      "        If *None*, defaults to :rc:`lines.linewidth`.\n",
      "    \n",
      "    edgecolors : {'face', 'none', *None*} or color or sequence of color, optional.\n",
      "        The edge color of the marker. Possible values:\n",
      "    \n",
      "        - 'face': The edge color will always be the same as the face color.\n",
      "        - 'none': No patch boundary will be drawn.\n",
      "        - A Matplotlib color or sequence of color.\n",
      "    \n",
      "        Defaults to ``None``, in which case it takes the value of\n",
      "        :rc:`scatter.edgecolors` = 'face'.\n",
      "    \n",
      "        For non-filled markers, the *edgecolors* kwarg is ignored and\n",
      "        forced to 'face' internally.\n",
      "    \n",
      "    plotnonfinite : boolean, optional, default: False\n",
      "        Set to plot points with nonfinite *c*, in conjunction with\n",
      "        `~matplotlib.colors.Colormap.set_bad`.\n",
      "    \n",
      "    Returns\n",
      "    -------\n",
      "    paths : `~matplotlib.collections.PathCollection`\n",
      "    \n",
      "    Other Parameters\n",
      "    ----------------\n",
      "    **kwargs : `~matplotlib.collections.Collection` properties\n",
      "    \n",
      "    See Also\n",
      "    --------\n",
      "    plot : To plot scatter plots when markers are identical in size and\n",
      "        color.\n",
      "    \n",
      "    Notes\n",
      "    -----\n",
      "    * The `.plot` function will be faster for scatterplots where markers\n",
      "      don't vary in size or color.\n",
      "    \n",
      "    * Any or all of *x*, *y*, *s*, and *c* may be masked arrays, in which\n",
      "      case all masks will be combined and only unmasked points will be\n",
      "      plotted.\n",
      "    \n",
      "    * Fundamentally, scatter works with 1-D arrays; *x*, *y*, *s*, and *c*\n",
      "      may be input as N-D arrays, but within scatter they will be\n",
      "      flattened. The exception is *c*, which will be flattened only if its\n",
      "      size matches the size of *x* and *y*.\n",
      "    \n",
      "    .. note::\n",
      "        In addition to the above described arguments, this function can take a\n",
      "        **data** keyword argument. If such a **data** argument is given, the\n",
      "        following arguments are replaced by **data[<arg>]**:\n",
      "    \n",
      "        * All arguments with the following names: 'c', 'color', 'edgecolors', 'facecolor', 'facecolors', 'linewidths', 's', 'x', 'y'.\n",
      "    \n",
      "        Objects passed as **data** must support item access (``data[<arg>]``) and\n",
      "        membership test (``<arg> in data``).\n",
      "\n"
     ]
    }
   ],
   "source": [
    "help(pyplot.scatter)"
   ]
  },
  {
   "cell_type": "code",
   "execution_count": 20,
   "metadata": {},
   "outputs": [
    {
     "data": {
      "image/png": "[encoded data removed]",
      "text/plain": [
       "<Figure size 432x288 with 1 Axes>"
      ]
     },
     "metadata": {
      "needs_background": "light"
     },
     "output_type": "display_data"
    },
    {
     "data": {
      "image/png": "[encoded data removed]",
      "text/plain": [
       "<Figure size 432x288 with 1 Axes>"
      ]
     },
     "metadata": {
      "needs_background": "light"
     },
     "output_type": "display_data"
    },
    {
     "name": "stdout",
     "output_type": "stream",
     "text": [
      "\u001b[92m2 of 2 tests passed\u001b[0m\n"
     ]
    },
    {
     "data": {
      "image/png": "[encoded data removed]",
      "text/plain": [
       "<Figure size 432x288 with 1 Axes>"
      ]
     },
     "metadata": {
      "needs_background": "light"
     },
     "output_type": "display_data"
    },
    {
     "data": {
      "image/png": "[encoded data removed]",
      "text/plain": [
       "<Figure size 432x288 with 1 Axes>"
      ]
     },
     "metadata": {
      "needs_background": "light"
     },
     "output_type": "display_data"
    },
    {
     "name": "stdout",
     "output_type": "stream",
     "text": [
      "\u001b[92m2 of 2 tests passed\u001b[0m\n",
      "\u001b[92m2 of 2 tests passed\u001b[0m\n",
      "\u001b[92m2 of 2 tests passed\u001b[0m\n"
     ]
    }
   ],
   "source": [
    "@typecheck\n",
    "def main(filename: str) -> None:\n",
    "    \"\"\"\n",
    "    Reads the crime data from given filename and plots its locations.\n",
    "    There's no computation here; so, this wouldn't be enough for a project.\n",
    "    (But if we also plotted the average location, maybe with a really big star,\n",
    "    that averaging computation would be enough!)\n",
    "    \"\"\"\n",
    "    # We might want to rename main, but I left it as is just to emphasize that\n",
    "    # that is OK here as well. Our file should have a good name, however!\n",
    "    \n",
    "    #return None #stub\n",
    "    # Template from HtDAP, based on function composition \n",
    "    return analyze(read(filename))     \n",
    "\n",
    "\n",
    "@typecheck\n",
    "def analyze(locd: List[CrimeData]) -> None: \n",
    "    \"\"\" \n",
    "    Plots the locations in locd.\n",
    "    \"\"\" \n",
    "    #return None  #stub\n",
    "    # Template from visualization\n",
    "    \n",
    "    x_values = get_x_locations(locd)\n",
    "    y_values = get_y_locations(locd)\n",
    "\n",
    "    # set the labels for the axes\n",
    "    pyplot.xlabel('E/W metres')\n",
    "    pyplot.ylabel('N/S metres')\n",
    "    pyplot.title('Locations of crime in.. a mystery city!')\n",
    "\n",
    "    # create the scatterplot, with markers that are \n",
    "    # blue (c='b') and little dots (marker='.')\n",
    "    pyplot.scatter(x_values,y_values, marker='.', c='b')\n",
    "\n",
    "    # show the plot\n",
    "    pyplot.show()  \n",
    "    \n",
    "    return None\n",
    "\n",
    "@typecheck\n",
    "def get_x_locations(locd: List[CrimeData]) -> List[float]:\n",
    "    \"\"\"\n",
    "    return the x locations from locd\n",
    "    \"\"\"\n",
    "    #return []  #stub\n",
    "    # template from List[CrimeData]\n",
    "    \n",
    "    # acc is the result so far\n",
    "    acc = [] # type: List[float]\n",
    "    \n",
    "    for cd in locd:\n",
    "        acc.append(cd.x)\n",
    "        \n",
    "    return acc\n",
    "\n",
    "@typecheck\n",
    "def get_y_locations(locd: List[CrimeData]) -> List[float]:\n",
    "    \"\"\"\n",
    "    return the y locations from locd\n",
    "    \"\"\"\n",
    "    #return []  #stub\n",
    "    # template from List[CrimeData]\n",
    "    \n",
    "    # acc is the result so far\n",
    "    acc = [] # type: List[float]\n",
    "    \n",
    "    for cd in locd:\n",
    "        acc.append(cd.y)\n",
    "        \n",
    "    return acc\n",
    "\n",
    "start_testing()\n",
    "# Should produce an empty plot with: title \"Locations of crime in.. a mystery city!\",\n",
    "# x and y axis labels showing east/west metres and north/south metres (respectively).\n",
    "expect(main(\"testfile_empty.csv\"), None) \n",
    "\n",
    "# Should produce a similar plot except with a point at (0,0) and another at (-3.5, 2).\n",
    "# Points should be blue dots. (On an exam I'd totally sketch this, but in Jupyter this\n",
    "# one is short enough to describe that typing this out is faster!)\n",
    "expect(main(\"testfile_small.csv\"), None)\n",
    "summary()\n",
    "\n",
    "start_testing()\n",
    "# See above (main) for descriptions of what these should produce.\n",
    "expect(analyze([]), None) \n",
    "expect(analyze([CrimeData(0, 0), CrimeData(-3.5, 2.0)]), None)\n",
    "summary()\n",
    "\n",
    "start_testing()\n",
    "expect(get_x_locations([]), []) \n",
    "expect(get_x_locations([CrimeData(0, 0), CrimeData(-3.5, 2.0)]), [0, -3.5])\n",
    "summary()\n",
    "\n",
    "start_testing()\n",
    "expect(get_y_locations([]), []) \n",
    "expect(get_y_locations([CrimeData(0, 0), CrimeData(-3.5, 2.0)]), [0, 2.0])\n",
    "summary()"
   ]
  },
  {
   "cell_type": "code",
   "execution_count": 19,
   "metadata": {},
   "outputs": [
    {
     "data": {
      "image/png": "[encoded data removed]",
      "text/plain": [
       "<Figure size 432x288 with 1 Axes>"
      ]
     },
     "metadata": {
      "needs_background": "light"
     },
     "output_type": "display_data"
    }
   ],
   "source": [
    "# Here is our overall average location!\n",
    "main(\"crimedata_subset_bne_theft_of_bike_veh_2018.csv\")"
   ]
  },
  {
   "cell_type": "markdown",
   "metadata": {},
   "source": [
    "Whoa now, what city is that? Check out [the formal boundaries of this city](https://www.google.ca/maps/place/Vancouver,+BC/@49.2578263,-123.193944,12z/data=!3m1!4b1!4m5!3m4!1s0x548673f143a94fb3:0xbb9196ea9b81f38b!8m2!3d49.2827291!4d-123.1207375).\n"
   ]
  }
 ],
 "metadata": {
  "kernelspec": {
   "display_name": "Python 3",
   "language": "python",
   "name": "python3"
  },
  "language_info": {
   "codemirror_mode": {
    "name": "ipython",
    "version": 3
   },
   "file_extension": ".py",
   "mimetype": "text/x-python",
   "name": "python",
   "nbconvert_exporter": "python",
   "pygments_lexer": "ipython3",
   "version": "3.7.7"
  }
 },
 "nbformat": 4,
 "nbformat_minor": 2
}
