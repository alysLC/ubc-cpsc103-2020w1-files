{
 "cells": [
  {
   "cell_type": "markdown",
   "metadata": {},
   "source": [
    "## Pre-Lecture Assignment Notes: The `sqrt` problem\n",
    "\n",
    "One problem from the quiz caused *lots* of trouble; the one with `sqrt` in it.\n",
    "\n",
    "Let's try the original version and some variants."
   ]
  },
  {
   "cell_type": "code",
   "execution_count": null,
   "metadata": {},
   "outputs": [],
   "source": [
    "from math import * # We need to run this once to access the sqrt function\n",
    "\n",
    "# Original\n",
    "x = 9\n",
    "sqrt(9)  "
   ]
  },
  {
   "cell_type": "code",
   "execution_count": null,
   "metadata": {},
   "outputs": [],
   "source": []
  },
  {
   "cell_type": "code",
   "execution_count": null,
   "metadata": {},
   "outputs": [],
   "source": []
  },
  {
   "cell_type": "code",
   "execution_count": null,
   "metadata": {},
   "outputs": [],
   "source": []
  },
  {
   "cell_type": "markdown",
   "metadata": {},
   "source": [
    "## A Trick for Finding the Type of a Value in Python\n",
    "\n",
    "Python's built-in function `type` can help you figure out what's going on in some of the worksheet problems when you're in doubt (but try to figure it out yourself first!). Let's try it on one example:"
   ]
  },
  {
   "cell_type": "code",
   "execution_count": null,
   "metadata": {},
   "outputs": [],
   "source": [
    "# Before you run this, predict whether the result will be int, float, or str"
   ]
  },
  {
   "cell_type": "markdown",
   "metadata": {},
   "source": [
    "## Some Quick Play with the Function to \"Repeat a String\"\n",
    "\n",
    "Let's step through one way we might solve the problem that asks you to define a function that repeats a string: "
   ]
  },
  {
   "cell_type": "code",
   "execution_count": 1,
   "metadata": {},
   "outputs": [],
   "source": []
  },
  {
   "cell_type": "code",
   "execution_count": null,
   "metadata": {},
   "outputs": [],
   "source": []
  },
  {
   "cell_type": "markdown",
   "metadata": {},
   "source": [
    "We probably won't talk about the alternatives below in class, but they make good reading!"
   ]
  },
  {
   "cell_type": "code",
   "execution_count": null,
   "metadata": {},
   "outputs": [],
   "source": [
    "def RepeatIt(thing):\n",
    "    return thing+thing\n",
    "\n",
    "def RepeatIt2(thing):\n",
    "    thing*2\n",
    "      \n",
    "def repeat_string_once(string):\n",
    "    return string*2\n",
    "\n",
    "def repeat_string_once2(string):\n",
    "    return 'cat' + 'cat'"
   ]
  },
  {
   "cell_type": "code",
   "execution_count": null,
   "metadata": {},
   "outputs": [],
   "source": [
    "# Try CALLING each of those functions in Jupyter and tracing through what happens.\n",
    "# E.g.:\n",
    "RepeatIt(\"dog\")"
   ]
  },
  {
   "cell_type": "markdown",
   "metadata": {},
   "source": [
    "## Out-of-Class Example\n",
    "\n",
    "We won't discuss this in class (unless we have *lots* of time), but you can try this, and we'll post a sample solution in the completed notes."
   ]
  },
  {
   "cell_type": "code",
   "execution_count": null,
   "metadata": {},
   "outputs": [],
   "source": [
    "# Let's write a function that takes the \"sign\" of a number.\n",
    "# We want it to return \"positive\" for a positive number, \"negative\" for a negative number, and \"zero\" for 0.\n",
    "# ASIDE: Once we learn about \"Enum\" for \"one-of\" types, we wouldn't return a string anymore in a case like this!"
   ]
  }
 ],
 "metadata": {
  "kernelspec": {
   "display_name": "Python 3",
   "language": "python",
   "name": "python3"
  },
  "language_info": {
   "codemirror_mode": {
    "name": "ipython",
    "version": 3
   },
   "file_extension": ".py",
   "mimetype": "text/x-python",
   "name": "python",
   "nbconvert_exporter": "python",
   "pygments_lexer": "ipython3",
   "version": "3.7.7"
  }
 },
 "nbformat": 4,
 "nbformat_minor": 2
}
