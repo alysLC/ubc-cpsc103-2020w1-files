{
 "cells": [
  {
   "cell_type": "markdown",
   "metadata": {},
   "source": [
    "## Pre-Lecture Assignment Notes: The `sqrt` problem\n",
    "\n",
    "One problem from the quiz caused *lots* of trouble; the one with `sqrt` in it.\n",
    "\n",
    "Let's try the original version and some variants.\n",
    "\n",
    "*NOTE:* we may not review this part in class. So, read over what's below, and try running the various versions. You may also want to add a line saying just `x` to the end of each one and re-running so you can see what `x`'s value is after the code runs.\n",
    "\n",
    "So, for example:\n",
    "\n",
    "```python\n",
    "# How about we take the square root of x instead?\n",
    "x = 9\n",
    "sqrt(x)  # x evaluates to 9; sqrt is called with 9, just like last time\n",
    "         # does nothing to x; produces 3.. but does nothing with it!\n",
    "x\n",
    "```\n",
    "\n",
    "There's also a comment or two on each to guide you toward what's happening and why."
   ]
  },
  {
   "cell_type": "code",
   "execution_count": 1,
   "metadata": {},
   "outputs": [
    {
     "data": {
      "text/plain": [
       "3.0"
      ]
     },
     "execution_count": 1,
     "metadata": {},
     "output_type": "execute_result"
    }
   ],
   "source": [
    "from math import * # We need to run this once to access the sqrt function\n",
    "\n",
    "# Original\n",
    "x = 9\n",
    "sqrt(9)  # x is uninvolved; produces 3.. but does nothing with it!"
   ]
  },
  {
   "cell_type": "code",
   "execution_count": 2,
   "metadata": {},
   "outputs": [
    {
     "data": {
      "text/plain": [
       "3.0"
      ]
     },
     "execution_count": 2,
     "metadata": {},
     "output_type": "execute_result"
    }
   ],
   "source": [
    "# How about we take the square root of x instead?\n",
    "x = 9\n",
    "sqrt(x)  # x evaluates to 9; sqrt is called with 9, just like last time\n",
    "         # does nothing to x; produces 3.. but does nothing with it!"
   ]
  },
  {
   "cell_type": "code",
   "execution_count": 3,
   "metadata": {},
   "outputs": [],
   "source": [
    "# How about we update the value of x instead?\n",
    "x = 9\n",
    " \n",
    "x = sqrt(x)  # Aha! Evaluates the right side to get 3 and\n",
    "             # puts that into the variable shown on the left."
   ]
  },
  {
   "cell_type": "code",
   "execution_count": 4,
   "metadata": {},
   "outputs": [
    {
     "data": {
      "text/plain": [
       "False"
      ]
     },
     "execution_count": 4,
     "metadata": {},
     "output_type": "execute_result"
    }
   ],
   "source": [
    "# How about we use == instead?\n",
    "x = 9\n",
    " \n",
    "x == sqrt(x) # == checks if the value of its left side equals\n",
    "             # the value of its right side. But it doesn't\n",
    "             # change anything's value!"
   ]
  },
  {
   "cell_type": "markdown",
   "metadata": {},
   "source": [
    "## A Trick for Finding the Type of a Value in Python\n",
    "\n",
    "Python's built-in function `type` can help you figure out what's going on in some of the worksheet problems when you're in doubt (but try to figure it out yourself first!). Let's try it on one example:"
   ]
  },
  {
   "cell_type": "code",
   "execution_count": 5,
   "metadata": {},
   "outputs": [
    {
     "data": {
      "text/plain": [
       "str"
      ]
     },
     "execution_count": 5,
     "metadata": {},
     "output_type": "execute_result"
    }
   ],
   "source": [
    "type('3.14')  # Before you run this, predict whether the result will be int, float, or str"
   ]
  },
  {
   "cell_type": "markdown",
   "metadata": {},
   "source": [
    "## Some Quick Play with the Function to \"Repeat a String\"\n",
    "\n",
    "Let's step through one way we might solve the problem that asks you to define a function that repeats a string: "
   ]
  },
  {
   "cell_type": "code",
   "execution_count": 6,
   "metadata": {},
   "outputs": [],
   "source": [
    "# This probably isn't the solution most of you came up with, but it does work.\n",
    "# Let's see what it looks like to call it!\n",
    "def repeat_str(s):\n",
    "    new_s = s + s\n",
    "    return new_s"
   ]
  },
  {
   "cell_type": "code",
   "execution_count": 7,
   "metadata": {},
   "outputs": [
    {
     "data": {
      "text/plain": [
       "'cs103cs103'"
      ]
     },
     "execution_count": 7,
     "metadata": {},
     "output_type": "execute_result"
    }
   ],
   "source": [
    "# Now, we'll call it.\n",
    "repeat_str(\"cs103\")"
   ]
  },
  {
   "cell_type": "code",
   "execution_count": 8,
   "metadata": {},
   "outputs": [],
   "source": [
    "# This works correctly.. but doesn't follow our rules for naming.\n",
    "# function names should be lowercase with underscores like repeat_it.\n",
    "# function and variable names should also be meaningful.\n",
    "def RepeatIt(thing):\n",
    "    return thing+thing\n",
    "\n",
    "# return is missing on this one\n",
    "# What will happen when we call it?\n",
    "def RepeatIt22(thing):\n",
    "    thing*2\n",
    "      \n",
    "# This is great!\n",
    "def repeat_string_once(string):\n",
    "    return string*2\n",
    "\n",
    "# What's wrong here?\n",
    "# What will happen with this call: repeat_string_once2('cat')\n",
    "# What will happen with this call: repeat_string_once2('dog')\n",
    "def repeat_string_once2(string):\n",
    "    return 'cat' + 'cat'"
   ]
  },
  {
   "cell_type": "code",
   "execution_count": 9,
   "metadata": {},
   "outputs": [
    {
     "data": {
      "text/plain": [
       "'hellohello CPSC103CPSC103!!!!!!'"
      ]
     },
     "execution_count": 9,
     "metadata": {},
     "output_type": "execute_result"
    }
   ],
   "source": [
    "# Let's try CALLING those functions!\n",
    "\n",
    "# We'll put just one uncommented line here so it's easy to see which call shows which result in Jupyter.\n",
    "# But, we'll make multiple function calls on that line so you can see how and why we provide different values\n",
    "# to the parameters and use the returned result:\n",
    "repeat_str('hello') + ' ' + repeat_str('CPSC103') + repeat_str('!!!')\n",
    "\n",
    "# Try replacing repeat above with RepeatIt, RepeatIt2, repeat_string_once, and repeat_string_once2.\n",
    "# Which of them work correctly? Why do the ones that don't work incorrectly?"
   ]
  },
  {
   "cell_type": "markdown",
   "metadata": {},
   "source": [
    "## Out-of-Class Example\n",
    "\n",
    "We won't discuss this in class (unless we have *lots* of time), but you can try this, and we'll post a sample solution in the completed notes."
   ]
  },
  {
   "cell_type": "code",
   "execution_count": 10,
   "metadata": {},
   "outputs": [
    {
     "data": {
      "text/plain": [
       "'-'"
      ]
     },
     "execution_count": 10,
     "metadata": {},
     "output_type": "execute_result"
    }
   ],
   "source": [
    "# Let's write a function that takes the \"sign\" of a number.\n",
    "# We want it to return \"positive\" for a positive number, \"negative\" for a negative number, and \"zero\" for 0.\n",
    "# ASIDE: Once we learn about \"Enum\" for \"one-of\" types, we wouldn't return a string anymore in a case like this!\n",
    "\n",
    "# We may not review this part together in class. So, read what's here carefully and play with it!\n",
    "\n",
    "\n",
    "# We start with def.\n",
    "# We gave the funtion a short, meaningful name.\n",
    "# We have parentheses and inside one parameter name for each piece of information we need (just one: the number).\n",
    "# We gave the parameters clear names. n will do here, since there's really nothing more we know about\n",
    "#    this number than that it is a number!\n",
    "def sign(n):\n",
    "    # The body of the function (the \"machinery\" that runs when the function is called)\n",
    "    # is everything INDENTED after the def line.\n",
    "    #\n",
    "    # Our body makes a CHOICE based on n:\n",
    "    if n == 0:\n",
    "        return \"zero\"\n",
    "    else:\n",
    "        if n > 0:\n",
    "            return \"+\"\n",
    "        else:\n",
    "            return \"-\"\n",
    "    # When the indentation ends, the function ends.\n",
    "    # That's also how an if, else, or elif works!\n",
    "\n",
    "        \n",
    "# Now, let's try running it:\n",
    "sign(-3)\n",
    "\n",
    "# BUT:\n",
    "# + how should people reading our function definition know what sign does and how to use it?\n",
    "# + isn't there some better way to make clear how \"zero\", \"+\", and \"-\" fit together\n",
    "#   to define the possible return values?\n",
    "# + how do we develop confidence that our function really WORKS?\n",
    "#\n",
    "# Let's talk about all that in the next module!"
   ]
  }
 ],
 "metadata": {
  "kernelspec": {
   "display_name": "Python 3",
   "language": "python",
   "name": "python3"
  },
  "language_info": {
   "codemirror_mode": {
    "name": "ipython",
    "version": 3
   },
   "file_extension": ".py",
   "mimetype": "text/x-python",
   "name": "python",
   "nbconvert_exporter": "python",
   "pygments_lexer": "ipython3",
   "version": "3.7.7"
  }
 },
 "nbformat": 4,
 "nbformat_minor": 2
}
