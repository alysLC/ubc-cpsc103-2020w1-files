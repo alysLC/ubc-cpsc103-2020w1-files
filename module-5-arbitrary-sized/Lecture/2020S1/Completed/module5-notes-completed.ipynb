{
 "cells": [
  {
   "cell_type": "code",
   "execution_count": 1,
   "metadata": {},
   "outputs": [],
   "source": [
    "from cs103 import *"
   ]
  },
  {
   "cell_type": "markdown",
   "metadata": {},
   "source": [
    "# Admin Notes\n",
    "\n",
    "## Test 1\n",
    "1. The first test is on **Thursday May 28 at 6PM - 7:30PM (Vancouver Time)**. Test coverage is from module 1 to the end of module 4.\n",
    "1. Be sure to read the Piazza post on important information about test 1!\n",
    "1. Reminder: Sample exams are available on Canvas.\n",
    "1. Review session on Wednesday from 2 to 4PM (more information on this on Piazza).\n",
    "1. The first question on the test will be the integrity pledge required by UBC Science. We'll post a copy of it on Piazza so you can take a look beforehand. \n",
    "1. UBC has warned us that students using Safari to do Canvas quizzes seem to be having a lot of technical difficulties. We recommend that you use Firefox or Chrome to be safe.\n",
    "1. Extra practice Zoom session for you to check your settings (Wednesday May 27 from 12-4PM).\n",
    "\n",
    "## Today\n",
    "1. We will spend 1.5 classes on Module 5\n",
    "1. You should be able to comfortably complete up to question 6 in the worksheet by the end of today. You should also be able to do questions 7 to 10."
   ]
  },
  {
   "cell_type": "markdown",
   "metadata": {},
   "source": [
    "## `List[str]` Data Definition"
   ]
  },
  {
   "cell_type": "code",
   "execution_count": 2,
   "metadata": {},
   "outputs": [],
   "source": [
    "from typing import List\n",
    "\n",
    "# List[str]\n",
    "# interp. a list of strings\n",
    "LOS0 = []\n",
    "LOS2 = [\"hello\", \"goodbye\", \"Beatles\"]\n",
    "\n",
    "@typecheck\n",
    "# template based on arbitrary-sized\n",
    "def fn_for_los(los: List[str]) -> ...:\n",
    "    # description of the accumulator\n",
    "    acc = ...   # type: ...\n",
    "\n",
    "    for s in los:\n",
    "        acc = ...(s, acc)\n",
    "\n",
    "    return ...(acc)"
   ]
  },
  {
   "cell_type": "markdown",
   "metadata": {},
   "source": [
    "## How does `return` work in a for loop?\n",
    "\n",
    "Actually `return` works the same regardless of where you use it. It looks like this: `return CODE`, where `CODE` is any expression we want to write. It evaluates `CODE`, stops the currently running function (no matter what was going on), and returns from the function with the value it got from `CODE`.\n",
    "\n",
    "(Note that we can only use `return` inside a function!)\n",
    "\n",
    "So, in a loop, it ends the loop right away!"
   ]
  },
  {
   "cell_type": "code",
   "execution_count": 3,
   "metadata": {},
   "outputs": [
    {
     "name": "stdout",
     "output_type": "stream",
     "text": [
      "\u001b[92m5 of 5 tests passed\u001b[0m\n"
     ]
    }
   ],
   "source": [
    "from cs103 import *\n",
    "\n",
    "@typecheck\n",
    "def contains_ubc(unis: List[str]) -> bool:\n",
    "    \"\"\"\n",
    "    return True if unis includes \"UBC\" else return False\n",
    "    \"\"\"\n",
    "    # return True #stub\n",
    "    # Template based on List[str]\n",
    "    for u in unis:\n",
    "        if u == \"UBC\":\n",
    "            # We've found UBC. So, we don't need to keep looking through\n",
    "            # the list unis. We already know the answer to return.\n",
    "            return True\n",
    "    return False\n",
    "\n",
    "start_testing()\n",
    "\n",
    "expect(contains_ubc([]), False)\n",
    "expect(contains_ubc([\"UW\"]), False)\n",
    "expect(contains_ubc([\"UBC\"]), True)\n",
    "expect(contains_ubc([\"McGill\", \"SFU\", \"UBC\", \"MIT\", \"Harvard\"]), True)\n",
    "expect(contains_ubc([\"McGill\", \"SFU\", \"MIT\", \"Harvard\"]), False)\n",
    "\n",
    "summary()"
   ]
  },
  {
   "cell_type": "markdown",
   "metadata": {},
   "source": [
    "## Designing a Related Function with Accumulators\n",
    "\n",
    "Let's do one more example, this time designing a different but related function.\n",
    "\n",
    "Note that essentially *all* of your accumulators' descriptions will have the words \"in the list so far\" in them. That's what accumulators do: keep track of information about what we've seen in the list so far!)"
   ]
  },
  {
   "cell_type": "code",
   "execution_count": 4,
   "metadata": {},
   "outputs": [
    {
     "name": "stdout",
     "output_type": "stream",
     "text": [
      "\u001b[92m6 of 6 tests passed\u001b[0m\n"
     ]
    }
   ],
   "source": [
    "@typecheck\n",
    "def count_UBCs(unis: List[str]) -> int:\n",
    "    \"\"\"\n",
    "    return the number of times that \"UBC\" appears in unis.\n",
    "    \"\"\"\n",
    "    #return 0 #stub\n",
    "    \n",
    "    # Templated from List[str]\n",
    "    # the number of times we have seen \"UBC\" in the part of unis seen so far\n",
    "    acc = 0   # type: int\n",
    "\n",
    "    for s in unis:\n",
    "        if s == \"UBC\":\n",
    "            acc = acc + 1\n",
    "\n",
    "    return acc\n",
    "\n",
    "start_testing()\n",
    "\n",
    "expect(count_UBCs([]), 0)\n",
    "expect(count_UBCs([\"UW\"]), 0)\n",
    "expect(count_UBCs([\"UBC\"]), 1)\n",
    "expect(count_UBCs([\"McGill\", \"SFU\", \"UBC\", \"MIT\", \"Harvard\"]), 1)\n",
    "expect(count_UBCs([\"McGill\", \"SFU\", \"MIT\", \"Harvard\"]), 0)\n",
    "expect(count_UBCs([\"UBC\", \"SFU\", \"UBC\", \"UBC\"]), 3)\n",
    "\n",
    "summary()"
   ]
  },
  {
   "cell_type": "markdown",
   "metadata": {},
   "source": [
    "P.S. Here's a fun exercise: Redesign the function body of `contains_UBC` to call `count_UBCs`. \n",
    "Is `count_UBCs` helpful to implement `contains_UBC`? "
   ]
  },
  {
   "cell_type": "markdown",
   "metadata": {},
   "source": [
    "## Designing a data definition for a list of integers\n",
    "\n",
    "**Problem:** design a data definition for a list of integers.\n",
    "\n",
    "Once we've learned how to design other data definitions and realize that a data definition for a particular problem needs to be a list, these tend to be fairly straightforward to complete. Let's practice one quickly this week.\n",
    "\n",
    "Next week, we'll see how things change (for lists, optionals, and compounds!) when a data definition we create refers to another data definition we created!"
   ]
  },
  {
   "cell_type": "code",
   "execution_count": 5,
   "metadata": {},
   "outputs": [],
   "source": [
    "# Note: if the problem were, say, \"design a data definition for a list of integer \n",
    "# bank balances in cents\", we might want to give the new type a name, like:\n",
    "#\n",
    "#   BankBalances = List[int]\n",
    "#\n",
    "# However, often just List[int], List[str], or the like is a good name already.\n",
    "# In that case, the data type definition line isn't creating anything new to Python.\n",
    "# So, it is just for us, and we can leave it in comments.\n",
    "\n",
    "# List[int]\n",
    "# interp. a list of integers\n",
    "LOI0 = []\n",
    "LOI1 = [-4, 20, 3]\n",
    "\n",
    "\n",
    "# NOTE: you should NEVER have \"description of accumulator\" in a real function that operates\n",
    "# on a list! Instead, you should have an actual description of any accumulator you use!\n",
    "\n",
    "# template based on arbitrary-sized\n",
    "@typecheck\n",
    "def fn_for_loi(loi: List[int]) -> ...:\n",
    "    # description of accumulator\n",
    "    acc = ...   # type: ...\n",
    "    \n",
    "    for i in loi:\n",
    "        acc = ...(i, acc)\n",
    "        \n",
    "    return ...(acc)    "
   ]
  },
  {
   "cell_type": "markdown",
   "metadata": {},
   "source": [
    "## Fun with a Large-ish Information Set\n",
    "\n",
    "The data below represents the length of episodes from a TV show in minutes. We have examples for only one episode of a show (Friends), a full season of a show (Game of Thrones), and a whole show (The Good Place)."
   ]
  },
  {
   "cell_type": "code",
   "execution_count": 6,
   "metadata": {},
   "outputs": [],
   "source": [
    "from cs103 import *\n",
    "from typing import List\n",
    "\n",
    "EpisodeDurations = List[float] # in range [0, ...]\n",
    "# interp. the duration of episodes in minutes for some number of episodes of a TV Show\n",
    "\n",
    "ED0 = []\n",
    "ED_FRIENDS_S01E01 = [22.8]\n",
    "ED_GAME_OF_THRONES_S01 = [61.62, 55.28, 57.23, 55.62, 54.27, 52.6, 57.79, 58.13, 56.27, 52.62]\n",
    "ED_GOOD_PLACE = [\n",
    "    26.27, 21.50, 24.90, 22.55, 26.30, 26.35, 24.23, 25.23, 24.88, 23.78, \n",
    "    26.62, 21.53, 26.88, 42.68, 21.60, 23.92, 25.37, 24.65, 23.28, 23.72, \n",
    "    21.60, 24.78, 22.77, 23.47, 24.33, 21.60, 21.55, 21.60, 21.60, 21.60, \n",
    "    21.53, 21.55, 21.53, 21.53, 22.53, 21.53, 21.53, 21.53, 22.42, 21.40, \n",
    "    21.42, 21.43, 21.43, 21.42, 21.42, 21.40, 21.42, 21.42, 21.45, 21.43, \n",
    "    52.48\n",
    "]\n",
    "\n",
    "# template based on arbitrary-sized\n",
    "@typecheck\n",
    "def fn_for_ed(ed: EpisodeDurations) -> ...:\n",
    "    # description of the accumulator\n",
    "    acc = ...   # type: ...\n",
    "\n",
    "    for duration in ed:\n",
    "        acc = ...(duration, acc)\n",
    "\n",
    "    return ...(acc)"
   ]
  },
  {
   "cell_type": "markdown",
   "metadata": {},
   "source": [
    "Now, let's **design a function that finds the average duration (in minutes) of all episodes in an `EpisodeDurations`**.\n",
    "\n",
    "We're going to end up using multiple accumulators in this design. Template functions in data definitions give you code that *may* be useful to you, but you might decide not to use some pieces, to add or duplicate pieces, or to insert into the template code that isn't suggested by the template at all. For the list template, the accumulator is a suggestion: you may not need one, you may need one, or in rare cases where you're tracking multiple different evolving pieces of information through the loop, you may need multiple!"
   ]
  },
  {
   "cell_type": "code",
   "execution_count": 7,
   "metadata": {},
   "outputs": [
    {
     "name": "stdout",
     "output_type": "stream",
     "text": [
      "\u001b[92m5 of 5 tests passed\u001b[0m\n"
     ]
    }
   ],
   "source": [
    "@typecheck\n",
    "def avg_episode_duration(ed: EpisodeDurations) -> float:\n",
    "    \"\"\"\n",
    "    Return the average duration (in minutes) of the episodes in ed.\n",
    "    \n",
    "    (The average duration of zero episodes is returned as 0.)\n",
    "    \"\"\"\n",
    "    #return 0.0  #stub\n",
    "    # Template from EpisodeDurations\n",
    "    \n",
    "    # To average some numbers, I need to know the sum of the numbers\n",
    "    # and the count of the numbers. (The average then equals the sum \n",
    "    # divided by the count.) \n",
    "    #\n",
    "    # So, I need TWO accumulators. \n",
    "    \n",
    "    # the total of all episode durations seen so far\n",
    "    sum = 0.0   # type: float\n",
    "\n",
    "    # the number of episodes seen so far\n",
    "    count = 0   # type: int\n",
    "\n",
    "    for duration in ed:\n",
    "        # I modified my template to this so I'd remember to update each accumulator:\n",
    "        #sum = ...(duration, sum)\n",
    "        #count = ...(duration, count)\n",
    "\n",
    "        sum = sum + duration\n",
    "        count = count + 1\n",
    "\n",
    "    # When we got to testing, we realized the empty list is tricky.\n",
    "    # What's the average length of zero episodes?\n",
    "    #\n",
    "    # We had to make a design decision (disallow empty lists? return 0? something else?).\n",
    "    # So, we documented it in the purpose above.\n",
    "    if count > 0:\n",
    "        return sum / count\n",
    "    else:\n",
    "        return 0.0\n",
    "    \n",
    "start_testing()\n",
    "\n",
    "expect(avg_episode_duration([]), 0.0)\n",
    "expect(avg_episode_duration([1, 1, 1, 1, 1]), 1)\n",
    "expect(avg_episode_duration([100.12, 12.1]), (100.12+12.1)/2)\n",
    "expect(avg_episode_duration(ED_GAME_OF_THRONES_S01), (61.62+55.28+57.23+55.62+54.27+52.6+57.79+58.13+56.27+52.62)/10)\n",
    "expect(avg_episode_duration(ED_FRIENDS_S01E01), 22.8)\n",
    "\n",
    "summary()"
   ]
  },
  {
   "cell_type": "code",
   "execution_count": 8,
   "metadata": {},
   "outputs": [
    {
     "data": {
      "text/plain": [
       "'The Good Place is the smartest, dumbest 24 minutes on television.'"
      ]
     },
     "execution_count": 8,
     "metadata": {},
     "output_type": "execute_result"
    }
   ],
   "source": [
    "# Now, what we all came here for; the average episode length of The Good Place:\n",
    "\"The Good Place is the smartest, dumbest \" + str(round(avg_episode_duration(ED_GOOD_PLACE))) + \" minutes on television.\""
   ]
  },
  {
   "cell_type": "markdown",
   "metadata": {},
   "source": [
    "## Extra Accumulator Example\n",
    "\n",
    "Template functions in data definitions give you code that *may* be useful to you, but you might decide not to use some pieces, to add or duplicate pieces, or to insert into the template code that isn't suggested by the template at all.\n",
    "\n",
    "Let's rewrite `contains_UBC` to use an accumulator to track whether we have seen \"UBC\" in the list so far.\n",
    "\n",
    "Note that essentially *all* of your accumulators' descriptions will have the words \"in the list so far\" in them. That's what accumulators do: keep track of information about what we've seen in the list so far!)"
   ]
  },
  {
   "cell_type": "code",
   "execution_count": 1,
   "metadata": {},
   "outputs": [
    {
     "ename": "NameError",
     "evalue": "name 'typecheck' is not defined",
     "output_type": "error",
     "traceback": [
      "\u001b[0;31m---------------------------------------------------------------------------\u001b[0m",
      "\u001b[0;31mNameError\u001b[0m                                 Traceback (most recent call last)",
      "\u001b[0;32m<ipython-input-1-51f8f39bde1e>\u001b[0m in \u001b[0;36m<module>\u001b[0;34m\u001b[0m\n\u001b[0;32m----> 1\u001b[0;31m \u001b[0;34m@\u001b[0m\u001b[0mtypecheck\u001b[0m\u001b[0;34m\u001b[0m\u001b[0;34m\u001b[0m\u001b[0m\n\u001b[0m\u001b[1;32m      2\u001b[0m \u001b[0;32mdef\u001b[0m \u001b[0mcontains_UBC_with_accumulator\u001b[0m\u001b[0;34m(\u001b[0m\u001b[0munis\u001b[0m\u001b[0;34m:\u001b[0m \u001b[0mList\u001b[0m\u001b[0;34m[\u001b[0m\u001b[0mstr\u001b[0m\u001b[0;34m]\u001b[0m\u001b[0;34m)\u001b[0m \u001b[0;34m->\u001b[0m \u001b[0mbool\u001b[0m\u001b[0;34m:\u001b[0m\u001b[0;34m\u001b[0m\u001b[0;34m\u001b[0m\u001b[0m\n\u001b[1;32m      3\u001b[0m     \"\"\"\n\u001b[1;32m      4\u001b[0m     \u001b[0;32mreturn\u001b[0m \u001b[0;32mTrue\u001b[0m \u001b[0;32mif\u001b[0m \u001b[0munis\u001b[0m \u001b[0mincludes\u001b[0m \u001b[0;34m\"UBC\"\u001b[0m \u001b[0;32melse\u001b[0m \u001b[0;32mreturn\u001b[0m \u001b[0;32mFalse\u001b[0m\u001b[0;34m\u001b[0m\u001b[0;34m\u001b[0m\u001b[0m\n\u001b[1;32m      5\u001b[0m     \"\"\"\n",
      "\u001b[0;31mNameError\u001b[0m: name 'typecheck' is not defined"
     ]
    }
   ],
   "source": [
    "@typecheck\n",
    "def contains_UBC_with_accumulator(unis: List[str]) -> bool:\n",
    "    \"\"\"\n",
    "    return True if unis includes \"UBC\" else return False\n",
    "    \"\"\"\n",
    "    #return True #stub\n",
    "    \n",
    "    # Templated from List[str]\n",
    "    # whether we have seen \"UBC\" in the part of unis seen so far\n",
    "    acc = False   # type: bool\n",
    "\n",
    "    for s in unis:\n",
    "        if s == \"UBC\":\n",
    "            acc = True\n",
    "\n",
    "    return acc\n",
    "\n",
    "start_testing()\n",
    "\n",
    "expect(contains_UBC_with_accumulator([]), False)\n",
    "expect(contains_UBC_with_accumulator([\"UW\"]), False)\n",
    "expect(contains_UBC_with_accumulator([\"UBC\"]), True)\n",
    "expect(contains_UBC_with_accumulator([\"McGill\", \"SFU\", \"UBC\", \"MIT\", \"Harvard\"]), True)\n",
    "expect(contains_UBC_with_accumulator([\"McGill\", \"SFU\", \"MIT\", \"Harvard\"]), False)\n",
    "\n",
    "summary()"
   ]
  },
  {
   "cell_type": "code",
   "execution_count": 2,
   "metadata": {},
   "outputs": [
    {
     "ename": "TypeError",
     "evalue": "'int' object is not iterable",
     "output_type": "error",
     "traceback": [
      "\u001b[0;31m---------------------------------------------------------------------------\u001b[0m",
      "\u001b[0;31mTypeError\u001b[0m                                 Traceback (most recent call last)",
      "\u001b[0;32m<ipython-input-2-09126a77772e>\u001b[0m in \u001b[0;36m<module>\u001b[0;34m\u001b[0m\n\u001b[0;32m----> 1\u001b[0;31m \u001b[0msum\u001b[0m\u001b[0;34m(\u001b[0m\u001b[0;36m4\u001b[0m\u001b[0;34m,\u001b[0m \u001b[0;36m5\u001b[0m\u001b[0;34m)\u001b[0m\u001b[0;34m\u001b[0m\u001b[0;34m\u001b[0m\u001b[0m\n\u001b[0m",
      "\u001b[0;31mTypeError\u001b[0m: 'int' object is not iterable"
     ]
    }
   ],
   "source": [
    "sum(4, 5)"
   ]
  },
  {
   "cell_type": "code",
   "execution_count": null,
   "metadata": {},
   "outputs": [],
   "source": []
  }
 ],
 "metadata": {
  "kernelspec": {
   "display_name": "Python 3",
   "language": "python",
   "name": "python3"
  },
  "language_info": {
   "codemirror_mode": {
    "name": "ipython",
    "version": 3
   },
   "file_extension": ".py",
   "mimetype": "text/x-python",
   "name": "python",
   "nbconvert_exporter": "python",
   "pygments_lexer": "ipython3",
   "version": "3.7.7"
  }
 },
 "nbformat": 4,
 "nbformat_minor": 2
}
